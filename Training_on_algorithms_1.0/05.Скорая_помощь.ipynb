{
 "cells": [
  {
   "cell_type": "markdown",
   "id": "cdb5ef70",
   "metadata": {},
   "source": [
    "### E. Скорая помощь\n",
    "* Ограничение времени: 1 секунда\n",
    "* Ограничение памяти: 64Mb\n",
    "* Ввод: стандартный ввод или input.txt\n",
    "* Вывод: стандартный вывод или output.txt\n",
    "\n",
    "Бригада скорой помощи выехала по вызову в один из отделенных районов. К сожалению, когда диспетчер получил вызов, он успел записать только адрес дома и номер квартиры $K_1$, а затем связь прервалась. Однако он вспомнил, что по этому же адресу дома некоторое время назад скорая помощь выезжала в квартиру $K_2$, которая расположена в подъезда $P_2$ на этаже $N_2$. Известно, что в доме $M$ этажей и количество квартир на каждой лестничной площадке одинаково. Напишите программу, которая вычилсяет номер подъезда $P_1$ и номер этажа $N_1$ квартиры $K_1$.\n",
    "#### Формат ввода:\n",
    "\n",
    "Во входном файле записаны пять положительных целых чисел $K_1$, $M$, $K_2$, $P_2$, $N_2$. Все числа не превосходят $10^6$.\n",
    "#### Формат вывода:\n",
    "\n",
    "Выведите два числа $P_1$ и $N_1$. Если входные данные не позволяют однозначно определить $P_1$ или $N_1$, вместо соответствующего числа напечатайте 0. Если входные данные противоречивы, напечатайте два числа –1 (минус один). "
   ]
  },
  {
   "cell_type": "markdown",
   "id": "fbe5cfa9",
   "metadata": {},
   "source": [
    "Пример 1:\n",
    "\n",
    "Ввод:\n",
    "\n",
    "`89 20 41 1 11`\n",
    "\n",
    "Вывод:\n",
    "\n",
    "`2 3`\n",
    "\n",
    "Пример 2:\n",
    "\n",
    "Ввод:\n",
    "\n",
    "`11 1 1 1 1`\n",
    "\n",
    "Вывод:\n",
    "\n",
    "`0 1`\n",
    "\n",
    "Пример 3:\n",
    "\n",
    "Ввод:\n",
    "\n",
    "`3 2 2 2 1`\n",
    "\n",
    "Вывод:\n",
    "\n",
    "`-1 -1`"
   ]
  },
  {
   "cell_type": "code",
   "execution_count": 3,
   "id": "9c043505",
   "metadata": {},
   "outputs": [
    {
     "name": "stdout",
     "output_type": "stream",
     "text": [
      "89 20 41 1 11\n"
     ]
    }
   ],
   "source": [
    "k1, m, k2, p2, n2 = [int(i) for i in input().split(\" \")]"
   ]
  },
  {
   "cell_type": "code",
   "execution_count": 11,
   "id": "ed185d37",
   "metadata": {},
   "outputs": [],
   "source": [
    "def SMP(k1, m, k2, p2, n2):\n",
    "    def num_apartments_per_floor(m, k2, p2, n2):\n",
    "        apartments = 1\n",
    "        flag = False\n",
    "        while flag != True:\n",
    "            if (k2 > apartments * (p2-1) * m + apartments * (n2-1)) and (k2 <= apartments * (p2-1) * m + apartments * n2):\n",
    "                flag = True\n",
    "            else:\n",
    "                apartments += 1\n",
    "        return apartments\n",
    "    num_apartments = num_apartments_per_floor(m, k2, p2, n2)\n",
    "    p1 = k1 // (m * num_apartments) + 1\n",
    "    n1 = (k1 - (p1-1) * m * num_apartments) // num_apartments + 1\n",
    "    return p1, n1"
   ]
  },
  {
   "cell_type": "code",
   "execution_count": 12,
   "id": "77a17b54",
   "metadata": {},
   "outputs": [
    {
     "data": {
      "text/plain": [
       "(2, 3)"
      ]
     },
     "execution_count": 12,
     "metadata": {},
     "output_type": "execute_result"
    }
   ],
   "source": [
    "# Test 1\n",
    "SMP(89, 20, 41, 1, 11)\n",
    "# 2 3"
   ]
  },
  {
   "cell_type": "code",
   "execution_count": 13,
   "id": "d7f6e47e",
   "metadata": {},
   "outputs": [
    {
     "data": {
      "text/plain": [
       "(12, 1)"
      ]
     },
     "execution_count": 13,
     "metadata": {},
     "output_type": "execute_result"
    }
   ],
   "source": [
    "# Test 2\n",
    "SMP(11, 1, 1, 1, 1)\n",
    "# 0 1"
   ]
  },
  {
   "cell_type": "code",
   "execution_count": 16,
   "id": "10266e89",
   "metadata": {},
   "outputs": [
    {
     "data": {
      "text/plain": [
       "(3, 7)"
      ]
     },
     "execution_count": 16,
     "metadata": {},
     "output_type": "execute_result"
    }
   ],
   "source": [
    "# Test 4\n",
    "SMP(98, 9, 77, 3, 2)"
   ]
  },
  {
   "cell_type": "code",
   "execution_count": 4,
   "id": "6228cabc",
   "metadata": {},
   "outputs": [
    {
     "ename": "KeyboardInterrupt",
     "evalue": "",
     "output_type": "error",
     "traceback": [
      "\u001b[1;31m---------------------------------------------------------------------------\u001b[0m",
      "\u001b[1;31mKeyboardInterrupt\u001b[0m                         Traceback (most recent call last)",
      "\u001b[1;32m<ipython-input-4-4ae6ada1895a>\u001b[0m in \u001b[0;36m<module>\u001b[1;34m\u001b[0m\n\u001b[0;32m      1\u001b[0m \u001b[1;31m# Test 3\u001b[0m\u001b[1;33m\u001b[0m\u001b[1;33m\u001b[0m\u001b[1;33m\u001b[0m\u001b[0m\n\u001b[1;32m----> 2\u001b[1;33m \u001b[0mSMP\u001b[0m\u001b[1;33m(\u001b[0m\u001b[1;36m3\u001b[0m\u001b[1;33m,\u001b[0m \u001b[1;36m2\u001b[0m\u001b[1;33m,\u001b[0m \u001b[1;36m2\u001b[0m\u001b[1;33m,\u001b[0m \u001b[1;36m2\u001b[0m\u001b[1;33m,\u001b[0m \u001b[1;36m1\u001b[0m\u001b[1;33m)\u001b[0m\u001b[1;33m\u001b[0m\u001b[1;33m\u001b[0m\u001b[0m\n\u001b[0m\u001b[0;32m      3\u001b[0m \u001b[1;31m# -1 -1\u001b[0m\u001b[1;33m\u001b[0m\u001b[1;33m\u001b[0m\u001b[1;33m\u001b[0m\u001b[0m\n",
      "\u001b[1;32m<ipython-input-1-4bdfdff3c75e>\u001b[0m in \u001b[0;36mSMP\u001b[1;34m(k1, m, k2, p2, n2)\u001b[0m\n\u001b[0;32m      9\u001b[0m                 \u001b[0mapartments\u001b[0m \u001b[1;33m+=\u001b[0m \u001b[1;36m1\u001b[0m\u001b[1;33m\u001b[0m\u001b[1;33m\u001b[0m\u001b[0m\n\u001b[0;32m     10\u001b[0m         \u001b[1;32mreturn\u001b[0m \u001b[0mapartments\u001b[0m\u001b[1;33m\u001b[0m\u001b[1;33m\u001b[0m\u001b[0m\n\u001b[1;32m---> 11\u001b[1;33m     \u001b[1;32mreturn\u001b[0m \u001b[0mnum_apartments_per_floor\u001b[0m\u001b[1;33m(\u001b[0m\u001b[0mm\u001b[0m\u001b[1;33m,\u001b[0m \u001b[0mk2\u001b[0m\u001b[1;33m,\u001b[0m \u001b[0mp2\u001b[0m\u001b[1;33m,\u001b[0m \u001b[0mn2\u001b[0m\u001b[1;33m)\u001b[0m\u001b[1;33m\u001b[0m\u001b[1;33m\u001b[0m\u001b[0m\n\u001b[0m",
      "\u001b[1;32m<ipython-input-1-4bdfdff3c75e>\u001b[0m in \u001b[0;36mnum_apartments_per_floor\u001b[1;34m(m, k2, p2, n2)\u001b[0m\n\u001b[0;32m      4\u001b[0m         \u001b[0mflag\u001b[0m \u001b[1;33m=\u001b[0m \u001b[1;32mFalse\u001b[0m\u001b[1;33m\u001b[0m\u001b[1;33m\u001b[0m\u001b[0m\n\u001b[0;32m      5\u001b[0m         \u001b[1;32mwhile\u001b[0m \u001b[0mflag\u001b[0m \u001b[1;33m!=\u001b[0m \u001b[1;32mTrue\u001b[0m\u001b[1;33m:\u001b[0m\u001b[1;33m\u001b[0m\u001b[1;33m\u001b[0m\u001b[0m\n\u001b[1;32m----> 6\u001b[1;33m             \u001b[1;32mif\u001b[0m \u001b[1;33m(\u001b[0m\u001b[0mk2\u001b[0m \u001b[1;33m>\u001b[0m \u001b[0mapartments\u001b[0m \u001b[1;33m*\u001b[0m \u001b[1;33m(\u001b[0m\u001b[0mp2\u001b[0m\u001b[1;33m-\u001b[0m\u001b[1;36m1\u001b[0m\u001b[1;33m)\u001b[0m \u001b[1;33m*\u001b[0m \u001b[0mm\u001b[0m \u001b[1;33m+\u001b[0m \u001b[0mapartments\u001b[0m \u001b[1;33m*\u001b[0m \u001b[1;33m(\u001b[0m\u001b[0mn2\u001b[0m\u001b[1;33m-\u001b[0m\u001b[1;36m1\u001b[0m\u001b[1;33m)\u001b[0m\u001b[1;33m)\u001b[0m \u001b[1;32mand\u001b[0m \u001b[1;33m(\u001b[0m\u001b[0mk2\u001b[0m \u001b[1;33m<=\u001b[0m \u001b[0mapartments\u001b[0m \u001b[1;33m*\u001b[0m \u001b[1;33m(\u001b[0m\u001b[0mp2\u001b[0m\u001b[1;33m-\u001b[0m\u001b[1;36m1\u001b[0m\u001b[1;33m)\u001b[0m \u001b[1;33m*\u001b[0m \u001b[0mm\u001b[0m \u001b[1;33m+\u001b[0m \u001b[0mapartments\u001b[0m \u001b[1;33m*\u001b[0m \u001b[0mn2\u001b[0m\u001b[1;33m)\u001b[0m\u001b[1;33m:\u001b[0m\u001b[1;33m\u001b[0m\u001b[1;33m\u001b[0m\u001b[0m\n\u001b[0m\u001b[0;32m      7\u001b[0m                 \u001b[0mflag\u001b[0m \u001b[1;33m=\u001b[0m \u001b[1;32mTrue\u001b[0m\u001b[1;33m\u001b[0m\u001b[1;33m\u001b[0m\u001b[0m\n\u001b[0;32m      8\u001b[0m             \u001b[1;32melse\u001b[0m\u001b[1;33m:\u001b[0m\u001b[1;33m\u001b[0m\u001b[1;33m\u001b[0m\u001b[0m\n",
      "\u001b[1;31mKeyboardInterrupt\u001b[0m: "
     ]
    }
   ],
   "source": [
    "# Test 3\n",
    "SMP(3, 2, 2, 2, 1)\n",
    "# -1 -1"
   ]
  },
  {
   "cell_type": "code",
   "execution_count": null,
   "id": "cd363b03",
   "metadata": {},
   "outputs": [],
   "source": []
  }
 ],
 "metadata": {
  "kernelspec": {
   "display_name": "Python 3",
   "language": "python",
   "name": "python3"
  },
  "language_info": {
   "codemirror_mode": {
    "name": "ipython",
    "version": 3
   },
   "file_extension": ".py",
   "mimetype": "text/x-python",
   "name": "python",
   "nbconvert_exporter": "python",
   "pygments_lexer": "ipython3",
   "version": "3.8.8"
  }
 },
 "nbformat": 4,
 "nbformat_minor": 5
}
