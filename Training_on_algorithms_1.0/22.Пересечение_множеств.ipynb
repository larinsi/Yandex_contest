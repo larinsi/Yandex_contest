{
 "cells": [
  {
   "cell_type": "markdown",
   "id": "39773352",
   "metadata": {},
   "source": [
    "### B. Пересечение множеств\n",
    "* Ограничение времени: 1 секунда\n",
    "* Ограничение памяти: 64Mb\n",
    "* Ввод: стандартный ввод или input.txt\n",
    "* Вывод: стандартный вывод или output.txt\n",
    "\n",
    "Даны два списка чисел, которые могут содержать до 10000 чисел каждый. Выведите все числа, которые входят как в первый, так и во второй список в порядке возрастания. Примечание. И даже эту задачу на Питоне можно решить в одну строчку.\n",
    "#### Формат ввода\n",
    "\n",
    "Вводятся два списка целых чисел. Все числа каждого списка находятся на отдельной строке.\n",
    "#### Формат вывода\n",
    "\n",
    "Выведите ответ на задачу. "
   ]
  },
  {
   "cell_type": "markdown",
   "id": "55df228c",
   "metadata": {},
   "source": [
    "Пример 1:\n",
    "\n",
    "Ввод:\n",
    "```\n",
    "1 3 2\n",
    "4 3 2\n",
    "```\n",
    "Вывод:\n",
    "```\n",
    "2 3\n",
    "```\n",
    "Пример 2:\n",
    "\n",
    "Ввод:\n",
    "```\n",
    "1 2 6 4 5 7\n",
    "10 2 3 4 8\n",
    "```\n",
    "Вывод:\n",
    "```\n",
    "2 4\n",
    "```"
   ]
  },
  {
   "cell_type": "code",
   "execution_count": 1,
   "id": "a697feab",
   "metadata": {},
   "outputs": [],
   "source": [
    "def intersection(array1: list, array2: list):\n",
    "    result = []\n",
    "    array1 = set(array1)\n",
    "    array2 = set(array2)\n",
    "    if len(array1) < len(array2):\n",
    "        array1, array2 = array2, array1\n",
    "    for elem in array1:\n",
    "        if elem in array2:\n",
    "            result.append(elem)\n",
    "    result.sort()\n",
    "    print(\" \".join([str(elem) for elem in result]))"
   ]
  },
  {
   "cell_type": "code",
   "execution_count": 2,
   "id": "5268bc66",
   "metadata": {},
   "outputs": [
    {
     "name": "stdout",
     "output_type": "stream",
     "text": [
      "2 3\n"
     ]
    }
   ],
   "source": [
    "# Test 1\n",
    "intersection([1, 3, 2], [4, 3, 2])\n",
    "# 2 3"
   ]
  },
  {
   "cell_type": "code",
   "execution_count": 3,
   "id": "ba3f23e3",
   "metadata": {},
   "outputs": [
    {
     "name": "stdout",
     "output_type": "stream",
     "text": [
      "2 4\n"
     ]
    }
   ],
   "source": [
    "# Test 2\n",
    "intersection([1, 2, 6, 4, 5, 7], [10, 2, 3, 4, 8])\n",
    "# 2 4"
   ]
  },
  {
   "cell_type": "code",
   "execution_count": null,
   "id": "52280166",
   "metadata": {},
   "outputs": [],
   "source": []
  }
 ],
 "metadata": {
  "kernelspec": {
   "display_name": "Python 3",
   "language": "python",
   "name": "python3"
  },
  "language_info": {
   "codemirror_mode": {
    "name": "ipython",
    "version": 3
   },
   "file_extension": ".py",
   "mimetype": "text/x-python",
   "name": "python",
   "nbconvert_exporter": "python",
   "pygments_lexer": "ipython3",
   "version": "3.8.8"
  }
 },
 "nbformat": 4,
 "nbformat_minor": 5
}
