{
 "cells": [
  {
   "cell_type": "markdown",
   "id": "ffbde325",
   "metadata": {},
   "source": [
    "### E. Пирамида\n",
    "* Ограничение времени: 1 секунда\n",
    "* Ограничение памяти: 64Mb\n",
    "* Ввод: стандартный ввод или input.txt\n",
    "* Вывод: стандартный вывод или output.txt\n",
    "\n",
    "Для строительство двухмерной пирамиды используются прямоугольные блоки, каждый из которых характеризуется шириной и высотой. Можно поставить один блок на другой, только если ширина верхнего блока строго меньше ширины нижнего. Самым нижним в пирамиде может быть блок любой ширины. По заданному набору блоков определите, пирамиду какой наибольшей высоты можно построить из них.\n",
    "\n",
    "#### Формат ввода\n",
    "В первой строке входных данных задается число `N` — количество блоков $(1≤N≤100000)$.\n",
    "\n",
    "В следующий `N` строках задаются пары натуральных чисел $w_i$ и $h_i$ $(1≤w_i,h_i≤10^9)$ — ширина и высота блока соответственно.\n",
    "\n",
    "#### Формат вывода\n",
    "Выведите одно целое число — максимальную высоту пирамиды. "
   ]
  },
  {
   "cell_type": "markdown",
   "id": "c62c73f2",
   "metadata": {},
   "source": [
    "Пример:\n",
    "\n",
    "Ввод:\n",
    "```\n",
    "3\n",
    "3 1\n",
    "2 2\n",
    "3 3\n",
    "```\n",
    "Вывод:\n",
    "```\n",
    "5\n",
    "```"
   ]
  },
  {
   "cell_type": "code",
   "execution_count": 13,
   "id": "14b67fc0",
   "metadata": {},
   "outputs": [],
   "source": [
    "def pyramid():\n",
    "    max_height = 0\n",
    "    blocks = {}\n",
    "    n = int(input())\n",
    "    for i in range(n):\n",
    "        block = list(map(int, input().split()))\n",
    "        if block[0] not in blocks:\n",
    "            blocks[block[0]] = block[1]\n",
    "        else:\n",
    "            blocks[block[0]] = max(blocks[block[0]], block[1])\n",
    "    for width in blocks.keys():\n",
    "        max_height += blocks[width]\n",
    "    print(max_height)"
   ]
  },
  {
   "cell_type": "code",
   "execution_count": 14,
   "id": "98564e2e",
   "metadata": {},
   "outputs": [
    {
     "name": "stdout",
     "output_type": "stream",
     "text": [
      "3\n",
      "3 1\n",
      "2 2\n",
      "3 3\n",
      "5\n"
     ]
    }
   ],
   "source": [
    "pyramid()"
   ]
  },
  {
   "cell_type": "code",
   "execution_count": null,
   "id": "54e1e0f4",
   "metadata": {},
   "outputs": [],
   "source": []
  }
 ],
 "metadata": {
  "kernelspec": {
   "display_name": "Python 3",
   "language": "python",
   "name": "python3"
  },
  "language_info": {
   "codemirror_mode": {
    "name": "ipython",
    "version": 3
   },
   "file_extension": ".py",
   "mimetype": "text/x-python",
   "name": "python",
   "nbconvert_exporter": "python",
   "pygments_lexer": "ipython3",
   "version": "3.8.8"
  }
 },
 "nbformat": 4,
 "nbformat_minor": 5
}
