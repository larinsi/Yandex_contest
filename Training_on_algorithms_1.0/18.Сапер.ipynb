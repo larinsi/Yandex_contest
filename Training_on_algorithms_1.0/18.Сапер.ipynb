{
 "cells": [
  {
   "cell_type": "markdown",
   "id": "9173a024",
   "metadata": {},
   "source": [
    "### I. Сапер\n",
    "* Ограничение времени: 1 секунда\n",
    "* Ограничение памяти: 64Mb\n",
    "* Ввод: стандартный ввод или input.txt\n",
    "* Вывод: стандартный вывод или output.txt\n",
    "\n",
    "Вам необходимо построить поле для игры \"Сапер\" по его конфигурации – размерам и координатам расставленных на нем мин.\n",
    "\n",
    "Вкратце напомним правила построения поля для игры \"Сапер\":\n",
    "\n",
    "    Поле состоит из клеток с минами и пустых клеток\n",
    "    Клетки с миной обозначаются символом *\n",
    "    Пустые клетки содержат число ki,j, 0≤ ki, j ≤ 8 – количество мин на соседних клетках. Соседними клетками являются восемь клеток, имеющих смежный угол или сторону.\n",
    "\n",
    "#### Формат ввода\n",
    "\n",
    "В первой строке содержатся три числа: N, 1 ≤ N ≤ 100 - количество строк на поле, M, 1 ≤ M ≤ 100 - количество столбцов на поле, K, 0 ≤ K ≤ N ⋅ M - количество мин на поле.\n",
    "\n",
    "В следующих K строках содержатся по два числа с координатами мин: p, 1 ≤ p ≤ N - номер строки мины, q, 1 ≤ 1 ≤ M - номер столбца мины.\n",
    "\n",
    "#### Формат вывода\n",
    "\n",
    "Выведите построенное поле, разделяя строки поля переводом строки, а столбцы - пробелом."
   ]
  },
  {
   "cell_type": "markdown",
   "id": "bb82dc36",
   "metadata": {},
   "source": [
    "Пример 1:\n",
    "\n",
    "Ввод:\n",
    "```\n",
    "3 2 2\n",
    "1 1\n",
    "2 2\n",
    "```\n",
    "Вывод:\n",
    "```\n",
    "* 2\n",
    "2 *\n",
    "1 1\n",
    "```\n",
    "Пример2:\n",
    "\n",
    "Ввод:\n",
    "```\n",
    "2 2 0\n",
    "```\n",
    "Вывод:\n",
    "```\n",
    "0 0\n",
    "0 0\n",
    "```\n",
    "Пример 3:\n",
    "\n",
    "Ввод:\n",
    "```\n",
    "4 4 4\n",
    "1 3\n",
    "2 1\n",
    "4 2\n",
    "4 4\n",
    "```\n",
    "Вывод:\n",
    "```\n",
    "1 2 * 1 \n",
    "* 2 1 1 \n",
    "2 2 2 1 \n",
    "1 * 2 *\n",
    "```"
   ]
  },
  {
   "cell_type": "code",
   "execution_count": 1,
   "id": "0b705025",
   "metadata": {},
   "outputs": [
    {
     "name": "stdout",
     "output_type": "stream",
     "text": [
      "2 2 0\n"
     ]
    }
   ],
   "source": [
    "n, m, k = [int(i) for i in input().split(\" \")]"
   ]
  },
  {
   "cell_type": "code",
   "execution_count": 55,
   "id": "87c805ee",
   "metadata": {},
   "outputs": [],
   "source": [
    "def sapper():\n",
    "    def count_mines(area, x, y):\n",
    "        result = \"*\"\n",
    "        counter = 0\n",
    "        if area[x][y] != \"*\":\n",
    "            if area[x-1][y-1] == \"*\":\n",
    "                counter += 1\n",
    "            if area[x-1][y] == \"*\":\n",
    "                counter += 1\n",
    "            if area[x-1][y+1] == \"*\":\n",
    "                counter += 1\n",
    "            if area[x][y-1] == \"*\":\n",
    "                counter += 1\n",
    "            if area[x][y+1] == \"*\":\n",
    "                counter += 1\n",
    "            if area[x+1][y-1] == \"*\":\n",
    "                counter += 1\n",
    "            if area[x+1][y] == \"*\":\n",
    "                counter += 1\n",
    "            if area[x+1][y+1] == \"*\":\n",
    "                counter += 1\n",
    "            result = counter\n",
    "        return result\n",
    "    n, m, k = [int(i) for i in input().split(\" \")]\n",
    "    field = [[0] * (m + 2) for i in range(n + 2)]\n",
    "    for _ in range(k):\n",
    "        x, y = [int(i) for i in input().split(\" \")]\n",
    "        field[x][y] = \"*\"\n",
    "    for i in range(1, n+1):\n",
    "        for j in range(1, m+1):\n",
    "            field[i][j] = count_mines(field, i, j)\n",
    "    for row in field[1:n+1]:\n",
    "        print(\" \".join([str(elem) for elem in row[1:m+1]]))"
   ]
  },
  {
   "cell_type": "code",
   "execution_count": 57,
   "id": "13758466",
   "metadata": {},
   "outputs": [
    {
     "name": "stdout",
     "output_type": "stream",
     "text": [
      "3 2 2\n",
      "1 1\n",
      "2 2\n",
      "* 2\n",
      "2 *\n",
      "1 1\n"
     ]
    }
   ],
   "source": [
    "sapper()"
   ]
  },
  {
   "cell_type": "code",
   "execution_count": null,
   "id": "25f0b0cf",
   "metadata": {},
   "outputs": [],
   "source": []
  }
 ],
 "metadata": {
  "kernelspec": {
   "display_name": "Python 3",
   "language": "python",
   "name": "python3"
  },
  "language_info": {
   "codemirror_mode": {
    "name": "ipython",
    "version": 3
   },
   "file_extension": ".py",
   "mimetype": "text/x-python",
   "name": "python",
   "nbconvert_exporter": "python",
   "pygments_lexer": "ipython3",
   "version": "3.8.8"
  }
 },
 "nbformat": 4,
 "nbformat_minor": 5
}
