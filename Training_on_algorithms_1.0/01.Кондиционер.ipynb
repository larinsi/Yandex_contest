{
 "cells": [
  {
   "cell_type": "markdown",
   "id": "b005c49e",
   "metadata": {},
   "source": [
    "\n",
    "### A. Кондиционер\n",
    "* Ограничение времени: 1 секунда\n",
    "* Ограничение памяти: 64Mb\n",
    "* Ввод: стандартный ввод или input.txt\n",
    "* Вывод: стандартный вывод или output.txt\n",
    "_______________________________________________\n",
    "\n",
    "В офисе, где работает программист Петр, установили кондиционер нового типа. Этот кондиционер отличается особой простотой в управлении. У кондиционера есть всего лишь два управляемых параметра: желаемая температура и режим работы.\n",
    "\n",
    "Кондиционер может работать в следующих четырех режимах:\n",
    "\n",
    "«freeze» — охлаждение. В этом режиме кондиционер может только уменьшать температуру. Если температура в комнате и так не больше желаемой, то он выключается.\n",
    "\n",
    "«heat» — нагрев. В этом режиме кондиционер может только увеличивать температуру. Если температура в комнате и так не меньше желаемой, то он выключается.\n",
    "\n",
    "«auto» — автоматический режим. В этом режиме кондиционер может как увеличивать, так и уменьшать температуру в комнате до желаемой.\n",
    "\n",
    "«fan» — вентиляция. В этом режиме кондиционер осуществляет только вентиляцию воздуха и не изменяет температуру в комнате.\n",
    "\n",
    "Кондиционер достаточно мощный, поэтому при настройке на правильный режим работы он за час доводит температуру в комнате до желаемой.\n",
    "\n",
    "Требуется написать программу, которая по заданной температуре в комнате `troom`, установленным на кондиционере желаемой температуре `tcond` и режиму работы определяет температуру, которая установится в комнате через час.\n",
    "#### Формат ввода:\n",
    "\n",
    "Первая строка входного файла содержит два целых числа troom, и tcond, разделенных ровно одним пробелом (–50 ≤ troom ≤ 50, –50 ≤ tcond ≤ 50).\n",
    "\n",
    "Вторая строка содержит одно слово, записанное строчными буквами латинского алфавита — режим работы кондиционера.\n",
    "#### Формат вывода:\n",
    "\n",
    "Выходной файл должен содержать одно целое число — температуру, которая установится в комнате через час."
   ]
  },
  {
   "cell_type": "markdown",
   "id": "975a5d16",
   "metadata": {},
   "source": [
    "Пример 1:\n",
    "\n",
    "Ввод:\n",
    "\n",
    "`10 20`\n",
    "\n",
    "`heat`\n",
    "\n",
    "Вывод:\n",
    "\n",
    "`20`\n",
    "\n",
    "Пример 2:\n",
    "\n",
    "Ввод:\n",
    "\n",
    "`10 20`\n",
    "\n",
    "`freeze`\n",
    "\n",
    "Вывод:\n",
    "\n",
    "`10`"
   ]
  },
  {
   "cell_type": "markdown",
   "id": "3c894ce1",
   "metadata": {},
   "source": [
    "`freeze`, `heat`, `auto`, `fan`"
   ]
  },
  {
   "cell_type": "code",
   "execution_count": 1,
   "id": "eefd16b9",
   "metadata": {},
   "outputs": [],
   "source": [
    "def conditioning(troom: int, tcond: int, mode: str):\n",
    "    if mode not in [\"freeze\", \"heat\", \"auto\", \"fan\"]:\n",
    "        return \"Нет такого режима\"\n",
    "    else:\n",
    "        if mode == \"fan\":\n",
    "            return troom\n",
    "        elif mode == \"auto\":\n",
    "            return tcond\n",
    "        elif mode == \"freeze\":\n",
    "            return min(troom, tcond)\n",
    "        elif mode == \"heat\":\n",
    "            return max(troom, tcond)"
   ]
  },
  {
   "cell_type": "code",
   "execution_count": 2,
   "id": "a66e9ea9",
   "metadata": {},
   "outputs": [],
   "source": [
    "# Test 1\n",
    "troom, tcond = 10, 20\n",
    "mode = \"af,a,fas\""
   ]
  },
  {
   "cell_type": "code",
   "execution_count": 3,
   "id": "acee9c81",
   "metadata": {},
   "outputs": [],
   "source": [
    "# Test 2\n",
    "troom, tcond = 10, 20\n",
    "mode = \"freeze\""
   ]
  },
  {
   "cell_type": "code",
   "execution_count": 4,
   "id": "b6af184c",
   "metadata": {},
   "outputs": [],
   "source": [
    "# Test 3\n",
    "troom, tcond = 10, 20\n",
    "mode = \"heat\""
   ]
  },
  {
   "cell_type": "code",
   "execution_count": 5,
   "id": "b3a95f28",
   "metadata": {},
   "outputs": [],
   "source": [
    "# Test 4\n",
    "troom, tcond = 10, 20\n",
    "mode = \"auto\""
   ]
  },
  {
   "cell_type": "code",
   "execution_count": 6,
   "id": "7d0c1888",
   "metadata": {},
   "outputs": [],
   "source": [
    "# Test 5\n",
    "troom, tcond = 10, 20\n",
    "mode = \"fan\""
   ]
  },
  {
   "cell_type": "code",
   "execution_count": 7,
   "id": "7fd07223",
   "metadata": {},
   "outputs": [],
   "source": [
    "# Test 6\n",
    "troom, tcond = 10, 10\n",
    "mode = \"freeze\""
   ]
  },
  {
   "cell_type": "code",
   "execution_count": 8,
   "id": "725de5de",
   "metadata": {},
   "outputs": [],
   "source": [
    "# Test 7\n",
    "troom, tcond = 10, 0\n",
    "mode = \"freeze\""
   ]
  },
  {
   "cell_type": "code",
   "execution_count": 9,
   "id": "fe79bdef",
   "metadata": {},
   "outputs": [
    {
     "name": "stdout",
     "output_type": "stream",
     "text": [
      "10 20\n",
      "freeze\n"
     ]
    }
   ],
   "source": [
    "troom, tcond = [int(i) for i in input().split(' ')]\n",
    "mode = input()"
   ]
  },
  {
   "cell_type": "code",
   "execution_count": 10,
   "id": "f0d397d8",
   "metadata": {},
   "outputs": [
    {
     "name": "stdout",
     "output_type": "stream",
     "text": [
      "10\n"
     ]
    }
   ],
   "source": [
    "print(conditioning(troom, tcond, mode))"
   ]
  },
  {
   "cell_type": "code",
   "execution_count": null,
   "id": "ccfff276",
   "metadata": {},
   "outputs": [],
   "source": []
  }
 ],
 "metadata": {
  "kernelspec": {
   "display_name": "Python 3",
   "language": "python",
   "name": "python3"
  },
  "language_info": {
   "codemirror_mode": {
    "name": "ipython",
    "version": 3
   },
   "file_extension": ".py",
   "mimetype": "text/x-python",
   "name": "python",
   "nbconvert_exporter": "python",
   "pygments_lexer": "ipython3",
   "version": "3.8.8"
  }
 },
 "nbformat": 4,
 "nbformat_minor": 5
}
