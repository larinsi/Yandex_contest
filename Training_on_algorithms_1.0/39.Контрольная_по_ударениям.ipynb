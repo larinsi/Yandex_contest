{
 "cells": [
  {
   "cell_type": "markdown",
   "id": "d662e229",
   "metadata": {},
   "source": [
    "### I. Контрольная по ударениям\n",
    "* Ограничение времени: 1 секунда\n",
    "* Ограничение памяти: 64Mb\n",
    "* Ввод: стандартный ввод или input.txt\n",
    "* Вывод: стандартный вывод или output.txt\n",
    "\n",
    "Учительница задала Пете домашнее задание — в заданном тексте расставить ударения в словах, после чего поручила Васе проверить это домашнее задание. Вася очень плохо знаком с данной темой, поэтому он нашел словарь, в котором указано, как ставятся ударения в словах. К сожалению, в этом словаре присутствуют не все слова. Вася решил, что в словах, которых нет в словаре, он будет считать, что Петя поставил ударения правильно, если в этом слове Петей поставлено ровно одно ударение. Оказалось, что в некоторых словах ударение может быть поставлено больше, чем одним способом. Вася решил, что в этом случае если то, как Петя поставил ударение, соответствует одному из приведенных в словаре вариантов, он будет засчитывать это как правильную расстановку ударения, а если не соответствует, то как ошибку. Вам дан словарь, которым пользовался Вася и домашнее задание, сданное Петей. Ваша задача — определить количество ошибок, которое в этом задании насчитает Вася.\n",
    "#### Формат ввода\n",
    "\n",
    "Вводится сначала число N — количество слов в словаре (0≤N≤20000). Далее идет N строк со словами из словаря. Каждое слово состоит не более чем из 30 символов. Все слова состоят из маленьких и заглавных латинских букв. В каждом слове заглавная ровно одна буква — та, на которую попадает ударение. Слова в словаре расположены в алфавитном порядке. Если есть несколько возможностей расстановки ударения в одном и том же слове, то эти варианты в словаре идут в произвольном порядке. Далее идет упражнение, выполненное Петей. Упражнение представляет собой строку текста, суммарным объемом не более 300000 символов. Строка состоит из слов, которые разделяются между собой ровно одним пробелом. Длина каждого слова не превышает 30 символов. Все слова состоят из маленьких и заглавных латинских букв (заглавными обозначены те буквы, над которыми Петя поставил ударение). Петя мог по ошибке в каком-то слове поставить более одного ударения или не поставить ударения вовсе.\n",
    "#### Формат вывода\n",
    "\n",
    "Выведите количество ошибок в Петином тексте, которые найдет Вася. "
   ]
  },
  {
   "cell_type": "markdown",
   "id": "2c078468",
   "metadata": {},
   "source": [
    "* Если слова нет в словаре и в нем ровно одно ударение, тогда все правильно\n",
    "* Если в словаре несколько вариантов того, как правильно ставить ударение и если Петя попал в один из этих вариантов, тогда все правильно. Если не попал ни в один, тогда ошибка\n",
    "* Если Петя указал 0 ударений или больше одного, тогда ошибка\n",
    "_________________________\n",
    "* Сначала ищем точно ошибочные слова, т.е. в которых 0 или более одного ударения\n",
    "* Затем исключаем эти слова из списка и записываем их количество в результат\n",
    "* У нас остаются слова с точно одним ударением.\n",
    "* В словаре ключом будет выступать lowercase слово, а значениями возможные варианты его написания.\n",
    "* мы идем по оставшемуся списку слов и ищем, есть ли lowercase значение этого слова в ключах словаря.\n",
    "* если нет, тогда это слово точно написано правильно и его можно не считать\n",
    "* если есть, тогда мы ищем его в значениях по этому ключу. \n",
    "* если оно там отсутствует, тогда прибавляем ошибку"
   ]
  },
  {
   "cell_type": "markdown",
   "id": "a938154d",
   "metadata": {},
   "source": [
    "Пример 1:\n",
    "\n",
    "Ввод:\n",
    "```\n",
    "4\n",
    "cAnnot\n",
    "cannOt\n",
    "fOund\n",
    "pAge\n",
    "thE pAge cAnnot be found\n",
    "```\n",
    "Вывод:\n",
    "```\n",
    "2\n",
    "```\n",
    "Пример 2:\n",
    "\n",
    "Ввод:\n",
    "```\n",
    "4\n",
    "cAnnot\n",
    "cannOt\n",
    "fOund\n",
    "pAge\n",
    "The PAGE cannot be found\n",
    "```\n",
    "Вывод:\n",
    "```\n",
    "4\n",
    "```\n",
    "Пример 3:\n",
    "\n",
    "Ввод:\n",
    "```\n",
    "0\n",
    "ciFqrfIxe LgvqquN zvdlhnXJ tizFPXtv JxqWqgnR CabaJ hFYoqbhH UyfiTXO YvAylvnc ymtHHfnqh bmTLsEnh hikroekt dtVSftFBz ofQrMfo jGTGofv dVRwfJw UaRfzE wbjjGsM xKcezhleq XskqyXtl pWCkyr JcuiiawHw hHBbOV pIfztqkuo PNbjXhtoi lvthZdUc oozdiZCq xDdnpRqsD HDfocjpl aziTbCh jsJMkTpaG voKfnjYb ADtpndbo gwOkCvJs hGnvtbM NkFodqOwy BOgxWv qzMsbelpO tlQnic QlxjhTzNj OZvzmoNX NlbLsjq OvkpysLzc BFCjEESh aiLyKJas zhJbcdu vqxrKhgke BsEikapC aCCoHAFR qNSYNouc TboUQd bOJWCAy NiNkHPmA wsGXhub xIvDhv qeGgpTBkd XPOkfsxz bbgcyuWq YHioAxh mngcZbpgh qgbfVztk JMusos ogpskgdN HUmedvmA GhhpYKH vduijcpv rfMZlB rvpodvq UogggJX yhnKvOpz cKQHazal xdXpPMCzn zaYdrbic FYDsrfaF kFpUcXtY jihQVZ nhpgJXoT rwJokNFH eGvoNulk LugdwQRbl xlRQdy mOrvmCmhG tJpEDolo zLhXCegyl Orrnefa sQqsjckkm BaadhPSXa vLmbthY mlwXEbpns oLctMjmM spQHUtA qnxUrLGo ScAndtRh apdwiTV odtrlufr zkrreoWHT wbOJLyIvn TDPtdjFp CJtnhbNr ohkLVpww vJLdOfp ctswuolD kuIdtiWLq pHQvvlN uzEgrQhpG ncHyqZzt gkntqtmx ZAvUjYgJ hbjSXnN URnTcdbRk wMdRlrQ ilpvgMpja oIjXxmG sdnIJTkk bFvhViK dpdtgpt CembyhyMM RcBIirR rWyYzJfc UNbTfQQ plxhCpee bUbkgdDF JTgQAQhvp onFayvlm rykjyldhw xAuEnxF phbhlXB xxDDxfSfM aPHXcXsag sTseOhrrY MMiaCH avfBbeIfl hrtuxe zJlubLs Wwwdjvc JBnqWcAl hDXOdeHZr Nelvhp ydmbzqym kzbCxuN rNQCDbeqB VRaax yykZbEzOc XomeWckS jBrCrHrx FzGrd YvfUzRryb YYPSRO wxBazrm EkezBXg aUiYcod aTtjEEpz WczSYbDx tlFeIKB LlSQDtyVa iMGfoQ WyXVU wakvcqSU loKOoSnzA pWywmptia RcEMjACB bfyrkwpLp iSofdn SacAoja uIkcgpWnM dkqErpG nkxTwHfh srejafR rjXxUCQ BCstjy LBdeArjn SbunWWcd FmTkfGwh nyGRjOi VlZjliwD lQhjguWx IkemfP VGfqFBuiN aYrbvKu iabtpq QnjzcKE sffhhZYY JuooLppkr LqyjiBC WySPUmsQb CXjftV TmtgreN cicNuaor YIgdgc vTFwiGktI TNFmWdHU DpfEtwtf zssykzEsf xcsCKfnaS OBEwUVkzg PgArpsz RmUcaQels JmJaqn IcXnrvhkg vgkOPzmv BezbGaMfb bnjTmLse TnkNLq CxfpAoD slhLtnoaP jnppioo STcoufpS XmRtQqd yDpbsld qrVIEXn VZhmozgvr zuELbtea WiOopcPg vRwLRoy TyJkPUvOq yZSsjoi AzlwLPf suwNmPrzF kuJeUivG EnTHwlj XpZkNZH xygjBcx bTytkWFW ygKis iwjgktgw DzFDkhb elWPfddxy TyvlSNVR OBqjNCtXI cSYxJTb DqedLuqN vxikfztEc AbcQgnxiS bdCmDnn VbLDUWsz eeuucmp osIYklu sLXmxRipG yswHjZayD bMihpnRs lmyVpf gtfkgpmbB buPjpqli yxFSIu Ggjzeqm dTqrvPtei XduXypxn BykKgHhqe ewcUDvM lxWoiXBT HeqhAZu ialinsqW lcNzJmK yCKPbQrz hOjxGWvPq HgenCiuw QnWaEtz lRvwixAj otnJuciJ qtNWZPtL tJYiHzUiG rNhaIjil Oggvgmdq nhylWth VhrHlcnJV ceHFAVnU udtpWoJ wiQAeN mUkmTUv BqnLMdeSy kiffoynx vsnzxZe QbyfijgM ecxxWebWo TFoLnXouN SldaeWjV fuXlPWzBg qNNShyw avvNUgmP lhblkew svZdutKT avlFkl Afntea NrGVToH Hlvkxnut NbNbQXnc ugqqBFWcq bphIBvYpz FuuAUB CnqFfWxy lNdVncXmk UBvozFuqz muVHqMpa vcyQgcXN lfzcMdN eMmz ehXopYXAg GjBapgXVY qimorSZZt YEyoXzclm eUlyvxi aFrOSW htxGkVuJ ydszmKyb zAvzlkXM oRQizsGBz gZodlbKg pwQSugvyq MOvfpsCs tGNJBf lZqEdtPD sHYmFjcH wkRltsoYz qkWmhhBJ wgATDnhc HnbkMwnRv oSolCjBj xyQfzgenj xBtaqrEj eoCCfSg xYgfXZ htSgaFlbt DPrfLUw bdhrUaqT IabsomJE cyVtEg SMntmDjx jwwkwJkRo HeFyGSaTh KiSTzh dBCcqt vnAunEzf kGzwbur qmkMBbGCw Tdkunrkh YrYVnrbC muJSHjn Unuwgjfj ObbZfLsWd UjmxpJN KNlbLhF jFlbrLf pyOglEK\n",
    "```\n",
    "Вывод:\n",
    "```\n",
    "296\n",
    "```"
   ]
  },
  {
   "cell_type": "code",
   "execution_count": 7,
   "id": "b0fb48dc",
   "metadata": {},
   "outputs": [],
   "source": [
    "def test():\n",
    "    n = int(input())\n",
    "    dictionary = {}\n",
    "    probably_right = []\n",
    "    absolutely_right = []\n",
    "    for _ in range(n):\n",
    "        word = input()\n",
    "        if word.lower() not in dictionary.keys():\n",
    "            dictionary[word.lower()] = []\n",
    "        dictionary[word.lower()].append(word)\n",
    "    text = input().split()\n",
    "    for word in text:\n",
    "        if sum(map(str.isupper, word)) == 1:\n",
    "            probably_right.append(word)\n",
    "    for word in probably_right:\n",
    "        if word.lower() not in dictionary.keys():\n",
    "            absolutely_right.append(word)\n",
    "        elif word in dictionary[word.lower()]:\n",
    "            absolutely_right.append(word)\n",
    "    print(len(text) - len(absolutely_right))"
   ]
  },
  {
   "cell_type": "code",
   "execution_count": 11,
   "id": "c9b24530",
   "metadata": {},
   "outputs": [
    {
     "name": "stdout",
     "output_type": "stream",
     "text": [
      "0\n",
      "ciFqrfIxe LgvqquN zvdlhnXJ tizFPXtv JxqWqgnR CabaJ hFYoqbhH UyfiTXO YvAylvnc ymtHHfnqh bmTLsEnh hikroekt dtVSftFBz ofQrMfo jGTGofv dVRwfJw UaRfzE wbjjGsM xKcezhleq XskqyXtl pWCkyr JcuiiawHw hHBbOV pIfztqkuo PNbjXhtoi lvthZdUc oozdiZCq xDdnpRqsD HDfocjpl aziTbCh jsJMkTpaG voKfnjYb ADtpndbo gwOkCvJs hGnvtbM NkFodqOwy BOgxWv qzMsbelpO tlQnic QlxjhTzNj OZvzmoNX NlbLsjq OvkpysLzc BFCjEESh aiLyKJas zhJbcdu vqxrKhgke BsEikapC aCCoHAFR qNSYNouc TboUQd bOJWCAy NiNkHPmA wsGXhub xIvDhv qeGgpTBkd XPOkfsxz bbgcyuWq YHioAxh mngcZbpgh qgbfVztk JMusos ogpskgdN HUmedvmA GhhpYKH vduijcpv rfMZlB rvpodvq UogggJX yhnKvOpz cKQHazal xdXpPMCzn zaYdrbic FYDsrfaF kFpUcXtY jihQVZ nhpgJXoT rwJokNFH eGvoNulk LugdwQRbl xlRQdy mOrvmCmhG tJpEDolo zLhXCegyl Orrnefa sQqsjckkm BaadhPSXa vLmbthY mlwXEbpns oLctMjmM spQHUtA qnxUrLGo ScAndtRh apdwiTV odtrlufr zkrreoWHT wbOJLyIvn TDPtdjFp CJtnhbNr ohkLVpww vJLdOfp ctswuolD kuIdtiWLq pHQvvlN uzEgrQhpG ncHyqZzt gkntqtmx ZAvUjYgJ hbjSXnN URnTcdbRk wMdRlrQ ilpvgMpja oIjXxmG sdnIJTkk bFvhViK dpdtgpt CembyhyMM RcBIirR rWyYzJfc UNbTfQQ plxhCpee bUbkgdDF JTgQAQhvp onFayvlm rykjyldhw xAuEnxF phbhlXB xxDDxfSfM aPHXcXsag sTseOhrrY MMiaCH avfBbeIfl hrtuxe zJlubLs Wwwdjvc JBnqWcAl hDXOdeHZr Nelvhp ydmbzqym kzbCxuN rNQCDbeqB VRaax yykZbEzOc XomeWckS jBrCrHrx FzGrd YvfUzRryb YYPSRO wxBazrm EkezBXg aUiYcod aTtjEEpz WczSYbDx tlFeIKB LlSQDtyVa iMGfoQ WyXVU wakvcqSU loKOoSnzA pWywmptia RcEMjACB bfyrkwpLp iSofdn SacAoja uIkcgpWnM dkqErpG nkxTwHfh srejafR rjXxUCQ BCstjy LBdeArjn SbunWWcd FmTkfGwh nyGRjOi VlZjliwD lQhjguWx IkemfP VGfqFBuiN aYrbvKu iabtpq QnjzcKE sffhhZYY JuooLppkr LqyjiBC WySPUmsQb CXjftV TmtgreN cicNuaor YIgdgc vTFwiGktI TNFmWdHU DpfEtwtf zssykzEsf xcsCKfnaS OBEwUVkzg PgArpsz RmUcaQels JmJaqn IcXnrvhkg vgkOPzmv BezbGaMfb bnjTmLse TnkNLq CxfpAoD slhLtnoaP jnppioo STcoufpS XmRtQqd yDpbsld qrVIEXn VZhmozgvr zuELbtea WiOopcPg vRwLRoy TyJkPUvOq yZSsjoi AzlwLPf suwNmPrzF kuJeUivG EnTHwlj XpZkNZH xygjBcx bTytkWFW ygKis iwjgktgw DzFDkhb elWPfddxy TyvlSNVR OBqjNCtXI cSYxJTb DqedLuqN vxikfztEc AbcQgnxiS bdCmDnn VbLDUWsz eeuucmp osIYklu sLXmxRipG yswHjZayD bMihpnRs lmyVpf gtfkgpmbB buPjpqli yxFSIu Ggjzeqm dTqrvPtei XduXypxn BykKgHhqe ewcUDvM lxWoiXBT HeqhAZu ialinsqW lcNzJmK yCKPbQrz hOjxGWvPq HgenCiuw QnWaEtz lRvwixAj otnJuciJ qtNWZPtL tJYiHzUiG rNhaIjil Oggvgmdq nhylWth VhrHlcnJV ceHFAVnU udtpWoJ wiQAeN mUkmTUv BqnLMdeSy kiffoynx vsnzxZe QbyfijgM ecxxWebWo TFoLnXouN SldaeWjV fuXlPWzBg qNNShyw avvNUgmP lhblkew svZdutKT avlFkl Afntea NrGVToH Hlvkxnut NbNbQXnc ugqqBFWcq bphIBvYpz FuuAUB CnqFfWxy lNdVncXmk UBvozFuqz muVHqMpa vcyQgcXN lfzcMdN eMmz ehXopYXAg GjBapgXVY qimorSZZt YEyoXzclm eUlyvxi aFrOSW htxGkVuJ ydszmKyb zAvzlkXM oRQizsGBz gZodlbKg pwQSugvyq MOvfpsCs tGNJBf lZqEdtPD sHYmFjcH wkRltsoYz qkWmhhBJ wgATDnhc HnbkMwnRv oSolCjBj xyQfzgenj xBtaqrEj eoCCfSg xYgfXZ htSgaFlbt DPrfLUw bdhrUaqT IabsomJE cyVtEg SMntmDjx jwwkwJkRo HeFyGSaTh KiSTzh dBCcqt vnAunEzf kGzwbur qmkMBbGCw Tdkunrkh YrYVnrbC muJSHjn Unuwgjfj ObbZfLsWd UjmxpJN KNlbLhF jFlbrLf pyOglEK\n",
      "{}\n",
      "['ciFqrfIxe', 'LgvqquN', 'zvdlhnXJ', 'tizFPXtv', 'JxqWqgnR', 'CabaJ', 'hFYoqbhH', 'UyfiTXO', 'YvAylvnc', 'ymtHHfnqh', 'bmTLsEnh', 'hikroekt', 'dtVSftFBz', 'ofQrMfo', 'jGTGofv', 'dVRwfJw', 'UaRfzE', 'wbjjGsM', 'xKcezhleq', 'XskqyXtl', 'pWCkyr', 'JcuiiawHw', 'hHBbOV', 'pIfztqkuo', 'PNbjXhtoi', 'lvthZdUc', 'oozdiZCq', 'xDdnpRqsD', 'HDfocjpl', 'aziTbCh', 'jsJMkTpaG', 'voKfnjYb', 'ADtpndbo', 'gwOkCvJs', 'hGnvtbM', 'NkFodqOwy', 'BOgxWv', 'qzMsbelpO', 'tlQnic', 'QlxjhTzNj', 'OZvzmoNX', 'NlbLsjq', 'OvkpysLzc', 'BFCjEESh', 'aiLyKJas', 'zhJbcdu', 'vqxrKhgke', 'BsEikapC', 'aCCoHAFR', 'qNSYNouc', 'TboUQd', 'bOJWCAy', 'NiNkHPmA', 'wsGXhub', 'xIvDhv', 'qeGgpTBkd', 'XPOkfsxz', 'bbgcyuWq', 'YHioAxh', 'mngcZbpgh', 'qgbfVztk', 'JMusos', 'ogpskgdN', 'HUmedvmA', 'GhhpYKH', 'vduijcpv', 'rfMZlB', 'rvpodvq', 'UogggJX', 'yhnKvOpz', 'cKQHazal', 'xdXpPMCzn', 'zaYdrbic', 'FYDsrfaF', 'kFpUcXtY', 'jihQVZ', 'nhpgJXoT', 'rwJokNFH', 'eGvoNulk', 'LugdwQRbl', 'xlRQdy', 'mOrvmCmhG', 'tJpEDolo', 'zLhXCegyl', 'Orrnefa', 'sQqsjckkm', 'BaadhPSXa', 'vLmbthY', 'mlwXEbpns', 'oLctMjmM', 'spQHUtA', 'qnxUrLGo', 'ScAndtRh', 'apdwiTV', 'odtrlufr', 'zkrreoWHT', 'wbOJLyIvn', 'TDPtdjFp', 'CJtnhbNr', 'ohkLVpww', 'vJLdOfp', 'ctswuolD', 'kuIdtiWLq', 'pHQvvlN', 'uzEgrQhpG', 'ncHyqZzt', 'gkntqtmx', 'ZAvUjYgJ', 'hbjSXnN', 'URnTcdbRk', 'wMdRlrQ', 'ilpvgMpja', 'oIjXxmG', 'sdnIJTkk', 'bFvhViK', 'dpdtgpt', 'CembyhyMM', 'RcBIirR', 'rWyYzJfc', 'UNbTfQQ', 'plxhCpee', 'bUbkgdDF', 'JTgQAQhvp', 'onFayvlm', 'rykjyldhw', 'xAuEnxF', 'phbhlXB', 'xxDDxfSfM', 'aPHXcXsag', 'sTseOhrrY', 'MMiaCH', 'avfBbeIfl', 'hrtuxe', 'zJlubLs', 'Wwwdjvc', 'JBnqWcAl', 'hDXOdeHZr', 'Nelvhp', 'ydmbzqym', 'kzbCxuN', 'rNQCDbeqB', 'VRaax', 'yykZbEzOc', 'XomeWckS', 'jBrCrHrx', 'FzGrd', 'YvfUzRryb', 'YYPSRO', 'wxBazrm', 'EkezBXg', 'aUiYcod', 'aTtjEEpz', 'WczSYbDx', 'tlFeIKB', 'LlSQDtyVa', 'iMGfoQ', 'WyXVU', 'wakvcqSU', 'loKOoSnzA', 'pWywmptia', 'RcEMjACB', 'bfyrkwpLp', 'iSofdn', 'SacAoja', 'uIkcgpWnM', 'dkqErpG', 'nkxTwHfh', 'srejafR', 'rjXxUCQ', 'BCstjy', 'LBdeArjn', 'SbunWWcd', 'FmTkfGwh', 'nyGRjOi', 'VlZjliwD', 'lQhjguWx', 'IkemfP', 'VGfqFBuiN', 'aYrbvKu', 'iabtpq', 'QnjzcKE', 'sffhhZYY', 'JuooLppkr', 'LqyjiBC', 'WySPUmsQb', 'CXjftV', 'TmtgreN', 'cicNuaor', 'YIgdgc', 'vTFwiGktI', 'TNFmWdHU', 'DpfEtwtf', 'zssykzEsf', 'xcsCKfnaS', 'OBEwUVkzg', 'PgArpsz', 'RmUcaQels', 'JmJaqn', 'IcXnrvhkg', 'vgkOPzmv', 'BezbGaMfb', 'bnjTmLse', 'TnkNLq', 'CxfpAoD', 'slhLtnoaP', 'jnppioo', 'STcoufpS', 'XmRtQqd', 'yDpbsld', 'qrVIEXn', 'VZhmozgvr', 'zuELbtea', 'WiOopcPg', 'vRwLRoy', 'TyJkPUvOq', 'yZSsjoi', 'AzlwLPf', 'suwNmPrzF', 'kuJeUivG', 'EnTHwlj', 'XpZkNZH', 'xygjBcx', 'bTytkWFW', 'ygKis', 'iwjgktgw', 'DzFDkhb', 'elWPfddxy', 'TyvlSNVR', 'OBqjNCtXI', 'cSYxJTb', 'DqedLuqN', 'vxikfztEc', 'AbcQgnxiS', 'bdCmDnn', 'VbLDUWsz', 'eeuucmp', 'osIYklu', 'sLXmxRipG', 'yswHjZayD', 'bMihpnRs', 'lmyVpf', 'gtfkgpmbB', 'buPjpqli', 'yxFSIu', 'Ggjzeqm', 'dTqrvPtei', 'XduXypxn', 'BykKgHhqe', 'ewcUDvM', 'lxWoiXBT', 'HeqhAZu', 'ialinsqW', 'lcNzJmK', 'yCKPbQrz', 'hOjxGWvPq', 'HgenCiuw', 'QnWaEtz', 'lRvwixAj', 'otnJuciJ', 'qtNWZPtL', 'tJYiHzUiG', 'rNhaIjil', 'Oggvgmdq', 'nhylWth', 'VhrHlcnJV', 'ceHFAVnU', 'udtpWoJ', 'wiQAeN', 'mUkmTUv', 'BqnLMdeSy', 'kiffoynx', 'vsnzxZe', 'QbyfijgM', 'ecxxWebWo', 'TFoLnXouN', 'SldaeWjV', 'fuXlPWzBg', 'qNNShyw', 'avvNUgmP', 'lhblkew', 'svZdutKT', 'avlFkl', 'Afntea', 'NrGVToH', 'Hlvkxnut', 'NbNbQXnc', 'ugqqBFWcq', 'bphIBvYpz', 'FuuAUB', 'CnqFfWxy', 'lNdVncXmk', 'UBvozFuqz', 'muVHqMpa', 'vcyQgcXN', 'lfzcMdN', 'eMmz', 'ehXopYXAg', 'GjBapgXVY', 'qimorSZZt', 'YEyoXzclm', 'eUlyvxi', 'aFrOSW', 'htxGkVuJ', 'ydszmKyb', 'zAvzlkXM', 'oRQizsGBz', 'gZodlbKg', 'pwQSugvyq', 'MOvfpsCs', 'tGNJBf', 'lZqEdtPD', 'sHYmFjcH', 'wkRltsoYz', 'qkWmhhBJ', 'wgATDnhc', 'HnbkMwnRv', 'oSolCjBj', 'xyQfzgenj', 'xBtaqrEj', 'eoCCfSg', 'xYgfXZ', 'htSgaFlbt', 'DPrfLUw', 'bdhrUaqT', 'IabsomJE', 'cyVtEg', 'SMntmDjx', 'jwwkwJkRo', 'HeFyGSaTh', 'KiSTzh', 'dBCcqt', 'vnAunEzf', 'kGzwbur', 'qmkMBbGCw', 'Tdkunrkh', 'YrYVnrbC', 'muJSHjn', 'Unuwgjfj', 'ObbZfLsWd', 'UjmxpJN', 'KNlbLhF', 'jFlbrLf', 'pyOglEK']\n",
      "['xKcezhleq', 'pIfztqkuo', 'tlQnic', 'zhJbcdu', 'vqxrKhgke', 'bbgcyuWq', 'mngcZbpgh', 'qgbfVztk', 'ogpskgdN', 'zaYdrbic', 'Orrnefa', 'sQqsjckkm', 'ctswuolD', 'ilpvgMpja', 'plxhCpee', 'onFayvlm', 'Wwwdjvc', 'Nelvhp', 'wxBazrm', 'pWywmptia', 'bfyrkwpLp', 'iSofdn', 'srejafR', 'cicNuaor', 'zssykzEsf', 'yDpbsld', 'xygjBcx', 'ygKis', 'vxikfztEc', 'lmyVpf', 'gtfkgpmbB', 'buPjpqli', 'Ggjzeqm', 'ialinsqW', 'Oggvgmdq', 'nhylWth', 'vsnzxZe', 'avlFkl', 'Afntea', 'Hlvkxnut', 'eMmz', 'eUlyvxi', 'ydszmKyb', 'xyQfzgenj', 'kGzwbur', 'Tdkunrkh', 'Unuwgjfj']\n",
      "['xKcezhleq', 'pIfztqkuo', 'tlQnic', 'zhJbcdu', 'vqxrKhgke', 'bbgcyuWq', 'mngcZbpgh', 'qgbfVztk', 'ogpskgdN', 'zaYdrbic', 'Orrnefa', 'sQqsjckkm', 'ctswuolD', 'ilpvgMpja', 'plxhCpee', 'onFayvlm', 'Wwwdjvc', 'Nelvhp', 'wxBazrm', 'pWywmptia', 'bfyrkwpLp', 'iSofdn', 'srejafR', 'cicNuaor', 'zssykzEsf', 'yDpbsld', 'xygjBcx', 'ygKis', 'vxikfztEc', 'lmyVpf', 'gtfkgpmbB', 'buPjpqli', 'Ggjzeqm', 'ialinsqW', 'Oggvgmdq', 'nhylWth', 'vsnzxZe', 'avlFkl', 'Afntea', 'Hlvkxnut', 'eMmz', 'eUlyvxi', 'ydszmKyb', 'xyQfzgenj', 'kGzwbur', 'Tdkunrkh', 'Unuwgjfj']\n",
      "296\n"
     ]
    }
   ],
   "source": [
    "test()"
   ]
  },
  {
   "cell_type": "code",
   "execution_count": null,
   "id": "99ec4b1e",
   "metadata": {},
   "outputs": [],
   "source": []
  }
 ],
 "metadata": {
  "kernelspec": {
   "display_name": "Python 3",
   "language": "python",
   "name": "python3"
  },
  "language_info": {
   "codemirror_mode": {
    "name": "ipython",
    "version": 3
   },
   "file_extension": ".py",
   "mimetype": "text/x-python",
   "name": "python",
   "nbconvert_exporter": "python",
   "pygments_lexer": "ipython3",
   "version": "3.8.8"
  }
 },
 "nbformat": 4,
 "nbformat_minor": 5
}
