{
 "cells": [
  {
   "cell_type": "markdown",
   "id": "f1c5faa7",
   "metadata": {},
   "source": [
    "### I. Узник замка Иф\n",
    "* Ограничение времени: 1 секунда\n",
    "* Ограничение памяти: 64Mb\n",
    "* Ввод: стандартный ввод или input.txt\n",
    "* Вывод: стандартный вывод или output.txt\n",
    "\n",
    "За многие годы заточения узник замка Иф проделал в стене прямоугольное отверстие размером D × E. Замок Иф сложен из кирпичей, размером A × B × C. Определите, сможет ли узник выбрасывать кирпичи в море через это отверстие, если стороны кирпича должны быть параллельны сторонам отверстия.\n",
    "#### Формат ввода:\n",
    "\n",
    "Программа получает на вход числа A, B, C, D, E.\n",
    "#### Формат вывода:\n",
    "\n",
    "Программа должна вывести слово YES или NO."
   ]
  },
  {
   "cell_type": "markdown",
   "id": "b154c3e2",
   "metadata": {},
   "source": [
    "Пример 1:\n",
    "\n",
    "Ввод:\n",
    "\n",
    "`1`\n",
    "\n",
    "`1`\n",
    "\n",
    "`1`\n",
    "\n",
    "`1`\n",
    "\n",
    "`1`\n",
    "\n",
    "Вывод:\n",
    "\n",
    "`YES`\n",
    "\n",
    "Пример 2:\n",
    "\n",
    "Ввод:\n",
    "\n",
    "`2`\n",
    "\n",
    "`2`\n",
    "\n",
    "`2`\n",
    "\n",
    "`1`\n",
    "\n",
    "`1`\n",
    "\n",
    "Вывод:\n",
    "\n",
    "`NO`"
   ]
  },
  {
   "cell_type": "code",
   "execution_count": null,
   "id": "c34b5804",
   "metadata": {},
   "outputs": [],
   "source": []
  }
 ],
 "metadata": {
  "kernelspec": {
   "display_name": "Python 3",
   "language": "python",
   "name": "python3"
  },
  "language_info": {
   "codemirror_mode": {
    "name": "ipython",
    "version": 3
   },
   "file_extension": ".py",
   "mimetype": "text/x-python",
   "name": "python",
   "nbconvert_exporter": "python",
   "pygments_lexer": "ipython3",
   "version": "3.8.8"
  }
 },
 "nbformat": 4,
 "nbformat_minor": 5
}
