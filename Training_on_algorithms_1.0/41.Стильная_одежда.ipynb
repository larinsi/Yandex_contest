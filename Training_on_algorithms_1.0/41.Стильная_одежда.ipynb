{
 "cells": [
  {
   "cell_type": "markdown",
   "id": "d9305724",
   "metadata": {},
   "source": [
    "### A. Стильная одежда\n",
    "* Ограничение времени: 1 секунда\n",
    "* Ограничение памяти: 64Mb\n",
    "* Ввод: стандартный ввод или input.txt\n",
    "* Вывод: стандартный вывод или output.txt\n",
    "\n",
    "Глеб обожает шоппинг. Как-то раз он загорелся идеей подобрать себе майку и штаны так, чтобы выглядеть в них максимально стильно. В понимании Глеба стильность одежды тем больше, чем меньше разница в цвете элементов его одежды.\n",
    "\n",
    "В наличии имеется $N (1 ≤ N ≤ 100 000)$ маек и $M (1 ≤ M ≤ 100 000)$ штанов, про каждый элемент известен его цвет (целое число от 1 до 10 000 000). Помогите Глебу выбрать одну майку и одни штаны так, чтобы разница в их цвете была как можно меньше.\n",
    "#### Формат ввода\n",
    "\n",
    "Сначала вводится информация о майках: в первой строке целое число $N (1 ≤ N ≤ 100 000)$ и во второй N целых чисел от 1 до 10 000 000 — цвета имеющихся в наличии маек. Гарантируется, что номера цветов идут в возрастающем порядке (в частности, цвета никаких двух маек не совпадают).\n",
    "\n",
    "Далее в том же формате идёт описание штанов: их количество $M (1 ≤ M ≤ 100 000)$ и в следующей строке M целых чисел от 1 до 10 000 000 в возрастающем порядке — цвета штанов.\n",
    "#### Формат вывода\n",
    "\n",
    "Выведите пару неотрицательных чисел — цвет майки и цвет штанов, которые следует выбрать Глебу. Если вариантов выбора несколько, выведите любой из них. "
   ]
  },
  {
   "cell_type": "markdown",
   "id": "a7da0e1f",
   "metadata": {},
   "source": [
    "* Мы берем первые элементы последовательностей.\n",
    "* Вычисляем их разность, она должна быть неотрицательна.\n",
    "* Затем двигаемся по последовательности с наименьшим первым элементом вправо.\n",
    "* Вычисляем разность для каждого элемента и запоминаем ее. Если разность начинает расти, то меняем наибольший элемент на следующий в последовательности.\n",
    "* Если находим разность равную нулю, выходим из цикла и выводим элементы.\n",
    "* Если разности равной нулю нет, выводим элементы образующие наименьшую разность."
   ]
  },
  {
   "cell_type": "code",
   "execution_count": 58,
   "id": "d1bea793",
   "metadata": {},
   "outputs": [],
   "source": [
    "def style(n, tshirts, m, pants):\n",
    "    best_diff = abs(tshirts[0] - pants[0])\n",
    "    best_tshirt = tshirts[0]\n",
    "    best_pants = pants[0]\n",
    "    i = j = 0\n",
    "    for k in range(n + m):\n",
    "        if abs(tshirts[i] - pants[j]) == 0:\n",
    "            return tshirts[i], pants[j]\n",
    "        elif (j < m) and (abs(tshirts[i] - pants[j]) < best_diff):\n",
    "            best_diff = abs(tshirts[i] - pants[j])\n",
    "            best_tshirt = tshirts[i]\n",
    "            best_pants = pants[j]\n",
    "            j += 1\n",
    "        elif (i < n) and (abs(tshirts[i] - pants[j]) > best_diff):\n",
    "            i += 1\n",
    "    return best_tshirt, best_pants"
   ]
  },
  {
   "cell_type": "code",
   "execution_count": 59,
   "id": "ac5aa54a",
   "metadata": {},
   "outputs": [],
   "source": [
    "with open(\"41.2.txt\", \"r\") as file:\n",
    "    n = int(file.readline().strip())\n",
    "    tshirts = list(map(int, file.readline().strip().split()))\n",
    "    m = int(file.readline().strip())\n",
    "    pants = list(map(int, file.readline().strip().split()))"
   ]
  },
  {
   "cell_type": "code",
   "execution_count": 60,
   "id": "eb4e54e1",
   "metadata": {},
   "outputs": [
    {
     "name": "stdout",
     "output_type": "stream",
     "text": [
      "2 [4, 5] 3 [1, 2, 3]\n"
     ]
    }
   ],
   "source": [
    "print(n, tshirts, m, pants)"
   ]
  },
  {
   "cell_type": "code",
   "execution_count": 61,
   "id": "bbc67713",
   "metadata": {},
   "outputs": [
    {
     "data": {
      "text/plain": [
       "(4, 1)"
      ]
     },
     "execution_count": 61,
     "metadata": {},
     "output_type": "execute_result"
    }
   ],
   "source": [
    "style(n, tshirts, m, pants)"
   ]
  },
  {
   "cell_type": "code",
   "execution_count": null,
   "id": "2778ab7c",
   "metadata": {},
   "outputs": [],
   "source": []
  }
 ],
 "metadata": {
  "kernelspec": {
   "display_name": "Python 3",
   "language": "python",
   "name": "python3"
  },
  "language_info": {
   "codemirror_mode": {
    "name": "ipython",
    "version": 3
   },
   "file_extension": ".py",
   "mimetype": "text/x-python",
   "name": "python",
   "nbconvert_exporter": "python",
   "pygments_lexer": "ipython3",
   "version": "3.8.8"
  }
 },
 "nbformat": 4,
 "nbformat_minor": 5
}
