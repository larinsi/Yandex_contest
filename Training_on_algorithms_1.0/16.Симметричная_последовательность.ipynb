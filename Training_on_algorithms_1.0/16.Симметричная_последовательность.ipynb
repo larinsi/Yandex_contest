{
 "cells": [
  {
   "cell_type": "markdown",
   "id": "ae0da1e2",
   "metadata": {},
   "source": [
    "### F. Симметричная последовательность\n",
    "* Ограничение времени: 1 секунда\n",
    "* Ограничение памяти: 64Mb\n",
    "* Ввод: стандартный ввод или input.txt\n",
    "* Вывод: стандартный вывод или output.txt\n",
    "\n",
    "Последовательность чисел назовем симметричной, если она одинаково читается как слева направо, так и справа налево. Например, следующие последовательности являются симметричными:\n",
    "\n",
    "1 2 3 4 5 4 3 2 1\n",
    "\n",
    "1 2 1 2 2 1 2 1\n",
    "\n",
    "Вашей программе будет дана последовательность чисел. Требуется определить, какое минимальное количество и каких чисел надо приписать в конец этой последовательности, чтобы она стала симметричной.\n",
    "\n",
    "#### Формат ввода\n",
    "\n",
    "Сначала вводится число `N` — количество элементов исходной последовательности (1 ≤ N ≤ 100). Далее идут N чисел — элементы этой последовательности, натуральные числа от 1 до 9.\n",
    "\n",
    "#### Формат вывода\n",
    "\n",
    "Выведите сначала число `M` — минимальное количество элементов, которое надо дописать к последовательности, а потом M чисел (каждое — от 1 до 9) — числа, которые надо дописать к последовательности. "
   ]
  },
  {
   "cell_type": "markdown",
   "id": "91508bc5",
   "metadata": {},
   "source": [
    "Пример 1:\n",
    "\n",
    "Ввод:\n",
    "\n",
    "```\n",
    "9\n",
    "1 2 3 4 5 4 3 2 1\n",
    "```\n",
    "\n",
    "Вывод:\n",
    "\n",
    "```\n",
    "0\n",
    "```\n",
    "\n",
    "Пример 2:\n",
    "\n",
    "Ввод:\n",
    "\n",
    "```\n",
    "5\n",
    "1 2 1 2 2\n",
    "```\n",
    "\n",
    "Вывод:\n",
    "\n",
    "```\n",
    "3\n",
    "1 2 1\n",
    "```\n",
    "\n",
    "Пример 3:\n",
    "\n",
    "Ввод:\n",
    "\n",
    "```\n",
    "5\n",
    "1 2 3 4 5\n",
    "```\n",
    "\n",
    "Вывод:\n",
    "\n",
    "```\n",
    "4\n",
    "4 3 2 1\n",
    "```"
   ]
  },
  {
   "cell_type": "code",
   "execution_count": 103,
   "id": "635449cc",
   "metadata": {},
   "outputs": [],
   "source": [
    "def sym_sequence(array):\n",
    "    def is_symmetric(array):\n",
    "        if array == array[::-1]:\n",
    "            return len(array)\n",
    "        else:\n",
    "            return -1\n",
    "    len_max_sym_teil = 1\n",
    "    for i in range(len(array)):\n",
    "        result = is_symmetric(array[i:])\n",
    "        if len_max_sym_teil < result:\n",
    "            len_max_sym_teil = result\n",
    "    if len(array) == len_max_sym_teil:\n",
    "        print(0)\n",
    "    else:\n",
    "        print(len(array)-len_max_sym_teil)\n",
    "        nums = array[:-len_max_sym_teil][::-1]\n",
    "        print(\" \".join([str(elem) for elem in nums]))"
   ]
  },
  {
   "cell_type": "code",
   "execution_count": 104,
   "id": "6265b9eb",
   "metadata": {},
   "outputs": [
    {
     "name": "stdout",
     "output_type": "stream",
     "text": [
      "0\n"
     ]
    }
   ],
   "source": [
    "# Test 1\n",
    "array = [1, 2, 3, 4, 5, 4, 3, 2, 1]\n",
    "sym_sequence(array)\n",
    "# 0"
   ]
  },
  {
   "cell_type": "code",
   "execution_count": 105,
   "id": "99d5b0b4",
   "metadata": {},
   "outputs": [
    {
     "name": "stdout",
     "output_type": "stream",
     "text": [
      "3\n",
      "1 2 1\n"
     ]
    }
   ],
   "source": [
    "# Test 2\n",
    "array = [1, 2, 1, 2, 2]\n",
    "sym_sequence(array)\n",
    "# 3\n",
    "# 1 2 1"
   ]
  },
  {
   "cell_type": "code",
   "execution_count": 106,
   "id": "2dd21b19",
   "metadata": {},
   "outputs": [
    {
     "name": "stdout",
     "output_type": "stream",
     "text": [
      "4\n",
      "4 3 2 1\n"
     ]
    }
   ],
   "source": [
    "# Test 3\n",
    "array = [1, 2, 3, 4, 5]\n",
    "sym_sequence(array)\n",
    "# 4\n",
    "# 4 3 2 1"
   ]
  },
  {
   "cell_type": "code",
   "execution_count": 79,
   "id": "f589667c",
   "metadata": {},
   "outputs": [
    {
     "name": "stdout",
     "output_type": "stream",
     "text": [
      "[1, 2, 3, 4, 5, 4, 3, 2, 1]\n",
      "[2, 3, 4, 5, 4, 3, 2, 1]\n",
      "[3, 4, 5, 4, 3, 2, 1]\n",
      "[4, 5, 4, 3, 2, 1]\n",
      "[5, 4, 3, 2, 1]\n",
      "[4, 3, 2, 1]\n",
      "[3, 2, 1]\n",
      "[2, 1]\n",
      "[1]\n"
     ]
    }
   ],
   "source": [
    "for i in range(len([1, 2, 3, 4, 5, 4, 3, 2, 1])):\n",
    "    print([1, 2, 3, 4, 5, 4, 3, 2, 1][i:])"
   ]
  },
  {
   "cell_type": "code",
   "execution_count": null,
   "id": "b85caa96",
   "metadata": {},
   "outputs": [],
   "source": []
  }
 ],
 "metadata": {
  "kernelspec": {
   "display_name": "Python 3",
   "language": "python",
   "name": "python3"
  },
  "language_info": {
   "codemirror_mode": {
    "name": "ipython",
    "version": 3
   },
   "file_extension": ".py",
   "mimetype": "text/x-python",
   "name": "python",
   "nbconvert_exporter": "python",
   "pygments_lexer": "ipython3",
   "version": "3.8.8"
  }
 },
 "nbformat": 4,
 "nbformat_minor": 5
}
