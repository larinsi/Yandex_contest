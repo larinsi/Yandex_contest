{
 "cells": [
  {
   "cell_type": "markdown",
   "id": "641a3c73",
   "metadata": {},
   "source": [
    "### D. Уравнение с корнем\n",
    "* Ограничение времени: 1 секунда\n",
    "* Ограничение памяти: 64Mb\n",
    "* Ввод: стандартный ввод или input.txt\n",
    "* Вывод: стандартный вывод или output.txt\n",
    "\n",
    "Решите в целых числах уравнение:\n",
    "\n",
    "$\\sqrt{ax+b} = c$,\n",
    "\n",
    "a, b, c – данные целые числа: найдите все решения или сообщите, что решений в целых числах нет.\n",
    "#### Формат ввода:\n",
    "\n",
    "Вводятся три числа a, b и c по одному в строке.\n",
    "\n",
    "#### Формат вывода:\n",
    "\n",
    "Программа должна вывести все решения уравнения в порядке возрастания, либо NO SOLUTION (заглавными буквами), если решений нет. Если решений бесконечно много, вывести MANY SOLUTIONS. "
   ]
  },
  {
   "cell_type": "markdown",
   "id": "09fbaa31",
   "metadata": {},
   "source": [
    "Пример 1:\n",
    "\n",
    "Ввод:\n",
    "\n",
    "`1`\n",
    "\n",
    "`0`\n",
    "\n",
    "`0`\n",
    "\n",
    "Вывод:\n",
    "\n",
    "`0`\n",
    "\n",
    "Пример 2:\n",
    "\n",
    "Ввод:\n",
    "\n",
    "`7`\n",
    "\n",
    "`2`\n",
    "\n",
    "`9`\n",
    "\n",
    "Вывод:\n",
    "\n",
    "`1`\n",
    "\n",
    "Пример 3:\n",
    "\n",
    "Ввод:\n",
    "\n",
    "`1`\n",
    "\n",
    "`2`\n",
    "\n",
    "`-3`\n",
    "\n",
    "Вывод:\n",
    "\n",
    "`NO SOLUTIONS`"
   ]
  },
  {
   "cell_type": "code",
   "execution_count": 1,
   "id": "c64210c9",
   "metadata": {},
   "outputs": [
    {
     "name": "stdout",
     "output_type": "stream",
     "text": [
      "1\n",
      "0\n",
      "0\n"
     ]
    }
   ],
   "source": [
    "a = int(input())\n",
    "b = int(input())\n",
    "c = int(input())"
   ]
  },
  {
   "cell_type": "code",
   "execution_count": 2,
   "id": "4e3b953d",
   "metadata": {},
   "outputs": [],
   "source": [
    "def equation(a: int, b: int, c: int) -> int:\n",
    "    if c < 0:\n",
    "        print(\"NO SOLUTION\")\n",
    "    elif c == 0:\n",
    "        if a == 0:\n",
    "            if b == 0:\n",
    "                print(\"MANY SOLUTIONS\")\n",
    "            else:\n",
    "                print(\"NO SOLUTION\")\n",
    "        else:\n",
    "            if -b % a == 0:\n",
    "                print(int(-b / a))\n",
    "    elif c > 0:\n",
    "        if a == 0:\n",
    "            if c ** 2 == b:\n",
    "                print(\"MANY SOLUTIONS\")\n",
    "            else:\n",
    "                print(\"NO SOLUTION\")\n",
    "        else:\n",
    "            if (c ** 2 - b) % a == 0:\n",
    "                print(int((c ** 2 - b) / a))\n",
    "            else:\n",
    "                print(\"NO SOLUTION\")"
   ]
  },
  {
   "cell_type": "code",
   "execution_count": 3,
   "id": "86c613c9",
   "metadata": {},
   "outputs": [
    {
     "name": "stdout",
     "output_type": "stream",
     "text": [
      "0\n"
     ]
    }
   ],
   "source": [
    "# Test 1\n",
    "a, b, c = 1, 0, 0\n",
    "equation(a, b, c)\n",
    "# result 0"
   ]
  },
  {
   "cell_type": "code",
   "execution_count": 4,
   "id": "ecedd067",
   "metadata": {},
   "outputs": [
    {
     "name": "stdout",
     "output_type": "stream",
     "text": [
      "7\n"
     ]
    }
   ],
   "source": [
    "# Test 2\n",
    "a, b, c = 1, 2, 3\n",
    "equation(a, b, c)\n",
    "# result 7"
   ]
  },
  {
   "cell_type": "code",
   "execution_count": 5,
   "id": "d5a27041",
   "metadata": {},
   "outputs": [
    {
     "name": "stdout",
     "output_type": "stream",
     "text": [
      "NO SOLUTION\n"
     ]
    }
   ],
   "source": [
    "# Test 3\n",
    "a, b, c = 1, 2, -3\n",
    "equation(a, b, c)\n",
    "# result NO SOLUTION"
   ]
  },
  {
   "cell_type": "code",
   "execution_count": 6,
   "id": "7736783b",
   "metadata": {},
   "outputs": [
    {
     "name": "stdout",
     "output_type": "stream",
     "text": [
      "MANY SOLUTIONS\n"
     ]
    }
   ],
   "source": [
    "# Test 4\n",
    "a, b, c = 0, 1, 1\n",
    "equation(a, b, c)\n",
    "# result MANY SOLUTIONS"
   ]
  },
  {
   "cell_type": "code",
   "execution_count": 7,
   "id": "518aa66b",
   "metadata": {},
   "outputs": [
    {
     "name": "stdout",
     "output_type": "stream",
     "text": [
      "MANY SOLUTIONS\n"
     ]
    }
   ],
   "source": [
    "# Test 5\n",
    "a, b, c = 0, 0, 0\n",
    "equation(a, b, c)\n",
    "# result MANY SOLUTIONS"
   ]
  },
  {
   "cell_type": "code",
   "execution_count": null,
   "id": "9912ae43",
   "metadata": {},
   "outputs": [],
   "source": []
  }
 ],
 "metadata": {
  "kernelspec": {
   "display_name": "Python 3",
   "language": "python",
   "name": "python3"
  },
  "language_info": {
   "codemirror_mode": {
    "name": "ipython",
    "version": 3
   },
   "file_extension": ".py",
   "mimetype": "text/x-python",
   "name": "python",
   "nbconvert_exporter": "python",
   "pygments_lexer": "ipython3",
   "version": "3.8.8"
  }
 },
 "nbformat": 4,
 "nbformat_minor": 5
}
