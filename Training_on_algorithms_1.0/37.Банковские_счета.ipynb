{
 "cells": [
  {
   "cell_type": "markdown",
   "id": "869552b5",
   "metadata": {},
   "source": [
    "### G. Банковские счета\n",
    "* Ограничение времени: 1 секунда\n",
    "* Ограничение памяти: 64Mb\n",
    "* Ввод: стандартный ввод или input.txt\n",
    "* Вывод: стандартный вывод или output.txt\n",
    "\n",
    "Некоторый банк хочет внедрить систему управления счетами клиентов, поддерживающую следующие операции:\n",
    "\n",
    "Пополнение счета клиента. Снятие денег со счета. Запрос остатка средств на счете. Перевод денег между счетами клиентов. Начисление процентов всем клиентам.\n",
    "\n",
    "Вам необходимо реализовать такую систему. Клиенты банка идентифицируются именами (уникальная строка, не содержащая пробелов). Первоначально у банка нет ни одного клиента. Как только для клиента проводится операция пололнения, снятия или перевода денег, ему заводится счет с нулевым балансом. Все дальнейшие операции проводятся только с этим счетом. Сумма на счету может быть как положительной, так и отрицательной, при этом всегда является целым числом.\n",
    "#### Формат ввода\n",
    "\n",
    "Входной файл содержит последовательность операций. Возможны следующие операции: DEPOSIT name sum - зачислить сумму sum на счет клиента name. Если у клиента нет счета, то счет создается. WITHDRAW name sum - снять сумму sum со счета клиента name. Если у клиента нет счета, то счет создается. BALANCE name - узнать остаток средств на счету клиента name. TRANSFER name1 name2 sum - перевести сумму sum со счета клиента name1 на счет клиента name2. Если у какого-либо клиента нет счета, то ему создается счет. INCOME p - начислить всем клиентам, у которых открыты счета, p% от суммы счета. Проценты начисляются только клиентам с положительным остатком на счету, если у клиента остаток отрицательный, то его счет не меняется. После начисления процентов сумма на счету остается целой, то есть начисляется только целое число денежных единиц. Дробная часть начисленных процентов отбрасывается.\n",
    "#### Формат вывода\n",
    "\n",
    "Для каждого запроса BALANCE программа должна вывести остаток на счету данного клиента. Если же у клиента с запрашиваемым именем не открыт счет в банке, выведите ERROR. "
   ]
  },
  {
   "cell_type": "code",
   "execution_count": 10,
   "id": "10a09de9",
   "metadata": {},
   "outputs": [],
   "source": [
    "def bank_accounts(text):\n",
    "    def balance(name):\n",
    "        if name not in base.keys():\n",
    "            return \"ERROR\"\n",
    "        return base[name]\n",
    "    \n",
    "    def deposit(name, summ):\n",
    "        if name not in base.keys():\n",
    "            base[name] = 0\n",
    "        base[name] += summ\n",
    "        \n",
    "    def withdraw(name, summ):\n",
    "        if name not in base.keys():\n",
    "            base[name] = 0\n",
    "        base[name] -= summ\n",
    "        \n",
    "    def transfer(name1, name2, summ):\n",
    "        if name1 not in base.keys():\n",
    "            base[name1] = 0\n",
    "        if name2 not in base.keys():\n",
    "            base[name2] = 0\n",
    "        base[name1] -= summ\n",
    "        base[name2] += summ\n",
    "        \n",
    "    def income(p):\n",
    "        for name in base.keys():\n",
    "            if base[name] > 0:\n",
    "                base[name] += int(base[name] * p / 100)\n",
    "        \n",
    "    base = {}\n",
    "    start = 0\n",
    "    for i in range(len(text)):\n",
    "        if text[i] == \"\\n\":\n",
    "            transaction = text[start:i].split()\n",
    "            if transaction[0] == \"BALANCE\":\n",
    "                print(balance(transaction[1]))\n",
    "            elif transaction[0] == \"DEPOSIT\":\n",
    "                deposit(transaction[1], int(transaction[2]))\n",
    "            elif transaction[0] == \"WITHDRAW\":\n",
    "                withdraw(transaction[1], int(transaction[2]))\n",
    "            elif transaction[0] == \"TRANSFER\":\n",
    "                transfer(transaction[1], transaction[2], int(transaction[3]))\n",
    "            elif transaction[0] == \"INCOME\":\n",
    "                income(int(transaction[1]))\n",
    "            start = i + 1\n",
    "        \n",
    "    "
   ]
  },
  {
   "cell_type": "code",
   "execution_count": 11,
   "id": "b6ce7c2d",
   "metadata": {},
   "outputs": [
    {
     "name": "stdout",
     "output_type": "stream",
     "text": [
      "105\n",
      "-50\n",
      "ERROR\n"
     ]
    }
   ],
   "source": [
    "with open(\"37.1.txt\", \"r\") as file:\n",
    "    text = file.read()\n",
    "bank_accounts(text)"
   ]
  },
  {
   "cell_type": "code",
   "execution_count": 12,
   "id": "acdb3b66",
   "metadata": {},
   "outputs": [
    {
     "name": "stdout",
     "output_type": "stream",
     "text": [
      "ERROR\n",
      "ERROR\n",
      "100\n",
      "ERROR\n",
      "150\n",
      "110\n",
      "165\n",
      "156\n",
      "165\n",
      "156\n",
      "179\n"
     ]
    }
   ],
   "source": [
    "with open(\"37.2.txt\", \"r\") as file:\n",
    "    text = file.read()\n",
    "bank_accounts(text)"
   ]
  },
  {
   "cell_type": "code",
   "execution_count": 13,
   "id": "bd05a6b7",
   "metadata": {},
   "outputs": [
    {
     "name": "stdout",
     "output_type": "stream",
     "text": [
      "ERROR\n",
      "ERROR\n",
      "100\n",
      "ERROR\n",
      "80\n",
      "ERROR\n",
      "80\n",
      "-78\n",
      "-704\n",
      "-78\n",
      "-704\n",
      "771\n"
     ]
    }
   ],
   "source": [
    "with open(\"37.3.txt\", \"r\") as file:\n",
    "    text = file.read()\n",
    "bank_accounts(text)"
   ]
  },
  {
   "cell_type": "code",
   "execution_count": null,
   "id": "83deb0cb",
   "metadata": {},
   "outputs": [],
   "source": []
  }
 ],
 "metadata": {
  "kernelspec": {
   "display_name": "Python 3",
   "language": "python",
   "name": "python3"
  },
  "language_info": {
   "codemirror_mode": {
    "name": "ipython",
    "version": 3
   },
   "file_extension": ".py",
   "mimetype": "text/x-python",
   "name": "python",
   "nbconvert_exporter": "python",
   "pygments_lexer": "ipython3",
   "version": "3.8.8"
  }
 },
 "nbformat": 4,
 "nbformat_minor": 5
}
