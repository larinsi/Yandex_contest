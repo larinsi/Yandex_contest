{
 "cells": [
  {
   "cell_type": "markdown",
   "id": "3e79d89f",
   "metadata": {},
   "source": [
    "### D. Больше своих соседей\n",
    "* Ограничение времени: 1 секунда\n",
    "* Ограничение памяти: 64Mb\n",
    "* Ввод: стандартный ввод или input.txt\n",
    "* Вывод: стандартный вывод или output.txt\n",
    "\n",
    "Дан список чисел. Определите, сколько в этом списке элементов, которые больше двух своих соседей и выведите количество таких элементов.\n",
    "#### Формат ввода\n",
    "\n",
    "Вводится список чисел. Все числа списка находятся на одной строке.\n",
    "#### Формат вывода\n",
    "\n",
    "Выведите ответ на задачу. "
   ]
  },
  {
   "cell_type": "markdown",
   "id": "26a76a40",
   "metadata": {},
   "source": [
    "Пример 1:\n",
    "\n",
    "Ввод:\n",
    "\n",
    "`1 2 3 4 5`\n",
    "\n",
    "Вывод:\n",
    "\n",
    "`0`\n",
    "\n",
    "Пример 2:\n",
    "\n",
    "Ввод:\n",
    "\n",
    "`5 4 3 2 1`\n",
    "\n",
    "Вывод:\n",
    "\n",
    "`0`\n",
    "\n",
    "Пример 3:\n",
    "\n",
    "Ввод:\n",
    "\n",
    "`1 5 1 5 1`\n",
    "\n",
    "Вывод:\n",
    "\n",
    "`2`"
   ]
  },
  {
   "cell_type": "code",
   "execution_count": 1,
   "id": "c24df57c",
   "metadata": {},
   "outputs": [
    {
     "name": "stdout",
     "output_type": "stream",
     "text": [
      "1 2 3 4 5\n"
     ]
    }
   ],
   "source": [
    "array = [int(i) for i in input().split(\" \")]"
   ]
  },
  {
   "cell_type": "code",
   "execution_count": 2,
   "id": "895828ac",
   "metadata": {},
   "outputs": [],
   "source": [
    "def more_than_neighbors(array: list):\n",
    "    counter = 0\n",
    "    i = 1\n",
    "    while i < len(array) - 1:\n",
    "        if (array[i-1] < array[i]) and (array[i+1] < array[i]):\n",
    "            counter += 1\n",
    "            i += 2\n",
    "        else:\n",
    "            i += 1\n",
    "    return counter"
   ]
  },
  {
   "cell_type": "code",
   "execution_count": 3,
   "id": "1447f385",
   "metadata": {},
   "outputs": [
    {
     "name": "stdout",
     "output_type": "stream",
     "text": [
      "0\n"
     ]
    }
   ],
   "source": [
    "# Test 1\n",
    "print(more_than_neighbors([1, 2, 3, 4, 5]))\n",
    "# 0"
   ]
  },
  {
   "cell_type": "code",
   "execution_count": 4,
   "id": "887fade4",
   "metadata": {},
   "outputs": [
    {
     "name": "stdout",
     "output_type": "stream",
     "text": [
      "0\n"
     ]
    }
   ],
   "source": [
    "# Test 2\n",
    "print(more_than_neighbors([5, 4, 3, 2, 1]))\n",
    "# 0"
   ]
  },
  {
   "cell_type": "code",
   "execution_count": 5,
   "id": "5cdd7a33",
   "metadata": {},
   "outputs": [
    {
     "name": "stdout",
     "output_type": "stream",
     "text": [
      "2\n"
     ]
    }
   ],
   "source": [
    "# Test 3\n",
    "print(more_than_neighbors([1, 5, 1, 5, 1]))\n",
    "# 2"
   ]
  },
  {
   "cell_type": "code",
   "execution_count": null,
   "id": "537b54d0",
   "metadata": {},
   "outputs": [],
   "source": []
  }
 ],
 "metadata": {
  "kernelspec": {
   "display_name": "Python 3",
   "language": "python",
   "name": "python3"
  },
  "language_info": {
   "codemirror_mode": {
    "name": "ipython",
    "version": 3
   },
   "file_extension": ".py",
   "mimetype": "text/x-python",
   "name": "python",
   "nbconvert_exporter": "python",
   "pygments_lexer": "ipython3",
   "version": "3.8.8"
  }
 },
 "nbformat": 4,
 "nbformat_minor": 5
}
