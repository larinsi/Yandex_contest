{
 "cells": [
  {
   "cell_type": "markdown",
   "id": "e5b55cfe",
   "metadata": {},
   "source": [
    "### B. Определить вид последовательности\n",
    "* Ограничение времени: 1 секунда\n",
    "* Ограничение памяти: 64Mb\n",
    "* Ввод: стандартный ввод или input.txt\n",
    "* Вывод: стандартный вывод или output.txt\n",
    "\n",
    "По последовательности чисел во входных данных определите ее вид:\n",
    "\n",
    "    * CONSTANT – последовательность состоит из одинаковых значений\n",
    "    * ASCENDING – последовательность является строго возрастающей\n",
    "    * WEAKLY ASCENDING – последовательность является нестрого возрастающей\n",
    "    * DESCENDING – последовательность является строго убывающей\n",
    "    * WEAKLY DESCENDING – последовательность является нестрого убывающей\n",
    "    * RANDOM – последовательность не принадлежит ни к одному из вышеупомянутых типов\n",
    "\n",
    "#### Формат ввода\n",
    "\n",
    "По одному на строке поступают числа последовательности $a_i$, $|a_i| ≤ 10^9$.\n",
    "\n",
    "Признаком окончания последовательности является число $-2× 10^9$. Оно в последовательность не входит.\n",
    "#### Формат вывода\n",
    "\n",
    "В единственной строке выведите тип последовательности."
   ]
  },
  {
   "cell_type": "markdown",
   "id": "cd9ca644",
   "metadata": {},
   "source": [
    "Пример:\n",
    "\n",
    "Ввод:\n",
    "\n",
    "`-530`\n",
    "\n",
    "`-530`\n",
    "\n",
    "`-530`\n",
    "\n",
    "`-530`\n",
    "\n",
    "`-530`\n",
    "\n",
    "`-530`\n",
    "\n",
    "`-2000000000`\n",
    "\n",
    "Вывод:\n",
    "\n",
    "`CONSTANT`"
   ]
  },
  {
   "cell_type": "code",
   "execution_count": 51,
   "id": "68325823",
   "metadata": {},
   "outputs": [],
   "source": [
    "def sequence_type():\n",
    "    output_dict = {\n",
    "        0: \"CONSTANT\",\n",
    "        1: \"ASCENDING\",\n",
    "        2: \"WEAKLY ASCENDING\",\n",
    "        3: \"DESCENDING\",\n",
    "        4: \"WEAKLY DESCENDING\",\n",
    "        5: \"RANDOM\"\n",
    "    }\n",
    "    result = output_dict[0]\n",
    "    prev_elem = None\n",
    "    while True:\n",
    "        elem = int(input())\n",
    "        if prev_elem is None:\n",
    "            prev_elem = elem\n",
    "        if elem == -2000000000:\n",
    "            break\n",
    "        else:\n",
    "            if (result == output_dict[0]) and (elem == prev_elem):\n",
    "                prev_elem = elem\n",
    "                continue\n",
    "            elif (elem > prev_elem) and (result in [output_dict[3], output_dict[4], output_dict[5]]):\n",
    "                result = output_dict[5]\n",
    "                prev_elem = elem\n",
    "                continue\n",
    "            elif (elem < prev_elem) and (result in [output_dict[1], output_dict[2], output_dict[5]]):\n",
    "                result = output_dict[5]\n",
    "                prev_elem = elem\n",
    "                continue\n",
    "            elif (elem > prev_elem) and (result != output_dict[2] and result != output_dict[5]):\n",
    "                result = output_dict[1]\n",
    "                prev_elem = elem\n",
    "            elif (elem < prev_elem) and (result != output_dict[4] and result != output_dict[5]):\n",
    "                result = output_dict[3]\n",
    "                prev_elem = elem\n",
    "            elif (elem == prev_elem) and (result == output_dict[2] or result == output_dict[1]):\n",
    "                result = output_dict[2]\n",
    "                prev_elem = elem\n",
    "            elif (elem == prev_elem) and (result == output_dict[4] or result == output_dict[3]):\n",
    "                result = output_dict[4]\n",
    "                prev_elem = elem\n",
    "            else:\n",
    "                result = output_dict[5]\n",
    "                prev_elem = elem           \n",
    "    return result        "
   ]
  },
  {
   "cell_type": "code",
   "execution_count": 53,
   "id": "eae38838",
   "metadata": {},
   "outputs": [
    {
     "name": "stdout",
     "output_type": "stream",
     "text": [
      "3\n",
      "4\n",
      "3\n",
      "4\n",
      "5\n",
      "-2000000000\n",
      "RANDOM\n"
     ]
    }
   ],
   "source": [
    "print(sequence_type())"
   ]
  },
  {
   "cell_type": "code",
   "execution_count": null,
   "id": "b5362b0b",
   "metadata": {},
   "outputs": [],
   "source": []
  }
 ],
 "metadata": {
  "kernelspec": {
   "display_name": "Python 3",
   "language": "python",
   "name": "python3"
  },
  "language_info": {
   "codemirror_mode": {
    "name": "ipython",
    "version": 3
   },
   "file_extension": ".py",
   "mimetype": "text/x-python",
   "name": "python",
   "nbconvert_exporter": "python",
   "pygments_lexer": "ipython3",
   "version": "3.8.8"
  }
 },
 "nbformat": 4,
 "nbformat_minor": 5
}
