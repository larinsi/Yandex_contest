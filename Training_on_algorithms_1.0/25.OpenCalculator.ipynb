{
 "cells": [
  {
   "cell_type": "markdown",
   "id": "3eab246b",
   "metadata": {},
   "source": [
    "### E. OpenCalculator\n",
    "* Ограничение времени: 1 секунда\n",
    "* Ограничение памяти: 64Mb\n",
    "* Ввод: стандартный ввод или input.txt\n",
    "* Вывод: стандартный вывод или output.txt\n",
    "\n",
    "В новой программе OpenCalculator появилась новая возможность – можно настроить, какие кнопки отображаются, а какие – нет. Если кнопка не отображается на экране, то ввести соответствующую цифру с клавиатуры или копированием из другой программы нельзя. Петя настроил калькулятор так, что он отображает только кнопки с цифрами x, y, z. Напишите программу, определяющую, сможет ли Петя ввести число N, а если нет, то какое минимальное количество кнопок надо дополнительно отобразить на экране для его ввода.\n",
    "#### Формат ввода\n",
    "\n",
    "Сначала вводятся три различных числа из диапазона от 0 до 9: x, y и z (числа разделяются пробелами). Далее вводится целое неотрицательное число N, которое Петя хочет ввести в калькулятор. Число N не превышает 10000.\n",
    "\n",
    "#### Формат вывода\n",
    "\n",
    "Выведите, какое минимальное количество кнопок должно быть добавлено для того, чтобы можно было ввести число N (если число может быть введено с помощью уже имеющихся кнопок, выведите 0) "
   ]
  },
  {
   "cell_type": "markdown",
   "id": "f02692ef",
   "metadata": {},
   "source": [
    "Пример 1:\n",
    "\n",
    "Ввод:\n",
    "```\n",
    "1 2 3\n",
    "1123\n",
    "```\n",
    "Вывод:\n",
    "```\n",
    "0\n",
    "```\n",
    "Пример 2:\n",
    "\n",
    "Ввод:\n",
    "```\n",
    "1 2 3\n",
    "1001\n",
    "```\n",
    "Вывод:\n",
    "```\n",
    "1\n",
    "```\n",
    "Пример 3:\n",
    "\n",
    "Ввод:\n",
    "```\n",
    "5 7 3\n",
    "123\n",
    "```\n",
    "Вывод:\n",
    "```\n",
    "2\n",
    "```"
   ]
  },
  {
   "cell_type": "code",
   "execution_count": 1,
   "id": "f32d9f21",
   "metadata": {},
   "outputs": [
    {
     "name": "stdout",
     "output_type": "stream",
     "text": [
      "1 2 3\n",
      "1001\n"
     ]
    }
   ],
   "source": [
    "x, y, z = list(map(int, input().split(\" \")))\n",
    "n = input()\n",
    "            "
   ]
  },
  {
   "cell_type": "code",
   "execution_count": 2,
   "id": "4ecdb3c4",
   "metadata": {},
   "outputs": [],
   "source": [
    "def open_calculator(x, y, z, n):\n",
    "    xyz = set([str(x), str(y), str(z)])\n",
    "    numerals_in_n = set(n)\n",
    "    print(len(numerals_in_n - (xyz & numerals_in_n)))"
   ]
  },
  {
   "cell_type": "code",
   "execution_count": 3,
   "id": "4a7edb76",
   "metadata": {},
   "outputs": [
    {
     "name": "stdout",
     "output_type": "stream",
     "text": [
      "0\n"
     ]
    }
   ],
   "source": [
    "# Test 1\n",
    "open_calculator(1, 2, 3, str(1123))\n",
    "# 0"
   ]
  },
  {
   "cell_type": "code",
   "execution_count": 4,
   "id": "4d7e9278",
   "metadata": {},
   "outputs": [
    {
     "name": "stdout",
     "output_type": "stream",
     "text": [
      "1\n"
     ]
    }
   ],
   "source": [
    "# Test 2\n",
    "open_calculator(1, 2, 3, \"1001\")\n",
    "# 1"
   ]
  },
  {
   "cell_type": "code",
   "execution_count": 5,
   "id": "55672b34",
   "metadata": {},
   "outputs": [
    {
     "name": "stdout",
     "output_type": "stream",
     "text": [
      "2\n"
     ]
    }
   ],
   "source": [
    "# Test 3\n",
    "open_calculator(5, 7, 3, \"123\")\n",
    "# 2"
   ]
  },
  {
   "cell_type": "code",
   "execution_count": null,
   "id": "ad43978e",
   "metadata": {},
   "outputs": [],
   "source": []
  }
 ],
 "metadata": {
  "kernelspec": {
   "display_name": "Python 3",
   "language": "python",
   "name": "python3"
  },
  "language_info": {
   "codemirror_mode": {
    "name": "ipython",
    "version": 3
   },
   "file_extension": ".py",
   "mimetype": "text/x-python",
   "name": "python",
   "nbconvert_exporter": "python",
   "pygments_lexer": "ipython3",
   "version": "3.8.8"
  }
 },
 "nbformat": 4,
 "nbformat_minor": 5
}
