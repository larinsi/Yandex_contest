{
 "cells": [
  {
   "cell_type": "markdown",
   "id": "578a5ae9",
   "metadata": {},
   "source": [
    "### G. Детали\n",
    "* Ограничение времени: 1 секунда\n",
    "* Ограничение памяти: 64Mb\n",
    "* Ввод: стандартный ввод или input.txt\n",
    "* Вывод: стандартный вывод или output.txt\n",
    "\n",
    "Имеется N кг металлического сплава. Из него изготавливают заготовки массой K кг каждая. После этого из каждой заготовки вытачиваются детали массой M кг каждая (из каждой заготовки вытачивают максимально возможное количество деталей). Если от заготовок после этого что-то остается, то этот материал возвращают к началу производственного цикла и сплавляют с тем, что осталось при изготовлении заготовок. Если того сплава, который получился, достаточно для изготовления хотя бы одной заготовки, то из него снова изготавливают заготовки, из них – детали и т.д. Напишите программу, которая вычислит, какое количество деталей может быть получено по этой технологии из имеющихся исходно N кг сплава.\n",
    "#### Формат ввода:\n",
    "\n",
    "Вводятся N, K, M. Все числа натуральные и не превосходят 200.\n",
    "#### Формат вывода:\n",
    "\n",
    "Выведите одно число — количество деталей, которое может получиться по такой технологии. "
   ]
  },
  {
   "cell_type": "markdown",
   "id": "a0fca0e1",
   "metadata": {},
   "source": [
    "Пример 1:\n",
    "\n",
    "Ввод:\n",
    "\n",
    "`10 5 2`\n",
    "\n",
    "Вывод:\n",
    "\n",
    "`4`\n",
    "\n",
    "Пример 2:\n",
    "\n",
    "Ввод:\n",
    "\n",
    "`13 5 3`\n",
    "\n",
    "Вывод:\n",
    "\n",
    "`3`\n",
    "\n",
    "Пример 3:\n",
    "\n",
    "Ввод:\n",
    "\n",
    "`14 5 3`\n",
    "\n",
    "Вывод:\n",
    "\n",
    "`4`"
   ]
  },
  {
   "cell_type": "code",
   "execution_count": 1,
   "id": "689a1f13",
   "metadata": {},
   "outputs": [
    {
     "name": "stdout",
     "output_type": "stream",
     "text": [
      "10 5 2\n"
     ]
    }
   ],
   "source": [
    "n, k, m = [int(i) for i in input().split(\" \")]"
   ]
  },
  {
   "cell_type": "code",
   "execution_count": 4,
   "id": "81bd3d0a",
   "metadata": {},
   "outputs": [],
   "source": [
    "def details(n, k, m):\n",
    "    if n < k or k < m:\n",
    "        return 0\n",
    "    counter = 0\n",
    "    while n >= k:\n",
    "    \n",
    "        n_zag  = n // k\n",
    "        ost = n % k\n",
    "        counter += n_zag * (k // m)\n",
    "        ost += n_zag * (k % m)\n",
    "        n = ost\n",
    "        \n",
    "    return counter"
   ]
  },
  {
   "cell_type": "code",
   "execution_count": 5,
   "id": "f72a24f4",
   "metadata": {},
   "outputs": [
    {
     "name": "stdout",
     "output_type": "stream",
     "text": [
      "4\n"
     ]
    }
   ],
   "source": [
    "# Test 1\n",
    "n, k, m = 10, 5, 2\n",
    "print(details(n, k, m))\n",
    "# 4"
   ]
  },
  {
   "cell_type": "code",
   "execution_count": 6,
   "id": "d571932a",
   "metadata": {},
   "outputs": [
    {
     "name": "stdout",
     "output_type": "stream",
     "text": [
      "3\n"
     ]
    }
   ],
   "source": [
    "# Test 2\n",
    "n, k, m = 13, 5, 3\n",
    "print(details(n, k, m))\n",
    "# 3"
   ]
  },
  {
   "cell_type": "code",
   "execution_count": 7,
   "id": "c05fa5fa",
   "metadata": {},
   "outputs": [
    {
     "name": "stdout",
     "output_type": "stream",
     "text": [
      "4\n"
     ]
    }
   ],
   "source": [
    "# Test 3\n",
    "n, k, m = 14, 5, 3\n",
    "print(details(n, k, m))\n",
    "# 4"
   ]
  },
  {
   "cell_type": "code",
   "execution_count": null,
   "id": "6386a06b",
   "metadata": {},
   "outputs": [],
   "source": []
  }
 ],
 "metadata": {
  "kernelspec": {
   "display_name": "Python 3",
   "language": "python",
   "name": "python3"
  },
  "language_info": {
   "codemirror_mode": {
    "name": "ipython",
    "version": 3
   },
   "file_extension": ".py",
   "mimetype": "text/x-python",
   "name": "python",
   "nbconvert_exporter": "python",
   "pygments_lexer": "ipython3",
   "version": "3.8.8"
  }
 },
 "nbformat": 4,
 "nbformat_minor": 5
}
