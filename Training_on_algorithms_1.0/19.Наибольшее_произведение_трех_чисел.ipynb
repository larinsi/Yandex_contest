{
 "cells": [
  {
   "cell_type": "markdown",
   "id": "05b46a18",
   "metadata": {},
   "source": [
    "### H. Наибольшее произведение трех чисел\n",
    "* Ограничение времени: 1 секунда\n",
    "* Ограничение памяти: 64Mb\n",
    "* Ввод: стандартный ввод или input.txt\n",
    "* Вывод: стандартный вывод или output.txt\n",
    "\n",
    "В данном списке из $n ≤ 10^5$ целых чисел найдите три числа,произведение которых максимально.\n",
    "\n",
    "Решение должно иметь сложность O(n), где n - размер списка.\n",
    "\n",
    "Выведите три искомых числа в любом порядке.\n",
    "\n",
    "Пример 1:\n",
    "\n",
    "Ввод:\n",
    "```\n",
    "3 5 1 7 9 0 9 -3 10\n",
    "\n",
    "```\n",
    "Вывод:\n",
    "```\n",
    "10 9 9\n",
    "```\n",
    "Пример 2:\n",
    "\n",
    "Ввод:\n",
    "```\n",
    "-5 -30000 -12\n",
    "```\n",
    "Вывод:\n",
    "```\n",
    "-5 -12 -30000\n",
    "```\n",
    "Пример 3:\n",
    "\n",
    "Ввод:\n",
    "```\n",
    "1 2 3\n",
    "```\n",
    "Вывод:\n",
    "```\n",
    "3 2 1\n",
    "```"
   ]
  },
  {
   "cell_type": "code",
   "execution_count": 6,
   "id": "c37a8cf4",
   "metadata": {},
   "outputs": [],
   "source": [
    "def max_3_multiplication(array):\n",
    "    if len(array) < 3:\n",
    "        print(0)\n",
    "    else:\n",
    "        max1 = max(array[0:3])\n",
    "        array.remove(max1)\n",
    "        max2, max3 = max(array[0:2]), min(array[0:2])\n",
    "        min1, min2 = min(array[0:2]), max(array[0:2])\n",
    "        for i in range(2, len(array)):\n",
    "            if array[i] >= max1:\n",
    "                max3, max2, max1 = max2, max1, array[i]\n",
    "            elif array[i] >= max2:\n",
    "                max3, max2 = max2, array[i]\n",
    "            elif array[i] >= max3:\n",
    "                max3 = array[i]\n",
    "            if array[i] <= min1:\n",
    "                min1, min2 = array[i], min1\n",
    "            elif array[i] <= min2:\n",
    "                min2 = array[i]\n",
    "        if min1 * min2 > max2 * max3:\n",
    "            print(min1, min2, max1)\n",
    "        else:\n",
    "            print(max3, max2, max1)\n",
    "        "
   ]
  },
  {
   "cell_type": "code",
   "execution_count": 9,
   "id": "b8030f9e",
   "metadata": {},
   "outputs": [
    {
     "name": "stdout",
     "output_type": "stream",
     "text": [
      "1 2 3\n",
      "1 2 3\n"
     ]
    }
   ],
   "source": [
    "array = list(map(int, input().split()))\n",
    "max_3_multiplication(array)"
   ]
  },
  {
   "cell_type": "code",
   "execution_count": 11,
   "id": "b86c84bd",
   "metadata": {},
   "outputs": [
    {
     "name": "stdout",
     "output_type": "stream",
     "text": [
      "-30000 -12 -5\n"
     ]
    }
   ],
   "source": [
    "# Test 2\n",
    "max_3_multiplication([-5, -30000, -12])\n",
    "# -5 -12 -30000"
   ]
  },
  {
   "cell_type": "code",
   "execution_count": 12,
   "id": "d5144a0f",
   "metadata": {},
   "outputs": [
    {
     "name": "stdout",
     "output_type": "stream",
     "text": [
      "1 2 3\n"
     ]
    }
   ],
   "source": [
    "# Test 3\n",
    "max_3_multiplication([1, 2, 3])\n",
    "# 3 2 1"
   ]
  },
  {
   "cell_type": "code",
   "execution_count": null,
   "id": "f18800e7",
   "metadata": {},
   "outputs": [],
   "source": []
  }
 ],
 "metadata": {
  "kernelspec": {
   "display_name": "Python 3",
   "language": "python",
   "name": "python3"
  },
  "language_info": {
   "codemirror_mode": {
    "name": "ipython",
    "version": 3
   },
   "file_extension": ".py",
   "mimetype": "text/x-python",
   "name": "python",
   "nbconvert_exporter": "python",
   "pygments_lexer": "ipython3",
   "version": "3.8.8"
  }
 },
 "nbformat": 4,
 "nbformat_minor": 5
}
