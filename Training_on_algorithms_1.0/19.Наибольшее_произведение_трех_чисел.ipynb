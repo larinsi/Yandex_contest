{
 "cells": [
  {
   "cell_type": "markdown",
   "id": "05b46a18",
   "metadata": {},
   "source": [
    "### H. Наибольшее произведение трех чисел\n",
    "* Ограничение времени: 1 секунда\n",
    "* Ограничение памяти: 64Mb\n",
    "* Ввод: стандартный ввод или input.txt\n",
    "* Вывод: стандартный вывод или output.txt\n",
    "\n",
    "В данном списке из $n ≤ 10^5$ целых чисел найдите три числа,произведение которых максимально.\n",
    "\n",
    "Решение должно иметь сложность O(n), где n - размер списка.\n",
    "\n",
    "Выведите три искомых числа в любом порядке.\n",
    "\n",
    "Пример 1:\n",
    "\n",
    "Ввод:\n",
    "```\n",
    "3 5 1 7 9 0 9 -3 10\n",
    "\n",
    "```\n",
    "Вывод:\n",
    "```\n",
    "10 9 9\n",
    "```\n",
    "Пример 2:\n",
    "\n",
    "Ввод:\n",
    "```\n",
    "-5 -30000 -12\n",
    "```\n",
    "Вывод:\n",
    "```\n",
    "-5 -12 -30000\n",
    "```\n",
    "Пример 3:\n",
    "\n",
    "Ввод:\n",
    "```\n",
    "1 2 3\n",
    "```\n",
    "Вывод:\n",
    "```\n",
    "3 2 1\n",
    "```"
   ]
  },
  {
   "cell_type": "code",
   "execution_count": null,
   "id": "c37a8cf4",
   "metadata": {},
   "outputs": [],
   "source": []
  }
 ],
 "metadata": {
  "kernelspec": {
   "display_name": "Python 3",
   "language": "python",
   "name": "python3"
  },
  "language_info": {
   "codemirror_mode": {
    "name": "ipython",
    "version": 3
   },
   "file_extension": ".py",
   "mimetype": "text/x-python",
   "name": "python",
   "nbconvert_exporter": "python",
   "pygments_lexer": "ipython3",
   "version": "3.8.8"
  }
 },
 "nbformat": 4,
 "nbformat_minor": 5
}
