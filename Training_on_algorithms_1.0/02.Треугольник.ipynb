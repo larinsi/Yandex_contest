{
 "cells": [
  {
   "cell_type": "markdown",
   "id": "b03b6a35",
   "metadata": {},
   "source": [
    "### B. Треугольник\n",
    "* Ограничение времени: 1 секунда\n",
    "* Ограничение памяти: 64Mb\n",
    "* Ввод: стандартный ввод или input.txt\n",
    "* Вывод: стандартный вывод или output.txt\n",
    "__________________________________\n",
    "\n",
    "Даны три натуральных числа. Возможно ли построить треугольник с такими сторонами. Если это возможно, выведите строку YES, иначе выведите строку NO.\n",
    "\n",
    "Треугольник — это три точки, не лежащие на одной прямой.\n",
    "#### Формат ввода:\n",
    "\n",
    "Вводятся три натуральных числа.\n",
    "#### Формат вывода:\n",
    "\n",
    "Выведите ответ на задачу. "
   ]
  },
  {
   "cell_type": "markdown",
   "id": "c751be64",
   "metadata": {},
   "source": [
    "Пример 1:\n",
    "\n",
    "Ввод:\n",
    "\n",
    "`3`\n",
    "\n",
    "`4`\n",
    "\n",
    "`5`\n",
    "\n",
    "Вывод: \n",
    "\n",
    "`YES`\n",
    "\n",
    "Пример 2:\n",
    "\n",
    "Ввод:\n",
    "\n",
    "`3`\n",
    "\n",
    "`5`\n",
    "\n",
    "`4`\n",
    "\n",
    "Вывод: \n",
    "\n",
    "`YES`\n",
    "\n",
    "Пример 3:\n",
    "\n",
    "Ввод:\n",
    "\n",
    "`4`\n",
    "\n",
    "`5`\n",
    "\n",
    "`3`\n",
    "\n",
    "Вывод: \n",
    "\n",
    "`YES`"
   ]
  },
  {
   "cell_type": "code",
   "execution_count": 1,
   "id": "04de69a9",
   "metadata": {},
   "outputs": [
    {
     "name": "stdout",
     "output_type": "stream",
     "text": [
      "3\n",
      "4\n",
      "5\n"
     ]
    }
   ],
   "source": [
    "a = int(input())\n",
    "b = int(input())\n",
    "c = int(input())"
   ]
  },
  {
   "cell_type": "code",
   "execution_count": 2,
   "id": "7e0c034c",
   "metadata": {},
   "outputs": [],
   "source": [
    "def triangle(a: int, b: int, c: int):\n",
    "    longest = max(a, b, c)\n",
    "    if (a + b + c) - 2 * longest <= 0:\n",
    "        return \"NO\"\n",
    "    else:\n",
    "        return \"YES\""
   ]
  },
  {
   "cell_type": "code",
   "execution_count": 3,
   "id": "c835f021",
   "metadata": {},
   "outputs": [
    {
     "name": "stdout",
     "output_type": "stream",
     "text": [
      "YES\n"
     ]
    }
   ],
   "source": [
    "# Test 1\n",
    "a, b, c = 3, 4, 5\n",
    "print(triangle(a, b, c))"
   ]
  },
  {
   "cell_type": "code",
   "execution_count": 4,
   "id": "956c7373",
   "metadata": {},
   "outputs": [
    {
     "name": "stdout",
     "output_type": "stream",
     "text": [
      "YES\n"
     ]
    }
   ],
   "source": [
    "# Test 2\n",
    "a, b, c = 3, 5, 4\n",
    "print(triangle(a, b, c))"
   ]
  },
  {
   "cell_type": "code",
   "execution_count": 5,
   "id": "b30cc1e7",
   "metadata": {},
   "outputs": [
    {
     "name": "stdout",
     "output_type": "stream",
     "text": [
      "YES\n"
     ]
    }
   ],
   "source": [
    "# Test 3\n",
    "a, b, c = 4, 5, 3\n",
    "print(triangle(a, b, c))"
   ]
  },
  {
   "cell_type": "code",
   "execution_count": 6,
   "id": "59ce3d55",
   "metadata": {},
   "outputs": [
    {
     "name": "stdout",
     "output_type": "stream",
     "text": [
      "NO\n"
     ]
    }
   ],
   "source": [
    "# Test 4\n",
    "a, b, c = 3, 3, 6\n",
    "print(triangle(a, b, c))"
   ]
  },
  {
   "cell_type": "code",
   "execution_count": 7,
   "id": "81195c65",
   "metadata": {},
   "outputs": [
    {
     "name": "stdout",
     "output_type": "stream",
     "text": [
      "NO\n"
     ]
    }
   ],
   "source": [
    "# Test 5\n",
    "a, b, c = 3, 4, 8\n",
    "print(triangle(a, b, c))"
   ]
  },
  {
   "cell_type": "code",
   "execution_count": null,
   "id": "35b5c425",
   "metadata": {},
   "outputs": [],
   "source": []
  }
 ],
 "metadata": {
  "kernelspec": {
   "display_name": "Python 3",
   "language": "python",
   "name": "python3"
  },
  "language_info": {
   "codemirror_mode": {
    "name": "ipython",
    "version": 3
   },
   "file_extension": ".py",
   "mimetype": "text/x-python",
   "name": "python",
   "nbconvert_exporter": "python",
   "pygments_lexer": "ipython3",
   "version": "3.8.8"
  }
 },
 "nbformat": 4,
 "nbformat_minor": 5
}
