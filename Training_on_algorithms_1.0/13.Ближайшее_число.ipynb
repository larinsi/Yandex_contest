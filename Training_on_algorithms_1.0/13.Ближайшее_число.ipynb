{
 "cells": [
  {
   "cell_type": "markdown",
   "id": "369d4409",
   "metadata": {},
   "source": [
    "### C. Ближайшее число\n",
    "* Ограничение времени: 1 секунда\n",
    "* Ограничение памяти: 64Mb\n",
    "* Ввод: стандартный ввод или input.txt\n",
    "* Вывод: стандартный вывод или output.txt\n",
    "\n",
    "Напишите программу, которая находит в массиве элемент, самый близкий по величине к  данному числу.\n",
    "#### Формат ввода\n",
    "\n",
    "В первой строке задается одно натуральное число `N`, не превосходящее 1000 – размер массива. Во второй строке содержатся `N` чисел – элементы массива (целые числа, не превосходящие по модулю 1000). В третьей строке вводится одно целое число `x`, не превосходящее по модулю 1000.\n",
    "#### Формат вывода\n",
    "\n",
    "Вывести значение элемента массива, ближайшее к `x`. Если таких чисел несколько, выведите любое из них. "
   ]
  },
  {
   "cell_type": "markdown",
   "id": "a3b3b3a4",
   "metadata": {},
   "source": [
    "Пример 1:\n",
    "\n",
    "Ввод:\n",
    "\n",
    "```\n",
    "5\n",
    "1 2 3 4 5\n",
    "6\n",
    "```\n",
    "\n",
    "Вывод:\n",
    "\n",
    "`5`\n",
    "\n",
    "Пример 2:\n",
    "\n",
    "Ввод:\n",
    "\n",
    "```\n",
    "5\n",
    "5 4 3 2 1\n",
    "3\n",
    "```\n",
    "\n",
    "Вывод:\n",
    "\n",
    "`3`"
   ]
  },
  {
   "cell_type": "code",
   "execution_count": 2,
   "id": "d5ab93d8",
   "metadata": {},
   "outputs": [
    {
     "name": "stdout",
     "output_type": "stream",
     "text": [
      "5\n",
      "1 2 3 4 5\n",
      "3\n"
     ]
    }
   ],
   "source": [
    "N = int(input())\n",
    "array = [int(i) for i in input().split(\" \")]\n",
    "x = int(input())"
   ]
  },
  {
   "cell_type": "code",
   "execution_count": 3,
   "id": "61caadf6",
   "metadata": {},
   "outputs": [],
   "source": [
    "def nearest_num(array: list, x: int):\n",
    "    delta = abs(x - array[0])\n",
    "    result = array[0]\n",
    "    for i in range(1, len(array)):\n",
    "        if abs(x - array[i]) < delta:\n",
    "            delta = abs(x - array[i])\n",
    "            result = array[i]\n",
    "    return result"
   ]
  },
  {
   "cell_type": "code",
   "execution_count": 4,
   "id": "2164de18",
   "metadata": {},
   "outputs": [
    {
     "name": "stdout",
     "output_type": "stream",
     "text": [
      "5\n"
     ]
    }
   ],
   "source": [
    "# Test 1\n",
    "print(nearest_num([1, 2, 3, 4, 5], 6))\n",
    "# 5"
   ]
  },
  {
   "cell_type": "code",
   "execution_count": 7,
   "id": "c7cbd0ba",
   "metadata": {},
   "outputs": [
    {
     "name": "stdout",
     "output_type": "stream",
     "text": [
      "3\n"
     ]
    }
   ],
   "source": [
    "# Test 2\n",
    "print(nearest_num([5, 4, 3, 2, 1], 3))\n",
    "# 3"
   ]
  },
  {
   "cell_type": "code",
   "execution_count": null,
   "id": "ab3f511e",
   "metadata": {},
   "outputs": [],
   "source": []
  }
 ],
 "metadata": {
  "kernelspec": {
   "display_name": "Python 3",
   "language": "python",
   "name": "python3"
  },
  "language_info": {
   "codemirror_mode": {
    "name": "ipython",
    "version": 3
   },
   "file_extension": ".py",
   "mimetype": "text/x-python",
   "name": "python",
   "nbconvert_exporter": "python",
   "pygments_lexer": "ipython3",
   "version": "3.8.8"
  }
 },
 "nbformat": 4,
 "nbformat_minor": 5
}
