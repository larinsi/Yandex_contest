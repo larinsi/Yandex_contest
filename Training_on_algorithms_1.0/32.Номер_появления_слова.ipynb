{
 "cells": [
  {
   "cell_type": "markdown",
   "id": "98ff0112",
   "metadata": {},
   "source": [
    "### B. Номер появления слова\n",
    "* Ограничение времени: 1 секунда\n",
    "* Ограничение памяти: 64Mb\n",
    "* Ввод: стандартный ввод или input.txt\n",
    "* Вывод: стандартный вывод или output.txt\n",
    "\n",
    "Во входном файле (вы можете читать данные из файла input.txt) записан текст. Словом считается последовательность непробельных символов идущих подряд, слова разделены одним или большим числом пробелов или символами конца строки. Для каждого слова из этого текста подсчитайте, сколько раз оно встречалось в этом тексте ранее.\n",
    "#### Формат ввода\n",
    "\n",
    "Вводится текст.\n",
    "#### Формат вывода\n",
    "\n",
    "Выведите ответ на задачу. "
   ]
  },
  {
   "cell_type": "markdown",
   "id": "fe8efbfc",
   "metadata": {},
   "source": [
    "Пример 1:\n",
    "\n",
    "Ввод:\n",
    "```\n",
    "one two one tho three\n",
    "```\n",
    "Вывод:\n",
    "```\n",
    "0 0 1 0 0\n",
    "```\n",
    "Пример 2:\n",
    "\n",
    "Ввод:\n",
    "```\n",
    "She sells sea shells on the sea shore;\n",
    "The shells that she sells are sea shells I'm sure.\n",
    "So if she sells sea shells on the sea shore,\n",
    "I'm sure that the shells are sea shore shells.\n",
    "```\n",
    "Вывод:\n",
    "```\n",
    "0 0 0 0 0 0 1 0 0 1 0 0 1 0 2 2 0 0 0 0 1 2 3 3 1 1 4 0 1 0 1 2 4 1 5 0 0 \n",
    "```"
   ]
  },
  {
   "cell_type": "code",
   "execution_count": 1,
   "id": "9b586b8f",
   "metadata": {},
   "outputs": [],
   "source": [
    "def word_occurrence_number(text):\n",
    "    dict_of_words = {}\n",
    "    result = []\n",
    "    start = 0\n",
    "    for i in range(len(text)):\n",
    "        if text[i] in [\" \", \"\\n\"]:\n",
    "            if i == start:\n",
    "                start += 1\n",
    "                continue\n",
    "            if text[start:i] not in dict_of_words.keys():\n",
    "                dict_of_words[text[start:i]] = 0\n",
    "            result.append(dict_of_words[text[start:i]])\n",
    "            dict_of_words[text[start:i]] += 1\n",
    "            start = i+1\n",
    "    print(\" \".join(str(elem) for elem in result))"
   ]
  },
  {
   "cell_type": "code",
   "execution_count": 3,
   "id": "44982279",
   "metadata": {},
   "outputs": [
    {
     "name": "stdout",
     "output_type": "stream",
     "text": [
      "0 0 0 0 0 0 1 0 0 1 0 0 1 0 2 2 0 0 0 0 1 2 3 3 1 1 4 0 1 0 1 2 4 1 5 0 0\n"
     ]
    }
   ],
   "source": [
    "with open(\"32.2.txt\", \"r\") as file:\n",
    "    text = file.read()\n",
    "    \n",
    "word_occurrence_number(text)"
   ]
  },
  {
   "cell_type": "code",
   "execution_count": null,
   "id": "993785be",
   "metadata": {},
   "outputs": [],
   "source": []
  }
 ],
 "metadata": {
  "kernelspec": {
   "display_name": "Python 3",
   "language": "python",
   "name": "python3"
  },
  "language_info": {
   "codemirror_mode": {
    "name": "ipython",
    "version": 3
   },
   "file_extension": ".py",
   "mimetype": "text/x-python",
   "name": "python",
   "nbconvert_exporter": "python",
   "pygments_lexer": "ipython3",
   "version": "3.8.8"
  }
 },
 "nbformat": 4,
 "nbformat_minor": 5
}
