{
 "cells": [
  {
   "cell_type": "markdown",
   "id": "93bbae6a",
   "metadata": {},
   "source": [
    "### B. Номер появления слова\n",
    "* Ограничение времени: 1 секунда\n",
    "* Ограничение памяти: 64Mb\n",
    "* Ввод: стандартный ввод или input.txt\n",
    "* Вывод: стандартный вывод или output.txt\n",
    "\n",
    "Во входном файле (вы можете читать данные из файла input.txt) записан текст. Словом считается последовательность непробельных символов идущих подряд, слова разделены одним или большим числом пробелов или символами конца строки. Для каждого слова из этого текста подсчитайте, сколько раз оно встречалось в этом тексте ранее.\n",
    "#### Формат ввода\n",
    "\n",
    "Вводится текст.\n",
    "#### Формат вывода\n",
    "\n",
    "Выведите ответ на задачу. "
   ]
  },
  {
   "cell_type": "markdown",
   "id": "b97165da",
   "metadata": {},
   "source": [
    "Пример 1:\n",
    "\n",
    "Ввод:\n",
    "```\n",
    "one two one tho three\n",
    "```\n",
    "Вывод:\n",
    "```\n",
    "0 0 1 0 0\n",
    "```\n",
    "Пример 2:\n",
    "\n",
    "Ввод:\n",
    "```\n",
    "She sells sea shells on the sea shore;\n",
    "The shells that she sells are sea shells I'm sure.\n",
    "So if she sells sea shells on the sea shore,\n",
    "I'm sure that the shells are sea shore shells.\n",
    "```\n",
    "Вывод:\n",
    "```\n",
    "0 0 0 0 0 0 1 0 0 1 0 0 1 0 2 2 0 0 0 0 1 2 3 3 1 1 4 0 1 0 1 2 4 1 5 0 0 \n",
    "```"
   ]
  },
  {
   "cell_type": "code",
   "execution_count": 3,
   "id": "e735ca92",
   "metadata": {},
   "outputs": [],
   "source": [
    "def word_occurrence_number(text):\n",
    "    pass"
   ]
  },
  {
   "cell_type": "code",
   "execution_count": 4,
   "id": "5980f332",
   "metadata": {},
   "outputs": [],
   "source": [
    "# Test 1\n",
    "text = \"one two one tho three\"\n",
    "word_occurrence_number(text)\n",
    "# 0 0 1 0 0"
   ]
  },
  {
   "cell_type": "code",
   "execution_count": 7,
   "id": "c3c6cd68",
   "metadata": {},
   "outputs": [],
   "source": [
    "# Test 2\n",
    "text = \"She sells sea shells on the sea shore;\\nThe shells that she sells are sea shells I'm sure.\\nSo if she sells sea shells on the sea shore,\\nI'm sure that the shells are sea shore shells.\\n\"\n",
    "word_occurrence_number(text)\n",
    "# 0 0 0 0 0 0 1 0 0 1 0 0 1 0 2 2 0 0 0 0 1 2 3 3 1 1 4 0 1 0 1 2 4 1 5 0 0 "
   ]
  },
  {
   "cell_type": "code",
   "execution_count": null,
   "id": "ddee71ae",
   "metadata": {},
   "outputs": [],
   "source": []
  }
 ],
 "metadata": {
  "kernelspec": {
   "display_name": "Python 3",
   "language": "python",
   "name": "python3"
  },
  "language_info": {
   "codemirror_mode": {
    "name": "ipython",
    "version": 3
   },
   "file_extension": ".py",
   "mimetype": "text/x-python",
   "name": "python",
   "nbconvert_exporter": "python",
   "pygments_lexer": "ipython3",
   "version": "3.8.8"
  }
 },
 "nbformat": 4,
 "nbformat_minor": 5
}
