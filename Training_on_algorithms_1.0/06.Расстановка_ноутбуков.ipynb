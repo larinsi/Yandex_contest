{
 "cells": [
  {
   "cell_type": "markdown",
   "id": "00d69143",
   "metadata": {},
   "source": [
    "### F. Расстановка ноутбуков\n",
    "* Ограничение времени: 1 секунда\n",
    "* Ограничение памяти: 64Mb\n",
    "* Ввод: стандартный ввод или input.txt\n",
    "* Вывод: стандартный вывод или output.txt\n",
    "\n",
    "В школе решили на один прямоугольный стол поставить два прямоугольных ноутбука. Ноутбуки нужно поставить так, чтобы их стороны были параллельны сторонам стола. Определите, какие размеры должен иметь стол, чтобы оба ноутбука на него поместились, и площадь стола была минимальна.\n",
    "\n",
    "#### Формат ввода:\n",
    "\n",
    "Вводится четыре натуральных числа, первые два задают размеры одного ноутбука, а следующие два — размеры второго. Числа не превышают 1000.\n",
    "\n",
    "#### Формат вывода:\n",
    "\n",
    "Выведите два числа — размеры стола. Если возможно несколько ответов, выведите любой из них (но только один)."
   ]
  },
  {
   "cell_type": "markdown",
   "id": "ae555fb2",
   "metadata": {},
   "source": [
    "Пример 1:\n",
    "\n",
    "Ввод:\n",
    "\n",
    "`10 2 2 10`\n",
    "\n",
    "Вывод:\n",
    "\n",
    "`20 2`\n",
    "\n",
    "Пример 2:\n",
    "\n",
    "Ввод:\n",
    "\n",
    "`5 7 3 2`\n",
    "\n",
    "Вывод:\n",
    "\n",
    "`9 5`"
   ]
  },
  {
   "cell_type": "code",
   "execution_count": 6,
   "id": "77e59034",
   "metadata": {},
   "outputs": [
    {
     "name": "stdout",
     "output_type": "stream",
     "text": [
      "10 2 2 10\n"
     ]
    }
   ],
   "source": [
    "[a1, b1, a2, b2] = [int(i) for i in input().split(\" \")]"
   ]
  },
  {
   "cell_type": "markdown",
   "id": "c2870781",
   "metadata": {},
   "source": [
    "* Выбираем ноутбук с большей площадью S\n",
    "* Узнаем, можем ли мы уместить площадь меньшего s в площадь большего S\n",
    "* Если да, умещаем так, чтобы оставшаяся площадь была минимальна\n",
    "* Если нет, возникает ситуация, когда бОльшая сторона маленького ноутбука строго больше большей стороны большого ноутбука и нужно располагать эти стороны параллельно"
   ]
  },
  {
   "cell_type": "code",
   "execution_count": 47,
   "id": "aadac92c",
   "metadata": {},
   "outputs": [],
   "source": [
    "def min_square(a1, b1, a2, b2):\n",
    "    s1 = a1 * b1\n",
    "    s2 = a2 * b2\n",
    "    result = []\n",
    "    # Площади равны\n",
    "    if s1 == s2:\n",
    "        if a1 == a2:\n",
    "            result = 2 * a1, b1\n",
    "        elif a1 == b2:\n",
    "            result = a1 + b2, a2\n",
    "        else:\n",
    "            result = min(a1, b1) + min(a2, b2), max(a1, b1, a2, b2)\n",
    "    # Площади неравны\n",
    "    else:\n",
    "        # Равны одни из сторон\n",
    "        if a1 == a2:\n",
    "            result = a1, b1 + b2\n",
    "        elif a1 == b2:\n",
    "            result = a1, b1 + a2\n",
    "        elif b1 == a2:\n",
    "            result = b1, a1 + b2\n",
    "        # Неравны одни из сторон\n",
    "        else:\n",
    "            \n",
    "    return result\n",
    "    "
   ]
  },
  {
   "cell_type": "code",
   "execution_count": 48,
   "id": "9403e896",
   "metadata": {},
   "outputs": [
    {
     "data": {
      "text/plain": [
       "(20, 2)"
      ]
     },
     "execution_count": 48,
     "metadata": {},
     "output_type": "execute_result"
    }
   ],
   "source": [
    "# Test 1\n",
    "a1, b1, a2, b2 = 10, 2, 2, 10\n",
    "min_square(a1, b1, a2, b2)\n",
    "# 20 2"
   ]
  },
  {
   "cell_type": "code",
   "execution_count": 49,
   "id": "b3af1f57",
   "metadata": {},
   "outputs": [
    {
     "data": {
      "text/plain": [
       "(6, 10)"
      ]
     },
     "execution_count": 49,
     "metadata": {},
     "output_type": "execute_result"
    }
   ],
   "source": [
    "# Test 2\n",
    "a1, b1, a2, b2 = 10, 2, 4, 5\n",
    "min_square(a1, b1, a2, b2)\n",
    "# 6 10"
   ]
  },
  {
   "cell_type": "code",
   "execution_count": 50,
   "id": "7c4aa7eb",
   "metadata": {},
   "outputs": [
    {
     "data": {
      "text/plain": [
       "(2, 21)"
      ]
     },
     "execution_count": 50,
     "metadata": {},
     "output_type": "execute_result"
    }
   ],
   "source": [
    "# Test 4\n",
    "a1, b1, a2, b2 = 10, 2, 2, 11\n",
    "min_square(a1, b1, a2, b2)\n",
    "# 21 2"
   ]
  },
  {
   "cell_type": "code",
   "execution_count": 11,
   "id": "3f7575aa",
   "metadata": {},
   "outputs": [],
   "source": [
    "# Test 3\n",
    "a1, b1, a2, b2 = 5, 7, 3, 2\n",
    "min_square(a1, b1, a2, b2)\n",
    "# 9 5"
   ]
  },
  {
   "cell_type": "code",
   "execution_count": 13,
   "id": "09ab8a00",
   "metadata": {},
   "outputs": [],
   "source": [
    "# Test 5\n",
    "a1, b1, a2, b2 = 5, 7, 1, 8\n",
    "min_square(a1, b1, a2, b2)\n",
    "# 6 8"
   ]
  },
  {
   "cell_type": "code",
   "execution_count": null,
   "id": "7f77de4d",
   "metadata": {},
   "outputs": [],
   "source": []
  }
 ],
 "metadata": {
  "kernelspec": {
   "display_name": "Python 3",
   "language": "python",
   "name": "python3"
  },
  "language_info": {
   "codemirror_mode": {
    "name": "ipython",
    "version": 3
   },
   "file_extension": ".py",
   "mimetype": "text/x-python",
   "name": "python",
   "nbconvert_exporter": "python",
   "pygments_lexer": "ipython3",
   "version": "3.8.8"
  }
 },
 "nbformat": 4,
 "nbformat_minor": 5
}
