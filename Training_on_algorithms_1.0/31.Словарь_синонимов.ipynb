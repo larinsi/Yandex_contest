{
 "cells": [
  {
   "cell_type": "markdown",
   "id": "0bd17a6b",
   "metadata": {},
   "source": [
    "### A. Словарь синонимов\n",
    "* Ограничение времени: 1 секунда\n",
    "* Ограничение памяти: 64Mb\n",
    "* Ввод: стандартный ввод или input.txt\n",
    "* Вывод: стандартный вывод или output.txt\n",
    "\n",
    "Вам дан словарь, состоящий из пар слов. Каждое слово является синонимом к парному ему слову. Все слова в словаре различны. Для одного данного слова определите его синоним.\n",
    "### Формат ввода\n",
    "\n",
    "Программа получает на вход количество пар синонимов N. Далее следует N строк, каждая строка содержит ровно два слова-синонима. После этого следует одно слово.\n",
    "### Формат вывода\n",
    "\n",
    "Программа должна вывести синоним к данному слову. \n",
    "\n",
    "Примечание\n",
    "\n",
    "Эту задачу можно решить и без словарей (сохранив все входные данные в списке), но решение со словарем будет более простым."
   ]
  },
  {
   "cell_type": "markdown",
   "id": "c4cf3b22",
   "metadata": {},
   "source": [
    "Пример 1:\n",
    "\n",
    "Ввод:\n",
    "```\n",
    "3\n",
    "Hello Hi\n",
    "Bye Goodbye\n",
    "List Array\n",
    "Goodbye\n",
    "```\n",
    "Вывод:\n",
    "```\n",
    "Bye\n",
    "```\n",
    "Пример 2:\n",
    "\n",
    "Ввод:\n",
    "```\n",
    "1\n",
    "beep Car\n",
    "Car\n",
    "```\n",
    "Вывод:\n",
    "```\n",
    "beep\n",
    "```\n",
    "Пример 3:\n",
    "\n",
    "Ввод:\n",
    "```\n",
    "2\n",
    "Ololo Ololo\n",
    "Numbers 1234567890\n",
    "Numbers\n",
    "```\n",
    "Вывод:\n",
    "```\n",
    "1234567890\n",
    "```"
   ]
  },
  {
   "cell_type": "code",
   "execution_count": 1,
   "id": "2aa43f38",
   "metadata": {},
   "outputs": [],
   "source": [
    "def dictionary():\n",
    "    dictionary = {}\n",
    "    n = int(input())\n",
    "    for _ in range(n):\n",
    "        word1, word2 = input().split()\n",
    "        dictionary[word1] = word2\n",
    "        dictionary[word2] = word1\n",
    "    key = input()\n",
    "    print(dictionary[key])"
   ]
  },
  {
   "cell_type": "code",
   "execution_count": 3,
   "id": "8d7136bf",
   "metadata": {},
   "outputs": [
    {
     "name": "stdout",
     "output_type": "stream",
     "text": [
      "1\n",
      "beep Car\n",
      "Car\n",
      "beep\n"
     ]
    }
   ],
   "source": [
    "dictionary()"
   ]
  },
  {
   "cell_type": "code",
   "execution_count": null,
   "id": "9cb7d870",
   "metadata": {},
   "outputs": [],
   "source": []
  }
 ],
 "metadata": {
  "kernelspec": {
   "display_name": "Python 3",
   "language": "python",
   "name": "python3"
  },
  "language_info": {
   "codemirror_mode": {
    "name": "ipython",
    "version": 3
   },
   "file_extension": ".py",
   "mimetype": "text/x-python",
   "name": "python",
   "nbconvert_exporter": "python",
   "pygments_lexer": "ipython3",
   "version": "3.8.8"
  }
 },
 "nbformat": 4,
 "nbformat_minor": 5
}
