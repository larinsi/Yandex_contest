{
 "cells": [
  {
   "cell_type": "markdown",
   "id": "9d57ef43",
   "metadata": {},
   "source": [
    "### B. Сумма номеров\n",
    "* Ограничение времени: 1 секунда\n",
    "* Ограничение памяти: 64Mb\n",
    "* Ввод: стандартный ввод или input.txt\n",
    "* Вывод: стандартный вывод или output.txt\n",
    "\n",
    "Вася очень любит везде искать своё счастливое число $K$. Каждый день он ходит в школу по улице, вдоль которой припарковано $N$ машин. Он заинтересовался вопросом, сколько существует наборов машин, стоящих подряд на местах с $L$ до $R$, что сумма их номеров равна $K$. Помогите Васе узнать ответ на его вопрос.\n",
    "\n",
    "Например, если число $N=5$, $K=17$, а номера машин равны $17, 7, 10, 7, 10$, то существует 4 набора машин:\n",
    "\n",
    "$17 (L=1,R=1)$,\n",
    "\n",
    "$7, 10 (L=2,R=3)$,\n",
    "\n",
    "$10, 7 (L=3,R=4)$,\n",
    "\n",
    "$7, 10 (L=4,R=5)$\n",
    "\n",
    "#### Формат ввода\n",
    "В первой строке входных данных задаются числа $N$ и $K$ $(1≤N≤100000, 1≤K≤10^9)$.\n",
    "\n",
    "Во второй строке содержится $N$ чисел, задающих номера машин. Номера машин могут принимать значения от 1 до 999 включительно.\n",
    "#### Формат вывода\n",
    "Необходимо вывести одно число — количество наборов. "
   ]
  },
  {
   "cell_type": "code",
   "execution_count": 16,
   "id": "fedd7450",
   "metadata": {},
   "outputs": [],
   "source": [
    "def sum_nums(array, n, k):\n",
    "    prefixsum = [0] * (n + 1)\n",
    "    counter = 0\n",
    "    right = 0\n",
    "\n",
    "    for i in range(1, n + 1):\n",
    "        prefixsum[i] = prefixsum[i - 1] + array[i - 1]\n",
    "\n",
    "    for left in range(n):\n",
    "        while right < n:\n",
    "            right += 1\n",
    "            if prefixsum[right] - prefixsum[left] == k:\n",
    "                counter += 1\n",
    "                break\n",
    "\n",
    "    print(counter)"
   ]
  },
  {
   "cell_type": "code",
   "execution_count": 2,
   "id": "9e219575",
   "metadata": {},
   "outputs": [],
   "source": [
    "with open(\"42.1.txt\", \"r\") as file:\n",
    "    n, k = map(int, file.readline().strip().split())\n",
    "    array = list(map(int, file.readline().strip().split()))"
   ]
  },
  {
   "cell_type": "code",
   "execution_count": 19,
   "id": "20464cbb",
   "metadata": {},
   "outputs": [],
   "source": [
    "with open(\"42.2.txt\", \"r\") as file:\n",
    "    n, k = map(int, file.readline().strip().split())\n",
    "    array = list(map(int, file.readline().strip().split()))"
   ]
  },
  {
   "cell_type": "code",
   "execution_count": 20,
   "id": "061ff6a6",
   "metadata": {},
   "outputs": [
    {
     "name": "stdout",
     "output_type": "stream",
     "text": [
      "5 10 [1, 2, 3, 4, 1]\n"
     ]
    }
   ],
   "source": [
    "print(n, k, array)"
   ]
  },
  {
   "cell_type": "code",
   "execution_count": 21,
   "id": "32d573db",
   "metadata": {},
   "outputs": [
    {
     "name": "stdout",
     "output_type": "stream",
     "text": [
      "[0, 1, 3, 6, 10, 11]\n",
      "2\n"
     ]
    }
   ],
   "source": [
    "sum_nums(array, n, k)"
   ]
  },
  {
   "cell_type": "code",
   "execution_count": null,
   "id": "6b905ffe",
   "metadata": {},
   "outputs": [],
   "source": []
  }
 ],
 "metadata": {
  "kernelspec": {
   "display_name": "Python 3",
   "language": "python",
   "name": "python3"
  },
  "language_info": {
   "codemirror_mode": {
    "name": "ipython",
    "version": 3
   },
   "file_extension": ".py",
   "mimetype": "text/x-python",
   "name": "python",
   "nbconvert_exporter": "python",
   "pygments_lexer": "ipython3",
   "version": "3.8.8"
  }
 },
 "nbformat": 4,
 "nbformat_minor": 5
}
