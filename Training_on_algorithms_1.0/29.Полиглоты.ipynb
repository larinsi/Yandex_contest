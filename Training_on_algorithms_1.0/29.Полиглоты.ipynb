{
 "cells": [
  {
   "cell_type": "markdown",
   "id": "609d4147",
   "metadata": {},
   "source": [
    "### I. Полиглоты\n",
    "* Ограничение времени: 1 секунда\n",
    "* Ограничение памяти: 64Mb\n",
    "* Ввод: стандартный ввод или input.txt\n",
    "* Вывод: стандартный вывод или output.txt\n",
    "\n",
    "Каждый из $N$ школьников некоторой школы знает $M_i$ языков. Определите, какие языки знают все школьники и языки, которые знает хотя бы один из школьников.\n",
    "#### Формат ввода\n",
    "\n",
    "Первая строка входных данных содержит количество школьников $N$. Далее идет $N$ чисел $M_i$, после каждого из чисел идет $M_i$ строк, содержащих названия языков, которые знает i-й школьник. Длина названий языков не превышает 1000 символов, количество различных языков не более 1000. $1 ≤ N ≤ 1000$, $1 ≤ M_i ≤ 500$.\n",
    "#### Формат вывода\n",
    "\n",
    "В первой строке выведите количество языков, которые знают все школьники. Начиная со второй строки - список таких языков. Затем - количество языков, которые знает хотя бы один школьник, на следующих строках - список таких языков. "
   ]
  },
  {
   "cell_type": "markdown",
   "id": "2722249e",
   "metadata": {},
   "source": [
    "Пример:\n",
    "\n",
    "Ввод:\n",
    "```\n",
    "3\n",
    "3\n",
    "Russian\n",
    "English\n",
    "Japanese\n",
    "2\n",
    "Russian\n",
    "English\n",
    "1\n",
    "English\n",
    "```\n",
    "Вывод:\n",
    "```\n",
    "1\n",
    "English\n",
    "3\n",
    "Russian\n",
    "Japanese\n",
    "English\n",
    "```"
   ]
  },
  {
   "cell_type": "code",
   "execution_count": 3,
   "id": "872da0f7",
   "metadata": {},
   "outputs": [],
   "source": [
    "def polyglots():\n",
    "    knows_everyone = set()\n",
    "    knows_someone = set()\n",
    "    student_knows = set()\n",
    "    n = int(input())\n",
    "    for _ in range(n):\n",
    "        m = int(input())\n",
    "        for i in range(m):\n",
    "            lang = input()\n",
    "            knows_someone.add(lang)\n",
    "            if _ == 0:\n",
    "                knows_everyone.add(lang)\n",
    "            else:\n",
    "                student_knows.add(lang)\n",
    "        if _ != 0:\n",
    "            knows_everyone = knows_everyone & student_knows\n",
    "        student_knows.clear()\n",
    "    \n",
    "    print(len(knows_everyone))\n",
    "    for lang in knows_everyone:\n",
    "        print(lang)\n",
    "    print(len(knows_someone))\n",
    "    for lang in knows_someone:\n",
    "        print(lang)"
   ]
  },
  {
   "cell_type": "code",
   "execution_count": 4,
   "id": "42d7d052",
   "metadata": {},
   "outputs": [
    {
     "name": "stdout",
     "output_type": "stream",
     "text": [
      "3\n",
      "3\n",
      "e\n",
      "r\n",
      "j\n",
      "2\n",
      "e\n",
      "r\n",
      "1\n",
      "e\n",
      "1\n",
      "e\n",
      "3\n",
      "j\n",
      "e\n",
      "r\n"
     ]
    }
   ],
   "source": [
    "polyglots()"
   ]
  },
  {
   "cell_type": "code",
   "execution_count": null,
   "id": "d87e635e",
   "metadata": {},
   "outputs": [],
   "source": []
  }
 ],
 "metadata": {
  "kernelspec": {
   "display_name": "Python 3",
   "language": "python",
   "name": "python3"
  },
  "language_info": {
   "codemirror_mode": {
    "name": "ipython",
    "version": 3
   },
   "file_extension": ".py",
   "mimetype": "text/x-python",
   "name": "python",
   "nbconvert_exporter": "python",
   "pygments_lexer": "ipython3",
   "version": "3.8.8"
  }
 },
 "nbformat": 4,
 "nbformat_minor": 5
}
