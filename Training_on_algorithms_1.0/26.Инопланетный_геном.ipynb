{
 "cells": [
  {
   "cell_type": "markdown",
   "id": "a6b41708",
   "metadata": {},
   "source": [
    "### F. Инопланетный геном\n",
    "* Ограничение времени: 1 секунда\n",
    "* Ограничение памяти: 64Mb\n",
    "* Ввод: стандартный ввод или input.txt\n",
    "* Вывод: стандартный вывод или output.txt\n",
    "\n",
    "Геном жителей системы Тау Кита содержит 26 видов оснований, для обозначения которых будем использовать буквы латинского алфавита от A до Z, а сам геном записывается строкой из латинских букв. Важную роль в геноме играют пары соседних оснований, например, в геноме «ABBACAB» можно выделить следующие пары оснований: AB, BB, BA, AC, CA, AB.\n",
    "\n",
    "Степенью близости одного генома другому геному называется количество пар соседних оснований первого генома, которые встречаются во втором геноме.\n",
    "\n",
    "Вам даны два генома, определите степень близости первого генома второму геному. Программа получает на вход две строки, состоящие из заглавных латинских букв. Каждая строка непустая, и её длина не превосходит $10^5$.\n",
    "\n",
    "Программа должна вывести одно целое число – степень близости генома, записанного в первой строке, геному, записанному во второй строке."
   ]
  },
  {
   "cell_type": "markdown",
   "id": "a0b0a912",
   "metadata": {},
   "source": [
    "Пример:\n",
    "\n",
    "Ввод:\n",
    "```\n",
    "ABBACAB\n",
    "BCABB\n",
    "```\n",
    "Вывод:\n",
    "```\n",
    "4\n",
    "```\n",
    "\n",
    "#### Примечания\n",
    "\n",
    "Следующие пары оснований первого генома встречаются во втором геноме: AB, BB, CA, AB. Обратите внимание на то, что пара AB в первом геноме встречается два раза, поэтому и подсчитана в ответе два раза.\n",
    "\n",
    "Система оценивания:\n",
    "\n",
    "Решение, правильно работающее только для случаев, когда длины данных строк не превосходят 100, будет оцениваться в 60 баллов."
   ]
  },
  {
   "cell_type": "code",
   "execution_count": 1,
   "id": "41976322",
   "metadata": {},
   "outputs": [
    {
     "name": "stdout",
     "output_type": "stream",
     "text": [
      "ABBACAB\n",
      "BCABB\n"
     ]
    }
   ],
   "source": [
    "genome1 = input()\n",
    "genome2 = input()"
   ]
  },
  {
   "cell_type": "code",
   "execution_count": 2,
   "id": "aa4e71fa",
   "metadata": {},
   "outputs": [],
   "source": [
    "def genome_proximety(genome1, genome2):\n",
    "    genome1_dict = {}\n",
    "    genome2_set = set()\n",
    "    result = 0\n",
    "    for i in range(len(genome1) - 1):\n",
    "        if genome1[i: i+2] not in genome1_dict.keys():\n",
    "            genome1_dict.update({genome1[i:i+2]: 1})\n",
    "        else:\n",
    "            genome1_dict[genome1[i:i+2]] += 1\n",
    "    for i in range(len(genome2) - 1):\n",
    "        genome2_set.add(genome2[i:i+2])\n",
    "    for elem in genome2_set:\n",
    "        if elem in genome1_dict.keys():\n",
    "            result += genome1_dict[elem]\n",
    "    print(result)"
   ]
  },
  {
   "cell_type": "code",
   "execution_count": 3,
   "id": "2614e420",
   "metadata": {},
   "outputs": [
    {
     "name": "stdout",
     "output_type": "stream",
     "text": [
      "4\n"
     ]
    }
   ],
   "source": [
    "# Test 1\n",
    "genome_proximety(\"ABBACAB\", \"BCABB\")\n",
    "# 4"
   ]
  },
  {
   "cell_type": "code",
   "execution_count": null,
   "id": "daa2a543",
   "metadata": {},
   "outputs": [],
   "source": []
  }
 ],
 "metadata": {
  "kernelspec": {
   "display_name": "Python 3",
   "language": "python",
   "name": "python3"
  },
  "language_info": {
   "codemirror_mode": {
    "name": "ipython",
    "version": 3
   },
   "file_extension": ".py",
   "mimetype": "text/x-python",
   "name": "python",
   "nbconvert_exporter": "python",
   "pygments_lexer": "ipython3",
   "version": "3.8.8"
  }
 },
 "nbformat": 4,
 "nbformat_minor": 5
}
