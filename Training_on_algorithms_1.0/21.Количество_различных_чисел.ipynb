{
 "cells": [
  {
   "cell_type": "markdown",
   "id": "f29db633",
   "metadata": {},
   "source": [
    "### A. Количество различных чисел\n",
    "* Ограничение времени: 1 секунда\n",
    "* Ограничение памяти: 64Mb\n",
    "* Ввод: стандартный ввод или input.txt\n",
    "* Вывод: стандартный вывод или output.txt\n",
    "\n",
    "Дан список чисел, который может содержать до 100000 чисел. Определите, сколько в нем встречается различных чисел.\n",
    "#### Формат ввода\n",
    "\n",
    "Вводится список целых чисел. Все числа списка находятся на одной строке.\n",
    "#### Формат вывода\n",
    "\n",
    "Выведите ответ на задачу. "
   ]
  },
  {
   "cell_type": "markdown",
   "id": "5971456a",
   "metadata": {},
   "source": [
    "Пример 1:\n",
    "\n",
    "Ввод:\n",
    "```\n",
    "1 2 3 2 1\n",
    "```\n",
    "Вывод:\n",
    "```\n",
    "3\n",
    "```\n",
    "Пример 2:\n",
    "\n",
    "Ввод:\n",
    "```\n",
    "1 2 3 4 5 6 7 8 9 10\n",
    "```\n",
    "Вывод:\n",
    "```\n",
    "10\n",
    "```\n",
    "Пример 3:\n",
    "\n",
    "Ввод:\n",
    "```\n",
    "1 2 3 4 5 1 2 1 2 7 3\n",
    "```\n",
    "Вывод:\n",
    "```\n",
    "6\n",
    "```"
   ]
  },
  {
   "cell_type": "code",
   "execution_count": null,
   "id": "3830afef",
   "metadata": {},
   "outputs": [],
   "source": []
  }
 ],
 "metadata": {
  "kernelspec": {
   "display_name": "Python 3",
   "language": "python",
   "name": "python3"
  },
  "language_info": {
   "codemirror_mode": {
    "name": "ipython",
    "version": 3
   },
   "file_extension": ".py",
   "mimetype": "text/x-python",
   "name": "python",
   "nbconvert_exporter": "python",
   "pygments_lexer": "ipython3",
   "version": "3.8.8"
  }
 },
 "nbformat": 4,
 "nbformat_minor": 5
}
