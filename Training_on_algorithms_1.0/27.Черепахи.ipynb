{
 "cells": [
  {
   "cell_type": "markdown",
   "id": "2aa9775c",
   "metadata": {},
   "source": [
    "### G. Черепахи\n",
    "* Ограничение времени: 1 секунда\n",
    "* Ограничение памяти: 64Mb\n",
    "* Ввод: стандартный ввод или input.txt\n",
    "* Вывод: стандартный вывод или output.txt\n",
    "\n",
    "Широко известна следующая задача для младших школьников. Три черепахи ползут по дороге. Одна черепаха говорит: “Впереди меня две черепахи”. Другая черепаха говорит: “Позади меня две черепахи”. Третья черепаха говорит: “Впереди меня две черепахи и позади меня две черепахи”. Как такое может быть? Ответ: третья черепаха врет! По дороге одна за другой движутся N черепах. Каждая черепаха говорит фразу вида: “Впереди меня $a_i$ черепах, а позади меня $b_i$ черепах”. Ваша задача определить, сколько самое большее количество черепах могут говорить правду.\n",
    "#### Формат ввода\n",
    "\n",
    "В первой строке вводится целое число N (1 ≤ N ≤ 10000) строк, содержащих целые числа $a_i$ и $b_i$, по модулю не превосходящие 10000, описывающие высказывание i-ой черепахи.\n",
    "#### Формат вывода\n",
    "\n",
    "Выведите целое число M – максимальное количество черепах, которые могут говорить правду. "
   ]
  },
  {
   "cell_type": "markdown",
   "id": "267cedba",
   "metadata": {},
   "source": [
    "Пример 1:\n",
    "\n",
    "Ввод:\n",
    "```\n",
    "3\n",
    "2 0\n",
    "0 2\n",
    "2 2\n",
    "```\n",
    "Вывод:\n",
    "```\n",
    "2\n",
    "```\n",
    "Пример 2:\n",
    "\n",
    "Ввод:\n",
    "```\n",
    "5\n",
    "0 4\n",
    "1 3\n",
    "2 2\n",
    "3 1\n",
    "4 0\n",
    "```\n",
    "Вывод:\n",
    "```\n",
    "5\n",
    "```\n",
    "Пример 3:\n",
    "\n",
    "Ввод:\n",
    "```\n",
    "10\n",
    "9 1\n",
    "8 1\n",
    "7 2\n",
    "6 2\n",
    "5 3\n",
    "4 4\n",
    "3 6\n",
    "2 7\n",
    "1 9\n",
    "0 8\n",
    "```\n",
    "Вывод:\n",
    "```\n",
    "4\n",
    "```"
   ]
  },
  {
   "cell_type": "code",
   "execution_count": 13,
   "id": "701630a1",
   "metadata": {},
   "outputs": [],
   "source": [
    "def turtles2():\n",
    "    probably_true = set()\n",
    "    n = int(input())\n",
    "    for i in range(n):\n",
    "        probably_true.add((i, n-1-i))\n",
    "    for i in range(n):\n",
    "        ai, bi = list(map(int, input().split()))\n",
    "        if (ai, bi) in probably_true:\n",
    "            probably_true.remove((ai, bi))\n",
    "    print(n - len(probably_true))"
   ]
  },
  {
   "cell_type": "code",
   "execution_count": 16,
   "id": "e744d79e",
   "metadata": {},
   "outputs": [
    {
     "name": "stdout",
     "output_type": "stream",
     "text": [
      "5\n",
      "0 4\n",
      "1 3\n",
      "2 2\n",
      "3 1\n",
      "4 0\n",
      "5\n"
     ]
    }
   ],
   "source": [
    "turtles2()"
   ]
  },
  {
   "cell_type": "code",
   "execution_count": 10,
   "id": "2f28afcf",
   "metadata": {},
   "outputs": [],
   "source": [
    "# Решение работает только если черепахи идут и высказываются по порядку\n",
    "def turtles():\n",
    "    counter_up = 0\n",
    "    counter_down = 0\n",
    "    n = int(input())\n",
    "    for i in range(n):\n",
    "        ai, bi = list(map(int, input().split()))\n",
    "        if ai + bi == n - 1:\n",
    "            print(\"probably true\")\n",
    "            if ai == i:\n",
    "                counter_up += 1\n",
    "            if bi == i:\n",
    "                counter_down += 1\n",
    "    print(max(counter_up, counter_down))"
   ]
  },
  {
   "cell_type": "code",
   "execution_count": 8,
   "id": "fd4c11d6",
   "metadata": {},
   "outputs": [
    {
     "name": "stdout",
     "output_type": "stream",
     "text": [
      "3\n",
      "2 0\n",
      "probably true\n",
      "0 2\n",
      "probably true\n",
      "2 2\n",
      "1\n"
     ]
    }
   ],
   "source": [
    "turtles()"
   ]
  }
 ],
 "metadata": {
  "kernelspec": {
   "display_name": "Python 3",
   "language": "python",
   "name": "python3"
  },
  "language_info": {
   "codemirror_mode": {
    "name": "ipython",
    "version": 3
   },
   "file_extension": ".py",
   "mimetype": "text/x-python",
   "name": "python",
   "nbconvert_exporter": "python",
   "pygments_lexer": "ipython3",
   "version": "3.8.8"
  }
 },
 "nbformat": 4,
 "nbformat_minor": 5
}
