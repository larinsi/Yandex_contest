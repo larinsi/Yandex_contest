{
 "cells": [
  {
   "cell_type": "markdown",
   "id": "0de2115e",
   "metadata": {},
   "source": [
    "### C. Телефонные номера\n",
    "* Ограничение времени \t1 секунда\n",
    "* Ограничение памяти \t64Mb\n",
    "* Ввод \tстандартный ввод или input.txt\n",
    "* Вывод \tстандартный вывод или output.txt\n",
    "_________________________________________________\n",
    "\n",
    "Телефонные номера в адресной книге мобильного телефона имеют один из следующих форматов: +7<код><номер>, 8<код><номер>, <номер>, где <номер> — это семь цифр, а <код> — это три цифры или три цифры в круглых скобках. Если код не указан, то считается, что он равен 495. Кроме того, в записи телефонного номера может стоять знак “-” между любыми двумя цифрами (см. пример). На данный момент в адресной книге телефона Васи записано всего три телефонных номера, и он хочет записать туда еще один. Но он не может понять, не записан ли уже такой номер в телефонной книге. Помогите ему! Два телефонных номера совпадают, если у них равны коды и равны номера. Например, +7(916)0123456 и 89160123456 — это один и тот же номер.\n",
    "\n",
    "#### Формат ввода:\n",
    "\n",
    "В первой строке входных данных записан номер телефона, который Вася хочет добавить в адресную книгу своего телефона. В следующих трех строках записаны три номера телефонов, которые уже находятся в адресной книге телефона Васи. Гарантируется, что каждая из записей соответствует одному из трех приведенных в условии форматов.\n",
    "\n",
    "#### Формат вывода:\n",
    "\n",
    "Для каждого телефонного номера в адресной книге выведите YES (заглавными буквами), если он совпадает с тем телефонным номером, который Вася хочет добавить в адресную книгу или NO (заглавными буквами) в противном случае. "
   ]
  },
  {
   "cell_type": "markdown",
   "id": "85606274",
   "metadata": {},
   "source": [
    "Пример 1:\n",
    "\n",
    "Ввод:\n",
    "\n",
    "`8(495)430-23-97`\n",
    "\n",
    "`+7-4-9-5-43-023-97`\n",
    "\n",
    "`4-3-0-2-3-9-7`\n",
    "\n",
    "`8-495-430`\n",
    "\n",
    "Вывод:\n",
    "\n",
    "`YES`\n",
    "\n",
    "`YES`\n",
    "\n",
    "`NO`\n",
    "\n",
    "Пример 2:\n",
    "\n",
    "Ввод:\n",
    "\n",
    "`86406361642`\n",
    "\n",
    "`83341994118`\n",
    "\n",
    "`86406361642`\n",
    "\n",
    "`83341994118`\n",
    "\n",
    "Вывод:\n",
    "\n",
    "`NO`\n",
    "\n",
    "`YES`\n",
    "\n",
    "`NO`\n",
    "\n",
    "Пример 3:\n",
    "\n",
    "Ввод:\n",
    "\n",
    "`+78047952807`\n",
    "\n",
    "`+78047952807`\n",
    "\n",
    "`+76147514928`\n",
    "\n",
    "`88047952807`\n",
    "\n",
    "Вывод:\n",
    "\n",
    "`YES`\n",
    "\n",
    "`NO`\n",
    "\n",
    "`YES`"
   ]
  },
  {
   "cell_type": "code",
   "execution_count": 12,
   "id": "a2875316",
   "metadata": {},
   "outputs": [
    {
     "name": "stdout",
     "output_type": "stream",
     "text": [
      "8(495)430-23-97\n",
      "+7-4-9-5-43-023-97\n",
      "4-3-0-2-3-9-7\n",
      "8-495-430\n"
     ]
    }
   ],
   "source": [
    "phone_list = []\n",
    "for _ in range(4):\n",
    "    phone_list.append(input())"
   ]
  },
  {
   "cell_type": "code",
   "execution_count": 13,
   "id": "34ad6539",
   "metadata": {},
   "outputs": [
    {
     "data": {
      "text/plain": [
       "['8(495)430-23-97', '+7-4-9-5-43-023-97', '4-3-0-2-3-9-7', '8-495-430']"
      ]
     },
     "execution_count": 13,
     "metadata": {},
     "output_type": "execute_result"
    }
   ],
   "source": [
    "phone_list"
   ]
  },
  {
   "cell_type": "code",
   "execution_count": 86,
   "id": "e013f7d0",
   "metadata": {},
   "outputs": [],
   "source": [
    "phone_list = ['8(495)430-23-97', '+7-4-9-5-43-023-97', '4-3-0-2-3-9-7', '8-495-430']"
   ]
  },
  {
   "cell_type": "code",
   "execution_count": 87,
   "id": "be078514",
   "metadata": {},
   "outputs": [],
   "source": [
    "def is_number_in(phone_list):\n",
    "    for i, number in enumerate(phone_list):\n",
    "        for symbol in [\"(\", \")\", \"-\", \"+\"]:\n",
    "            number = number.replace(symbol, \"\")\n",
    "        if len(number) == 7:\n",
    "            number = \"495\" + number\n",
    "        if len(number) == 11:\n",
    "            number = number[1:]\n",
    "        phone_list[i] = number\n",
    "    number_to_add = phone_list[0]\n",
    "    vasyas_phone_list = phone_list[1:]\n",
    "    for number in vasyas_phone_list:\n",
    "        if number_to_add == number:\n",
    "            print(\"YES\")\n",
    "        else:\n",
    "            print(\"NO\")"
   ]
  },
  {
   "cell_type": "code",
   "execution_count": 88,
   "id": "ec641a7d",
   "metadata": {},
   "outputs": [
    {
     "name": "stdout",
     "output_type": "stream",
     "text": [
      "YES\n",
      "YES\n",
      "NO\n"
     ]
    }
   ],
   "source": [
    "is_number_in(phone_list)"
   ]
  },
  {
   "cell_type": "code",
   "execution_count": 89,
   "id": "0368dee0",
   "metadata": {},
   "outputs": [
    {
     "name": "stdout",
     "output_type": "stream",
     "text": [
      "YES\n",
      "YES\n",
      "NO\n"
     ]
    }
   ],
   "source": [
    "# Test 1\n",
    "phone_list = ['8(495)430-23-97', '+7-4-9-5-43-023-97', '4-3-0-2-3-9-7', '8-495-430']\n",
    "is_number_in(phone_list)"
   ]
  },
  {
   "cell_type": "code",
   "execution_count": 90,
   "id": "996a47b6",
   "metadata": {},
   "outputs": [
    {
     "name": "stdout",
     "output_type": "stream",
     "text": [
      "NO\n",
      "YES\n",
      "NO\n"
     ]
    }
   ],
   "source": [
    "# Test 2\n",
    "phone_list = ['86406361642', '83341994118', '86406361642', '83341994118']\n",
    "is_number_in(phone_list)"
   ]
  },
  {
   "cell_type": "code",
   "execution_count": 91,
   "id": "1449fa25",
   "metadata": {},
   "outputs": [
    {
     "name": "stdout",
     "output_type": "stream",
     "text": [
      "YES\n",
      "NO\n",
      "YES\n"
     ]
    }
   ],
   "source": [
    "# Test 3\n",
    "phone_list = ['+78047952807', '+78047952807', '+76147514928', '88047952807']\n",
    "is_number_in(phone_list)"
   ]
  },
  {
   "cell_type": "code",
   "execution_count": null,
   "id": "3c9fa65b",
   "metadata": {},
   "outputs": [],
   "source": []
  }
 ],
 "metadata": {
  "kernelspec": {
   "display_name": "Python 3",
   "language": "python",
   "name": "python3"
  },
  "language_info": {
   "codemirror_mode": {
    "name": "ipython",
    "version": 3
   },
   "file_extension": ".py",
   "mimetype": "text/x-python",
   "name": "python",
   "nbconvert_exporter": "python",
   "pygments_lexer": "ipython3",
   "version": "3.8.8"
  }
 },
 "nbformat": 4,
 "nbformat_minor": 5
}
