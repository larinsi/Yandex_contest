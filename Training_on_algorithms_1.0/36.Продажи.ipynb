{
 "cells": [
  {
   "cell_type": "markdown",
   "id": "350e022e",
   "metadata": {},
   "source": [
    "### F. Продажи\n",
    "* Ограничение времени: 1 секунда\n",
    "* Ограничение памяти: 64Mb\n",
    "* Ввод: стандартный ввод или input.txt\n",
    "* Вывод: стандартный вывод или output.txt\n",
    "\n",
    "Дана база данных о продажах некоторого интернет-магазина. Каждая строка входного файла представляет собой запись вида Покупатель товар количество, где Покупатель — имя покупателя (строка без пробелов), товар — название товара (строка без пробелов), количество — количество приобретенных единиц товара. Создайте список всех покупателей, а для каждого покупателя подсчитайте количество приобретенных им единиц каждого вида товаров.\n",
    "#### Формат ввода\n",
    "\n",
    "Вводятся сведения о покупках в указанном формате.\n",
    "#### Формат вывода\n",
    "\n",
    "Выведите список всех покупателей в лексикографическом порядке, после имени каждого покупателя выведите двоеточие, затем выведите список названий всех приобретенных данным покупателем товаров в лексикографическом порядке, после названия каждого товара выведите количество единиц товара, приобретенных данным покупателем. Информация о каждом товаре выводится в отдельной строке. "
   ]
  },
  {
   "cell_type": "markdown",
   "id": "dc02ae02",
   "metadata": {},
   "source": [
    "Пример 1:\n",
    "\n",
    "Ввод:\n",
    "```\n",
    "Ivanov paper 10\n",
    "Petrov pens 5\n",
    "Ivanov marker 3\n",
    "Ivanov paper 7\n",
    "Petrov envelope 20\n",
    "Ivanov envelope 5\n",
    "```\n",
    "Вывод:\n",
    "```\n",
    "Ivanov:\n",
    "envelope 5\n",
    "marker 3\n",
    "paper 17\n",
    "Petrov:\n",
    "envelope 20\n",
    "pens 5\n",
    "```\n",
    "Пример 2:\n",
    "\n",
    "Ввод:\n",
    "```\n",
    "Ivanov aaa 1\n",
    "Petrov aaa 2\n",
    "Sidorov aaa 3\n",
    "Ivanov aaa 6\n",
    "Petrov aaa 7\n",
    "Sidorov aaa 8\n",
    "Ivanov bbb 3\n",
    "Petrov bbb 7\n",
    "Sidorov aaa 345\n",
    "Ivanov ccc 45\n",
    "Petrov ddd 34\n",
    "Ziborov eee 234\n",
    "Ivanov aaa 45\n",
    "```\n",
    "Вывод:\n",
    "```\n",
    "Ivanov:\n",
    "aaa 52\n",
    "bbb 3\n",
    "ccc 45\n",
    "Petrov:\n",
    "aaa 9\n",
    "bbb 7\n",
    "ddd 34\n",
    "Sidorov:\n",
    "aaa 356\n",
    "Ziborov:\n",
    "eee 234\n",
    "```"
   ]
  },
  {
   "cell_type": "code",
   "execution_count": 25,
   "id": "3f28c8fe",
   "metadata": {},
   "outputs": [],
   "source": [
    "def sales(text):\n",
    "    base = {}\n",
    "    text = text + \"\\n\"\n",
    "    start = 0\n",
    "    for i in range(len(text)):\n",
    "        if text[i] == \"\\n\":\n",
    "            name, product, number = text[start:i].split(\" \")\n",
    "            # print(name, product, number)\n",
    "            if name not in base.keys():\n",
    "                base[name] = {}\n",
    "            if product not in base[name].keys():\n",
    "                base[name][product] = 0\n",
    "            base[name][product] += int(number)\n",
    "            start = i + 1\n",
    "    names = list(base.keys())\n",
    "    names.sort()\n",
    "    for name in names:\n",
    "        print(name + \":\")\n",
    "        products = list(base[name].keys())\n",
    "        products.sort()\n",
    "        for product in products:\n",
    "            print(product + \" \" + str(base[name][product]))"
   ]
  },
  {
   "cell_type": "code",
   "execution_count": 32,
   "id": "6f980818",
   "metadata": {},
   "outputs": [
    {
     "data": {
      "text/plain": [
       "'TKSNUU FKXYPUGQ 855146\\nTKSNUU FKXYPUGQ 930060\\nTKSNUU FKXYPUGQ 886973\\nTKSNUU FKXYPUGQ 59344\\nTKSNUU FKXYPUGQ 296343\\nTKSNUU FKXYPUGQ 193166\\nTKSNUU FKXYPUGQ 211696\\nTKSNUU FKXYPUGQ 821064\\nTKSNUU FKXYPUGQ 672846\\nTKSNUU FKXYPUGQ 820341\\nTKSNUU FKXYPUGQ 350693\\nTKSNUU FKXYPUGQ 469538\\nTKSNUU FKXYPUGQ 849069\\nTKSNUU FKXYPUGQ 502007\\nTKSNUU FKXYPUGQ 961595\\nTKSNUU FKXYPUGQ 747271\\nTKSNUU FKXYPUGQ 863648\\nTKSNUU FKXYPUGQ 952069\\nTKSNUU FKXYPUGQ 286019\\nTKSNUU FKXYPUGQ 364841\\nTKSNUU FKXYPUGQ 455930\\nTKSNUU FKXYPUGQ 100486\\nTKSNUU FKXYPUGQ 335026\\nTKSNUU FKXYPUGQ 197672\\nTKSNUU FKXYPUGQ 217640\\nTKSNUU FKXYPUGQ 612549\\nTKSNUU FKXYPUGQ 622501\\nTKSNUU FKXYPUGQ 96554\\nTKSNUU FKXYPUGQ 327166\\nTKSNUU FKXYPUGQ 425399\\nTKSNUU FKXYPUGQ 362309\\nTKSNUU FKXYPUGQ 78477\\nTKSNUU FKXYPUGQ 258916\\nTKSNUU FKXYPUGQ 297923\\nTKSNUU FKXYPUGQ 8891\\nTKSNUU FKXYPUGQ 13639\\nTKSNUU FKXYPUGQ 77308\\nTKSNUU FKXYPUGQ 707620\\nTKSNUU FKXYPUGQ 68205\\nTKSNUU FKXYPUGQ 256702\\nTKSNUU FKXYPUGQ 668334\\nTKSNUU FKXYPUGQ 968673\\nTKSNUU FKXYPUGQ 138125\\nTKSNUU FKXYPUGQ 222904\\nTKSNUU FKXYPUGQ 214091\\nTKSNUU FKXYPUGQ 500231\\nTKSNUU FKXYPUGQ 19611\\nTKSNUU FKXYPUGQ 491343\\nTKSNUU FKXYPUGQ 404307\\nTKSNUU FKXYPUGQ 68367\\nTKSNUU FKXYPUGQ 287107\\nTKSNUU FKXYPUGQ 794935\\nTKSNUU FKXYPUGQ 254217\\nTKSNUU FKXYPUGQ 206370\\nTKSNUU FKXYPUGQ 202761\\nTKSNUU FKXYPUGQ 929017\\nTKSNUU FKXYPUGQ 843359\\nTKSNUU FKXYPUGQ 955269\\nTKSNUU FKXYPUGQ 134139\\nTKSNUU FKXYPUGQ 946168\\nTKSNUU FKXYPUGQ 967781\\nTKSNUU FKXYPUGQ 856474\\nTKSNUU FKXYPUGQ 465070\\nTKSNUU FKXYPUGQ 580526\\nTKSNUU FKXYPUGQ 172109\\nTKSNUU FKXYPUGQ 191703\\nTKSNUU FKXYPUGQ 207916\\nTKSNUU FKXYPUGQ 512264\\nTKSNUU FKXYPUGQ 533081\\nTKSNUU FKXYPUGQ 577208\\nTKSNUU FKXYPUGQ 831389\\nTKSNUU FKXYPUGQ 439158\\nTKSNUU FKXYPUGQ 565633\\nTKSNUU FKXYPUGQ 452643\\nTKSNUU FKXYPUGQ 164426\\nTKSNUU FKXYPUGQ 540743\\nTKSNUU FKXYPUGQ 880704\\nTKSNUU FKXYPUGQ 868529\\nTKSNUU FKXYPUGQ 240742\\nTKSNUU FKXYPUGQ 868865\\nTKSNUU FKXYPUGQ 910442\\nTKSNUU FKXYPUGQ 146737\\nTKSNUU FKXYPUGQ 820984\\nTKSNUU FKXYPUGQ 660948\\nTKSNUU FKXYPUGQ 957975\\nTKSNUU FKXYPUGQ 135847\\nTKSNUU FKXYPUGQ 401865\\nTKSNUU FKXYPUGQ 982859\\nTKSNUU FKXYPUGQ 748454\\nTKSNUU FKXYPUGQ 354734\\nTKSNUU FKXYPUGQ 525638\\nTKSNUU FKXYPUGQ 119140\\nTKSNUU FKXYPUGQ 484816\\nTKSNUU FKXYPUGQ 616539\\nTKSNUU FKXYPUGQ 682553\\nTKSNUU FKXYPUGQ 841541\\nTKSNUU FKXYPUGQ 713063\\nTKSNUU FKXYPUGQ 433453\\nTKSNUU FKXYPUGQ 465340\\nTKSNUU FKXYPUGQ 985635\\n'"
      ]
     },
     "execution_count": 32,
     "metadata": {},
     "output_type": "execute_result"
    }
   ],
   "source": [
    "with open(\"35.3.txt\", \"r\") as file:\n",
    "    text = file.read()\n",
    "text"
   ]
  },
  {
   "cell_type": "code",
   "execution_count": 33,
   "id": "54855930",
   "metadata": {},
   "outputs": [
    {
     "ename": "ValueError",
     "evalue": "not enough values to unpack (expected 3, got 1)",
     "output_type": "error",
     "traceback": [
      "\u001b[1;31m---------------------------------------------------------------------------\u001b[0m",
      "\u001b[1;31mValueError\u001b[0m                                Traceback (most recent call last)",
      "\u001b[1;32m<ipython-input-33-850858f9b915>\u001b[0m in \u001b[0;36m<module>\u001b[1;34m\u001b[0m\n\u001b[1;32m----> 1\u001b[1;33m \u001b[0msales\u001b[0m\u001b[1;33m(\u001b[0m\u001b[0mtext\u001b[0m\u001b[1;33m)\u001b[0m\u001b[1;33m\u001b[0m\u001b[1;33m\u001b[0m\u001b[0m\n\u001b[0m",
      "\u001b[1;32m<ipython-input-25-44bc9f94521e>\u001b[0m in \u001b[0;36msales\u001b[1;34m(text)\u001b[0m\n\u001b[0;32m      5\u001b[0m     \u001b[1;32mfor\u001b[0m \u001b[0mi\u001b[0m \u001b[1;32min\u001b[0m \u001b[0mrange\u001b[0m\u001b[1;33m(\u001b[0m\u001b[0mlen\u001b[0m\u001b[1;33m(\u001b[0m\u001b[0mtext\u001b[0m\u001b[1;33m)\u001b[0m\u001b[1;33m)\u001b[0m\u001b[1;33m:\u001b[0m\u001b[1;33m\u001b[0m\u001b[1;33m\u001b[0m\u001b[0m\n\u001b[0;32m      6\u001b[0m         \u001b[1;32mif\u001b[0m \u001b[0mtext\u001b[0m\u001b[1;33m[\u001b[0m\u001b[0mi\u001b[0m\u001b[1;33m]\u001b[0m \u001b[1;33m==\u001b[0m \u001b[1;34m\"\\n\"\u001b[0m\u001b[1;33m:\u001b[0m\u001b[1;33m\u001b[0m\u001b[1;33m\u001b[0m\u001b[0m\n\u001b[1;32m----> 7\u001b[1;33m             \u001b[0mname\u001b[0m\u001b[1;33m,\u001b[0m \u001b[0mproduct\u001b[0m\u001b[1;33m,\u001b[0m \u001b[0mnumber\u001b[0m \u001b[1;33m=\u001b[0m \u001b[0mtext\u001b[0m\u001b[1;33m[\u001b[0m\u001b[0mstart\u001b[0m\u001b[1;33m:\u001b[0m\u001b[0mi\u001b[0m\u001b[1;33m]\u001b[0m\u001b[1;33m.\u001b[0m\u001b[0msplit\u001b[0m\u001b[1;33m(\u001b[0m\u001b[1;34m\" \"\u001b[0m\u001b[1;33m)\u001b[0m\u001b[1;33m\u001b[0m\u001b[1;33m\u001b[0m\u001b[0m\n\u001b[0m\u001b[0;32m      8\u001b[0m             \u001b[1;31m# print(name, product, number)\u001b[0m\u001b[1;33m\u001b[0m\u001b[1;33m\u001b[0m\u001b[1;33m\u001b[0m\u001b[0m\n\u001b[0;32m      9\u001b[0m             \u001b[1;32mif\u001b[0m \u001b[0mname\u001b[0m \u001b[1;32mnot\u001b[0m \u001b[1;32min\u001b[0m \u001b[0mbase\u001b[0m\u001b[1;33m.\u001b[0m\u001b[0mkeys\u001b[0m\u001b[1;33m(\u001b[0m\u001b[1;33m)\u001b[0m\u001b[1;33m:\u001b[0m\u001b[1;33m\u001b[0m\u001b[1;33m\u001b[0m\u001b[0m\n",
      "\u001b[1;31mValueError\u001b[0m: not enough values to unpack (expected 3, got 1)"
     ]
    }
   ],
   "source": [
    "sales(text)"
   ]
  },
  {
   "cell_type": "code",
   "execution_count": null,
   "id": "8f1d4a71",
   "metadata": {},
   "outputs": [],
   "source": []
  }
 ],
 "metadata": {
  "kernelspec": {
   "display_name": "Python 3",
   "language": "python",
   "name": "python3"
  },
  "language_info": {
   "codemirror_mode": {
    "name": "ipython",
    "version": 3
   },
   "file_extension": ".py",
   "mimetype": "text/x-python",
   "name": "python",
   "nbconvert_exporter": "python",
   "pygments_lexer": "ipython3",
   "version": "3.8.8"
  }
 },
 "nbformat": 4,
 "nbformat_minor": 5
}
