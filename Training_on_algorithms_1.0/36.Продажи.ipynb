{
 "cells": [
  {
   "cell_type": "markdown",
   "id": "350e022e",
   "metadata": {},
   "source": [
    "### F. Продажи\n",
    "* Ограничение времени: 1 секунда\n",
    "* Ограничение памяти: 64Mb\n",
    "* Ввод: стандартный ввод или input.txt\n",
    "* Вывод: стандартный вывод или output.txt\n",
    "\n",
    "Дана база данных о продажах некоторого интернет-магазина. Каждая строка входного файла представляет собой запись вида Покупатель товар количество, где Покупатель — имя покупателя (строка без пробелов), товар — название товара (строка без пробелов), количество — количество приобретенных единиц товара. Создайте список всех покупателей, а для каждого покупателя подсчитайте количество приобретенных им единиц каждого вида товаров.\n",
    "#### Формат ввода\n",
    "\n",
    "Вводятся сведения о покупках в указанном формате.\n",
    "#### Формат вывода\n",
    "\n",
    "Выведите список всех покупателей в лексикографическом порядке, после имени каждого покупателя выведите двоеточие, затем выведите список названий всех приобретенных данным покупателем товаров в лексикографическом порядке, после названия каждого товара выведите количество единиц товара, приобретенных данным покупателем. Информация о каждом товаре выводится в отдельной строке. "
   ]
  },
  {
   "cell_type": "markdown",
   "id": "dc02ae02",
   "metadata": {},
   "source": [
    "Пример 1:\n",
    "\n",
    "Ввод:\n",
    "```\n",
    "Ivanov paper 10\n",
    "Petrov pens 5\n",
    "Ivanov marker 3\n",
    "Ivanov paper 7\n",
    "Petrov envelope 20\n",
    "Ivanov envelope 5\n",
    "```\n",
    "Вывод:\n",
    "```\n",
    "Ivanov:\n",
    "envelope 5\n",
    "marker 3\n",
    "paper 17\n",
    "Petrov:\n",
    "envelope 20\n",
    "pens 5\n",
    "```\n",
    "Пример 2:\n",
    "\n",
    "Ввод:\n",
    "```\n",
    "Ivanov aaa 1\n",
    "Petrov aaa 2\n",
    "Sidorov aaa 3\n",
    "Ivanov aaa 6\n",
    "Petrov aaa 7\n",
    "Sidorov aaa 8\n",
    "Ivanov bbb 3\n",
    "Petrov bbb 7\n",
    "Sidorov aaa 345\n",
    "Ivanov ccc 45\n",
    "Petrov ddd 34\n",
    "Ziborov eee 234\n",
    "Ivanov aaa 45\n",
    "```\n",
    "Вывод:\n",
    "```\n",
    "Ivanov:\n",
    "aaa 52\n",
    "bbb 3\n",
    "ccc 45\n",
    "Petrov:\n",
    "aaa 9\n",
    "bbb 7\n",
    "ddd 34\n",
    "Sidorov:\n",
    "aaa 356\n",
    "Ziborov:\n",
    "eee 234\n",
    "```"
   ]
  },
  {
   "cell_type": "code",
   "execution_count": 1,
   "id": "3f28c8fe",
   "metadata": {},
   "outputs": [],
   "source": [
    "def sales(text):\n",
    "    base = {}\n",
    "    start = 0\n",
    "    for i in range(len(text)):\n",
    "        if text[i] == \"\\n\":\n",
    "            name, product, number = text[start:i].split(\" \")\n",
    "            if name not in base.keys():\n",
    "                base[name] = {}\n",
    "            if product not in base[name].keys():\n",
    "                base[name][product] = 0\n",
    "            base[name][product] += int(number)\n",
    "            start = i + 1\n",
    "    names = list(base.keys())\n",
    "    names.sort()\n",
    "    for name in names:\n",
    "        print(name + \":\")\n",
    "        products = list(base[name].keys())\n",
    "        products.sort()\n",
    "        for product in products:\n",
    "            print(product + \" \" + str(base[name][product]))"
   ]
  },
  {
   "cell_type": "code",
   "execution_count": 3,
   "id": "6f980818",
   "metadata": {},
   "outputs": [],
   "source": [
    "with open(\"36.3.txt\", \"r\") as file:\n",
    "    text = file.read()"
   ]
  },
  {
   "cell_type": "code",
   "execution_count": 4,
   "id": "54855930",
   "metadata": {},
   "outputs": [
    {
     "name": "stdout",
     "output_type": "stream",
     "text": [
      "TKSNUU:\n",
      "FKXYPUGQ 49769497\n"
     ]
    }
   ],
   "source": [
    "sales(text)"
   ]
  },
  {
   "cell_type": "code",
   "execution_count": null,
   "id": "8f1d4a71",
   "metadata": {},
   "outputs": [],
   "source": []
  }
 ],
 "metadata": {
  "kernelspec": {
   "display_name": "Python 3",
   "language": "python",
   "name": "python3"
  },
  "language_info": {
   "codemirror_mode": {
    "name": "ipython",
    "version": 3
   },
   "file_extension": ".py",
   "mimetype": "text/x-python",
   "name": "python",
   "nbconvert_exporter": "python",
   "pygments_lexer": "ipython3",
   "version": "3.8.8"
  }
 },
 "nbformat": 4,
 "nbformat_minor": 5
}
