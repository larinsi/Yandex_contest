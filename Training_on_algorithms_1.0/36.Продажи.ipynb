{
 "cells": [
  {
   "cell_type": "markdown",
   "id": "b6a059d4",
   "metadata": {},
   "source": [
    "### F. Продажи\n",
    "* Ограничение времени: 1 секунда\n",
    "* Ограничение памяти: 64Mb\n",
    "* Ввод: стандартный ввод или input.txt\n",
    "* Вывод: стандартный вывод или output.txt\n",
    "\n",
    "Дана база данных о продажах некоторого интернет-магазина. Каждая строка входного файла представляет собой запись вида Покупатель товар количество, где Покупатель — имя покупателя (строка без пробелов), товар — название товара (строка без пробелов), количество — количество приобретенных единиц товара. Создайте список всех покупателей, а для каждого покупателя подсчитайте количество приобретенных им единиц каждого вида товаров.\n",
    "#### Формат ввода\n",
    "\n",
    "Вводятся сведения о покупках в указанном формате.\n",
    "#### Формат вывода\n",
    "\n",
    "Выведите список всех покупателей в лексикографическом порядке, после имени каждого покупателя выведите двоеточие, затем выведите список названий всех приобретенных данным покупателем товаров в лексикографическом порядке, после названия каждого товара выведите количество единиц товара, приобретенных данным покупателем. Информация о каждом товаре выводится в отдельной строке. "
   ]
  },
  {
   "cell_type": "markdown",
   "id": "7cde2bd3",
   "metadata": {},
   "source": [
    "Пример 1:\n",
    "\n",
    "Ввод:\n",
    "```\n",
    "Ivanov paper 10\n",
    "Petrov pens 5\n",
    "Ivanov marker 3\n",
    "Ivanov paper 7\n",
    "Petrov envelope 20\n",
    "Ivanov envelope 5\n",
    "```\n",
    "Вывод:\n",
    "```\n",
    "Ivanov:\n",
    "envelope 5\n",
    "marker 3\n",
    "paper 17\n",
    "Petrov:\n",
    "envelope 20\n",
    "pens 5\n",
    "```\n",
    "Пример 2:\n",
    "\n",
    "Ввод:\n",
    "```\n",
    "Ivanov aaa 1\n",
    "Petrov aaa 2\n",
    "Sidorov aaa 3\n",
    "Ivanov aaa 6\n",
    "Petrov aaa 7\n",
    "Sidorov aaa 8\n",
    "Ivanov bbb 3\n",
    "Petrov bbb 7\n",
    "Sidorov aaa 345\n",
    "Ivanov ccc 45\n",
    "Petrov ddd 34\n",
    "Ziborov eee 234\n",
    "Ivanov aaa 45\n",
    "```\n",
    "Вывод:\n",
    "```\n",
    "Ivanov:\n",
    "aaa 52\n",
    "bbb 3\n",
    "ccc 45\n",
    "Petrov:\n",
    "aaa 9\n",
    "bbb 7\n",
    "ddd 34\n",
    "Sidorov:\n",
    "aaa 356\n",
    "Ziborov:\n",
    "eee 234\n",
    "```"
   ]
  },
  {
   "cell_type": "code",
   "execution_count": null,
   "id": "3623b430",
   "metadata": {},
   "outputs": [],
   "source": []
  }
 ],
 "metadata": {
  "kernelspec": {
   "display_name": "Python 3",
   "language": "python",
   "name": "python3"
  },
  "language_info": {
   "codemirror_mode": {
    "name": "ipython",
    "version": 3
   },
   "file_extension": ".py",
   "mimetype": "text/x-python",
   "name": "python",
   "nbconvert_exporter": "python",
   "pygments_lexer": "ipython3",
   "version": "3.8.8"
  }
 },
 "nbformat": 4,
 "nbformat_minor": 5
}
