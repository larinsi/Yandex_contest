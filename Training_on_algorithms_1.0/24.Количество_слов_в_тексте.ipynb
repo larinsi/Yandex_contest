{
 "cells": [
  {
   "cell_type": "markdown",
   "id": "b78fb602",
   "metadata": {},
   "source": [
    "### D. Количество слов в тексте\n",
    "* Ограничение времени: 1 секунда\n",
    "* Ограничение памяти: 64Mb\n",
    "* Ввод: стандартный ввод или input.txt\n",
    "* Вывод: стандартный вывод или output.txt\n",
    "\n",
    "Во входном файле (вы можете читать данные из sys.stdin, подключив библиотеку sys) записан текст. Словом считается последовательность непробельных символов идущих подряд, слова разделены одним или большим числом пробелов или символами конца строки. Определите, сколько различных слов содержится в этом тексте.\n",
    "#### Формат ввода\n",
    "\n",
    "Вводится текст.\n",
    "#### Формат вывода\n",
    "\n",
    "Выведите ответ на задачу. "
   ]
  },
  {
   "cell_type": "markdown",
   "id": "d8f2e914",
   "metadata": {},
   "source": [
    "Пример 1:\n",
    "\n",
    "Ввод:\n",
    "```\n",
    "She sells sea shells on the sea shore;\n",
    "The shells that she sells are sea shells I'm sure.\n",
    "So if she sells sea shells on the sea shore,\n",
    "I'm sure that the shells are sea shore shells.\n",
    "```\n",
    "Вывод:\n",
    "```\n",
    "19\n",
    "```"
   ]
  },
  {
   "cell_type": "code",
   "execution_count": 13,
   "id": "f676cd30",
   "metadata": {},
   "outputs": [],
   "source": [
    "def words_in_text():\n",
    "    text = input() + \" \"\n",
    "    words = set()\n",
    "    start = 0\n",
    "    for i in range(len(text)):\n",
    "        if text[i] in [\" \", \"\\n\"]:\n",
    "            words.add(text[start:i])\n",
    "            start = i+1\n",
    "    print(len(words))"
   ]
  },
  {
   "cell_type": "code",
   "execution_count": 14,
   "id": "47af99d5",
   "metadata": {},
   "outputs": [
    {
     "name": "stdout",
     "output_type": "stream",
     "text": [
      "She sells sea shells on the sea shore; The shells that she sells are sea shells I'm sure. So if she sells sea shells on the sea shore, I'm sure that the shells are sea shore shells.\n",
      "19\n"
     ]
    }
   ],
   "source": [
    "words_in_text()"
   ]
  },
  {
   "cell_type": "code",
   "execution_count": null,
   "id": "0436034d",
   "metadata": {},
   "outputs": [],
   "source": []
  }
 ],
 "metadata": {
  "kernelspec": {
   "display_name": "Python 3",
   "language": "python",
   "name": "python3"
  },
  "language_info": {
   "codemirror_mode": {
    "name": "ipython",
    "version": 3
   },
   "file_extension": ".py",
   "mimetype": "text/x-python",
   "name": "python",
   "nbconvert_exporter": "python",
   "pygments_lexer": "ipython3",
   "version": "3.8.8"
  }
 },
 "nbformat": 4,
 "nbformat_minor": 5
}
