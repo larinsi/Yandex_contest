{
 "cells": [
  {
   "cell_type": "markdown",
   "id": "a998a2fa",
   "metadata": {},
   "source": [
    "### C. Самое частое слово\n",
    "* Ограничение времени: 1 секунда\n",
    "* Ограничение памяти: 64Mb\n",
    "* Ввод: стандартный ввод или input.txt\n",
    "* Вывод: стандартный вывод или output.txt\n",
    "\n",
    "Дан текст. Выведите слово, которое в этом тексте встречается чаще всего. Если таких слов несколько, выведите то, которое меньше в лексикографическом порядке.\n",
    "#### Формат ввода\n",
    "\n",
    "Вводится текст.\n",
    "#### Формат вывода\n",
    "\n",
    "Выведите ответ на задачу."
   ]
  },
  {
   "cell_type": "markdown",
   "id": "7479f931",
   "metadata": {},
   "source": [
    "Пример 1:\n",
    "\n",
    "Ввод:\n",
    "```\n",
    "apple orange banana banana orange\n",
    "```\n",
    "Вывод:\n",
    "```\n",
    "banana\n",
    "```\n",
    "Пример 2:\n",
    "\n",
    "Ввод:\n",
    "```\n",
    "oh you touch my tralala mmm my ding ding dong\n",
    "```\n",
    "Вывод:\n",
    "```\n",
    "ding\n",
    "```\n",
    "Пример 3:\n",
    "\n",
    "Ввод:\n",
    "```\n",
    "q w e r t y u i o p\n",
    "a s d f g h j k l\n",
    "z x c v b n m\n",
    "```\n",
    "Вывод:\n",
    "```\n",
    "a\n",
    "```"
   ]
  },
  {
   "cell_type": "code",
   "execution_count": 1,
   "id": "e6671631",
   "metadata": {},
   "outputs": [],
   "source": [
    "def most_common_word(text):\n",
    "    words = {}\n",
    "    result = []\n",
    "    most_frequent = 0\n",
    "    start = 0\n",
    "    for i in range(len(text)):\n",
    "        if text[i] in [\" \", \"\\n\"]:\n",
    "            if i == start:\n",
    "                start += 1\n",
    "                continue\n",
    "            if text[start:i] not in words.keys():\n",
    "                words[text[start:i]] = 0\n",
    "            words[text[start:i]] += 1\n",
    "            start = i + 1\n",
    "    for word in words.keys():\n",
    "        if words[word] > most_frequent:\n",
    "            result.clear()\n",
    "            result.append(word)\n",
    "            most_frequent = words[word]\n",
    "        elif words[word] == most_frequent:\n",
    "            result.append(word)\n",
    "    result.sort()\n",
    "    print(result[0])"
   ]
  },
  {
   "cell_type": "code",
   "execution_count": 2,
   "id": "f45f235b",
   "metadata": {},
   "outputs": [
    {
     "name": "stdout",
     "output_type": "stream",
     "text": [
      "a\n"
     ]
    }
   ],
   "source": [
    "with open(\"33.3.txt\", \"r\") as file:\n",
    "    text = file.read()\n",
    "    \n",
    "most_common_word(text)"
   ]
  },
  {
   "cell_type": "code",
   "execution_count": null,
   "id": "ddc994d0",
   "metadata": {},
   "outputs": [],
   "source": []
  }
 ],
 "metadata": {
  "kernelspec": {
   "display_name": "Python 3",
   "language": "python",
   "name": "python3"
  },
  "language_info": {
   "codemirror_mode": {
    "name": "ipython",
    "version": 3
   },
   "file_extension": ".py",
   "mimetype": "text/x-python",
   "name": "python",
   "nbconvert_exporter": "python",
   "pygments_lexer": "ipython3",
   "version": "3.8.8"
  }
 },
 "nbformat": 4,
 "nbformat_minor": 5
}
