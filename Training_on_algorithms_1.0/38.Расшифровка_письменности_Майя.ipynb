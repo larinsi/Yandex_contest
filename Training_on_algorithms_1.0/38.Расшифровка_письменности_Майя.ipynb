{
 "cells": [
  {
   "cell_type": "markdown",
   "id": "eb3882dd",
   "metadata": {},
   "source": [
    "### H. Расшифровка письменности Майя\n",
    "* Ограничение времени: 1 секунда\n",
    "* Ограничение памяти: 64Mb\n",
    "* Ввод: стандартный ввод или input.txt\n",
    "* Вывод: стандартный вывод или output.txt\n",
    "\n",
    "Расшифровка письменности Майя оказалась более сложной задачей, чем предполагалось ранними исследованиями. На протяжении более чем двух сотен лет удалось узнать не так уж много. Основные результаты были получены за последние 30 лет.\n",
    "\n",
    "Письменность Майя основывается на маленьких рисунках, известных как значки, которые обозначают звуки. Слова языка Майя обычно записываются с помощью этих значков, которые располагаются рядом друг с другом в некотором порядке.\n",
    "\n",
    "Одна из проблем расшифровки письменности Майя заключается в определении этого порядка. Рисуя значки некоторого слова, писатели Майя иногда выбирали позиции для значков, исходя скорее из эстетических взглядов, а не определенных правил. Это привело к тому, что, хотя звуки для многих значков известны, археологи не всегда уверены, как должно произноситься записанное слово.\n",
    "\n",
    "Археологи ищут некоторое слово W. Они знают значки для него, но не знают все возможные способы их расположения. Поскольку они знают, что Вы приедете на IOI ’06, они просят Вас о помощи. Они дадут Вам g значков, составляющих слово W, и последовательность S всех значков в надписи, которую они изучают, в порядке их появления. Помогите им, подсчитав количество возможных появлений слова W.\n",
    "\n",
    "Задание Напишите программу, которая по значкам слова W и по последовательности S значков надписи подсчитывает количество всех возможных вхождений слова W в S, то есть количество всех различных позиций идущих подряд g значков в последовательности S, которые являются какой-либо перестановкой значков слова W .\n",
    "#### Формат ввода\n",
    "\n",
    "1 ≤ g ≤ 3 000, g – количество значков в слове W\n",
    "\n",
    "g ≤ |S| ≤ 3 000 000 где |S| – количество значков в последовательности S\n",
    "\n",
    "На вход программы поступают данные в следующем формате:\n",
    "\n",
    "СТРОКА 1: Содержит два числа, разделенных пробелом – g и |S|. СТРОКА 2: Содержит g последовательных символов, с помощью которых записывается слово W . Допустимы символы: ‘a’-‘z’ и ‘A’-‘Z’; большие и маленькие буквы считаются различными. СТРОКА 3: Содержит |S| последовательных символов, которые представляют значки в надписи. Допустимы символы: ‘a’-‘z’ и ‘A’-‘Z’; большие и маленькие буквы считаются различными.\n",
    "#### Формат вывода\n",
    "\n",
    "Единственная строка выходных данных программы должна содержать количество возможных вхождений слова W в S. "
   ]
  },
  {
   "cell_type": "markdown",
   "id": "6595192b",
   "metadata": {},
   "source": [
    "Пример:\n",
    "\n",
    "Ввод:\n",
    "```\n",
    "4 11\n",
    "cAda\n",
    "AbrAcadAbRa\n",
    "\n",
    "```\n",
    "Вывод:\n",
    "```\n",
    "2\n",
    "```"
   ]
  },
  {
   "cell_type": "code",
   "execution_count": 3,
   "id": "96a78b56",
   "metadata": {},
   "outputs": [],
   "source": [
    "def maya(word, string):\n",
    "    def create_dict(text):\n",
    "        in_text = {}\n",
    "        for char in list(text):\n",
    "            if char not in in_text.keys():\n",
    "                in_text[char] = 0\n",
    "            in_text[char] += 1\n",
    "        return in_text\n",
    "    \n",
    "    in_word = create_dict(word)\n",
    "    in_string = create_dict(string)\n",
    "    \n",
    "    # print(in_word)\n",
    "    # print(in_string)\n",
    "    # нужно найти подстроку, которая содержит все значки слова в том количестве, в котором они присутствуют в слове"
   ]
  },
  {
   "cell_type": "code",
   "execution_count": 11,
   "id": "5c78bacf",
   "metadata": {},
   "outputs": [],
   "source": [
    "def maya(word, string):\n",
    "    word_chars = list(word)\n",
    "    to_find = word_chars.copy()\n",
    "    counter = 0\n",
    "    result = 0\n",
    "    for i in range(len(string)-len(word)):\n",
    "        if string[i] in word_chars:\n",
    "            for j in range(len(word)):\n",
    "                if string[i+j] in to_find:\n",
    "                    counter += 1\n",
    "                    to_find.remove(string[i+j])\n",
    "                    if counter == len(word):\n",
    "                        result += 1\n",
    "            to_find = word_chars.copy()\n",
    "    print(result)\n",
    "    # print(word_chars)"
   ]
  },
  {
   "cell_type": "code",
   "execution_count": 17,
   "id": "9279d081",
   "metadata": {},
   "outputs": [],
   "source": [
    "# Это работает, но бросает Time Limit\n",
    "def maya(word, string):\n",
    "    def create_dict(text):\n",
    "        in_text = {}\n",
    "        for char in list(text):\n",
    "            if char not in in_text.keys():\n",
    "                in_text[char] = 0\n",
    "            in_text[char] += 1\n",
    "        return in_text\n",
    "    \n",
    "    result = 0\n",
    "    in_word = create_dict(word)\n",
    "    for i in range(len(string)-len(word)+1):\n",
    "        if in_word == create_dict(string[i:i+len(word)]):\n",
    "            result += 1\n",
    "    print(result)\n",
    "    "
   ]
  },
  {
   "cell_type": "code",
   "execution_count": 2,
   "id": "fa29e60e",
   "metadata": {},
   "outputs": [
    {
     "name": "stdout",
     "output_type": "stream",
     "text": [
      "4 11\n",
      "cAda\n",
      "AbrAcadAbRa\n"
     ]
    }
   ],
   "source": [
    "g, s = list(map(int, input().split()))\n",
    "word = input()\n",
    "string = input()"
   ]
  },
  {
   "cell_type": "code",
   "execution_count": 18,
   "id": "797dfa6c",
   "metadata": {},
   "outputs": [
    {
     "name": "stdout",
     "output_type": "stream",
     "text": [
      "2\n"
     ]
    }
   ],
   "source": [
    "maya(word, string)"
   ]
  },
  {
   "cell_type": "code",
   "execution_count": null,
   "id": "21454cb5",
   "metadata": {},
   "outputs": [],
   "source": []
  }
 ],
 "metadata": {
  "kernelspec": {
   "display_name": "Python 3",
   "language": "python",
   "name": "python3"
  },
  "language_info": {
   "codemirror_mode": {
    "name": "ipython",
    "version": 3
   },
   "file_extension": ".py",
   "mimetype": "text/x-python",
   "name": "python",
   "nbconvert_exporter": "python",
   "pygments_lexer": "ipython3",
   "version": "3.8.8"
  }
 },
 "nbformat": 4,
 "nbformat_minor": 5
}
