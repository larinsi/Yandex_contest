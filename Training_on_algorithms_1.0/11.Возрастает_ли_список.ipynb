{
 "cells": [
  {
   "cell_type": "markdown",
   "id": "062cee96",
   "metadata": {},
   "source": [
    "### A. Возрастает ли список?\n",
    "* Ограничение времени: 1 секунда\n",
    "* Ограничение памяти: 64Mb\n",
    "* Ввод: стандартный ввод или input.txt\n",
    "* Вывод: стандартный вывод или output.txt\n",
    "\n",
    "Дан список. Определите, является ли он монотонно возрастающим(то есть верно ли, что каждый элемент этого списка больше предыдущего).\n",
    "\n",
    "Выведите YES, если массив монотонно возрастает и NO в противном случае."
   ]
  },
  {
   "cell_type": "markdown",
   "id": "49674e7e",
   "metadata": {},
   "source": [
    "Пример 1:\n",
    "\n",
    "Ввод:\n",
    "\n",
    "`1 7 9`\n",
    "\n",
    "Вывод:\n",
    "\n",
    "`YES`\n",
    "\n",
    "Пример 2:\n",
    "\n",
    "Ввод:\n",
    "\n",
    "`1 9 7`\n",
    "\n",
    "Вывод:\n",
    "\n",
    "`NO`\n",
    "\n",
    "Пример 3:\n",
    "\n",
    "Ввод:\n",
    "\n",
    "`2 2 2`\n",
    "\n",
    "Вывод:\n",
    "\n",
    "`NO`"
   ]
  },
  {
   "cell_type": "code",
   "execution_count": null,
   "id": "2176e8be",
   "metadata": {},
   "outputs": [],
   "source": []
  }
 ],
 "metadata": {
  "kernelspec": {
   "display_name": "Python 3",
   "language": "python",
   "name": "python3"
  },
  "language_info": {
   "codemirror_mode": {
    "name": "ipython",
    "version": 3
   },
   "file_extension": ".py",
   "mimetype": "text/x-python",
   "name": "python",
   "nbconvert_exporter": "python",
   "pygments_lexer": "ipython3",
   "version": "3.8.8"
  }
 },
 "nbformat": 4,
 "nbformat_minor": 5
}
