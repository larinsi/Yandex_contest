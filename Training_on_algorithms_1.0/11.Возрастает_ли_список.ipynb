{
 "cells": [
  {
   "cell_type": "markdown",
   "id": "25510a13",
   "metadata": {},
   "source": [
    "### A. Возрастает ли список?\n",
    "* Ограничение времени: 1 секунда\n",
    "* Ограничение памяти: 64Mb\n",
    "* Ввод: стандартный ввод или input.txt\n",
    "* Вывод: стандартный вывод или output.txt\n",
    "\n",
    "Дан список. Определите, является ли он монотонно возрастающим(то есть верно ли, что каждый элемент этого списка больше предыдущего).\n",
    "\n",
    "Выведите YES, если массив монотонно возрастает и NO в противном случае."
   ]
  },
  {
   "cell_type": "markdown",
   "id": "14584431",
   "metadata": {},
   "source": [
    "Пример 1:\n",
    "\n",
    "Ввод:\n",
    "\n",
    "`1 7 9`\n",
    "\n",
    "Вывод:\n",
    "\n",
    "`YES`\n",
    "\n",
    "Пример 2:\n",
    "\n",
    "Ввод:\n",
    "\n",
    "`1 9 7`\n",
    "\n",
    "Вывод:\n",
    "\n",
    "`NO`\n",
    "\n",
    "Пример 3:\n",
    "\n",
    "Ввод:\n",
    "\n",
    "`2 2 2`\n",
    "\n",
    "Вывод:\n",
    "\n",
    "`NO`"
   ]
  },
  {
   "cell_type": "code",
   "execution_count": 1,
   "id": "88505980",
   "metadata": {},
   "outputs": [
    {
     "name": "stdout",
     "output_type": "stream",
     "text": [
      "5 7 9\n"
     ]
    }
   ],
   "source": [
    "array = [int(i) for i in input().split(\" \")]"
   ]
  },
  {
   "cell_type": "code",
   "execution_count": 2,
   "id": "a5d88353",
   "metadata": {},
   "outputs": [],
   "source": [
    "def is_ascending(array: list):\n",
    "    elem = array[0]\n",
    "    for i in range(1, len(array)):\n",
    "        if array[i] <= elem:\n",
    "            return \"NO\"\n",
    "        else:\n",
    "            elem = array[i]\n",
    "    return \"YES\""
   ]
  },
  {
   "cell_type": "code",
   "execution_count": 3,
   "id": "57f0bd63",
   "metadata": {},
   "outputs": [
    {
     "name": "stdout",
     "output_type": "stream",
     "text": [
      "YES\n"
     ]
    }
   ],
   "source": [
    "# Test 1\n",
    "array = [1, 7, 9]\n",
    "print(is_ascending(array))\n",
    "# YES"
   ]
  },
  {
   "cell_type": "code",
   "execution_count": 4,
   "id": "ea02ebf1",
   "metadata": {},
   "outputs": [
    {
     "name": "stdout",
     "output_type": "stream",
     "text": [
      "NO\n"
     ]
    }
   ],
   "source": [
    "# Test 2\n",
    "array = [1, 9, 7]\n",
    "print(is_ascending(array))\n",
    "# NO"
   ]
  },
  {
   "cell_type": "code",
   "execution_count": 5,
   "id": "0cbe5feb",
   "metadata": {},
   "outputs": [
    {
     "name": "stdout",
     "output_type": "stream",
     "text": [
      "NO\n"
     ]
    }
   ],
   "source": [
    "# Test 3\n",
    "array = [2, 2, 2]\n",
    "print(is_ascending(array))\n",
    "# NO"
   ]
  },
  {
   "cell_type": "code",
   "execution_count": 6,
   "id": "5117b3f5",
   "metadata": {},
   "outputs": [
    {
     "name": "stdout",
     "output_type": "stream",
     "text": [
      "NO\n"
     ]
    }
   ],
   "source": [
    "# Test 4\n",
    "array = [1, 7, 9, 9]\n",
    "print(is_ascending(array))\n",
    "# NO"
   ]
  },
  {
   "cell_type": "code",
   "execution_count": null,
   "id": "4e9efa37",
   "metadata": {},
   "outputs": [],
   "source": []
  }
 ],
 "metadata": {
  "kernelspec": {
   "display_name": "Python 3",
   "language": "python",
   "name": "python3"
  },
  "language_info": {
   "codemirror_mode": {
    "name": "ipython",
    "version": 3
   },
   "file_extension": ".py",
   "mimetype": "text/x-python",
   "name": "python",
   "nbconvert_exporter": "python",
   "pygments_lexer": "ipython3",
   "version": "3.8.8"
  }
 },
 "nbformat": 4,
 "nbformat_minor": 5
}
